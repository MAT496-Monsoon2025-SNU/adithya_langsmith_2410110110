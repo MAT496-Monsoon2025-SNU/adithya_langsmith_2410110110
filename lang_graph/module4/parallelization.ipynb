{
 "cells": [
  {
   "cell_type": "markdown",
   "id": "0d0e279f",
   "metadata": {},
   "source": [
    "[![Open in Colab](https://colab.research.google.com/assets/colab-badge.svg)](https://colab.research.google.com/github/langchain-ai/langchain-academy/blob/main/module-4/parallelization.ipynb) [![Open in LangChain Academy](https://cdn.prod.website-files.com/65b8cd72835ceeacd4449a53/66e9eba12c7b7688aa3dbb5e_LCA-badge-green.svg)](https://academy.langchain.com/courses/take/intro-to-langgraph/lessons/58239934-lesson-1-parallelization)"
   ]
  },
  {
   "cell_type": "markdown",
   "id": "f4169bfb-769a-4db3-833e-c827f19024b2",
   "metadata": {},
   "source": [
    "# Parallel node execution\n",
    "\n",
    "## Review\n",
    "\n",
    "In module 3, we went in-depth on `human-in-the loop`, showing 3 common use-cases:\n",
    "\n",
    "(1) `Approval` - We can interrupt our agent, surface state to a user, and allow the user to accept an action\n",
    "\n",
    "(2) `Debugging` - We can rewind the graph to reproduce or avoid issues\n",
    "\n",
    "(3) `Editing` - You can modify the state \n",
    "\n",
    "## Goals\n",
    "\n",
    "This module will build on `human-in-the-loop` as well as the `memory` concepts discussed in module 2.\n",
    "\n",
    "We will dive into `multi-agent` workflows, and build up to a multi-agent research assistant that ties together all of the modules from this course.\n",
    "\n",
    "To build this multi-agent research assistant, we'll first discuss a few LangGraph controllability topics.\n",
    "\n",
    "We'll start with [parallelization](https://langchain-ai.github.io/langgraph/how-tos/branching/#how-to-create-branches-for-parallel-node-execution).\n",
    "\n",
    "## Fan out and fan in\n",
    "\n",
    "Let's build a simple linear graph that over-writes the state at each step."
   ]
  },
  {
   "cell_type": "code",
   "execution_count": 1,
   "id": "618eab5c-4ef7-4273-8e0b-a9c847897ed7",
   "metadata": {},
   "outputs": [
    {
     "name": "stderr",
     "output_type": "stream",
     "text": [
      "ERROR: pip's dependency resolver does not currently take into account all the packages that are installed. This behaviour is the source of the following dependency conflicts.\n",
      "langchain 0.3.27 requires langchain-core<1.0.0,>=0.3.72, but you have langchain-core 1.0.1 which is incompatible.\n",
      "langchain 0.3.27 requires langchain-text-splitters<1.0.0,>=0.3.9, but you have langchain-text-splitters 1.0.0 which is incompatible.\n",
      "\n",
      "[notice] A new release of pip is available: 25.2 -> 25.3\n",
      "[notice] To update, run: python.exe -m pip install --upgrade pip\n"
     ]
    }
   ],
   "source": [
    "%%capture --no-stderr\n",
    "%pip install -U  langgraph tavily-python wikipedia langchain_openai langchain_community langgraph_sdk"
   ]
  },
  {
   "cell_type": "code",
   "execution_count": 2,
   "id": "31bbec0d",
   "metadata": {},
   "outputs": [],
   "source": [
    "import os, getpass\n",
    "\n",
    "def _set_env(var: str):\n",
    "    if not os.environ.get(var):\n",
    "        os.environ[var] = getpass.getpass(f\"{var}: \")\n",
    "\n",
    "_set_env(\"OPENAI_API_KEY\")"
   ]
  },
  {
   "cell_type": "code",
   "execution_count": 25,
   "id": "1dd77093-1794-4bd7-8c57-58f59a74c20b",
   "metadata": {},
   "outputs": [
    {
     "data": {
      "image/png": "[encoded data removed]",
      "text/plain": [
       "<IPython.core.display.Image object>"
      ]
     },
     "metadata": {},
     "output_type": "display_data"
    }
   ],
   "source": [
    "from IPython.display import Image, display\n",
    "\n",
    "from typing import Any\n",
    "from typing_extensions import TypedDict\n",
    "\n",
    "from langgraph.graph import StateGraph, START, END\n",
    "\n",
    "class State(TypedDict):\n",
    "    # The operator.add reducer fn makes this append-only\n",
    "    state: str\n",
    "\n",
    "class ReturnNodeValue:\n",
    "    def __init__(self, node_secret: str):\n",
    "        self._value = node_secret\n",
    "\n",
    "    def __call__(self, state: State) -> Any:\n",
    "        print(f\"Adding {self._value} to {state['state']}\")\n",
    "        return {\"state\": [self._value]}\n",
    "\n",
    "# Add nodes\n",
    "builder = StateGraph(State)\n",
    "\n",
    "# Initialize each node with node_secret \n",
    "builder.add_node(\"a\", ReturnNodeValue(\"I'm A\"))\n",
    "builder.add_node(\"b\", ReturnNodeValue(\"I'm B\"))\n",
    "builder.add_node(\"c\", ReturnNodeValue(\"I'm C\"))\n",
    "builder.add_node(\"d\", ReturnNodeValue(\"I'm D\"))\n",
    "\n",
    "# Flow\n",
    "builder.add_edge(START, \"a\")\n",
    "builder.add_edge(\"a\", \"b\")\n",
    "builder.add_edge(\"b\", \"c\")\n",
    "builder.add_edge(\"c\", \"d\")\n",
    "builder.add_edge(\"d\", \"a\")\n",
    "graph = builder.compile()\n",
    "\n",
    "display(Image(graph.get_graph().draw_mermaid_png()))"
   ]
  },
  {
   "cell_type": "markdown",
   "id": "bdd027d3-ef9f-4d43-b190-e9f07d521e18",
   "metadata": {},
   "source": [
    "We over-write state, as expected."
   ]
  },
  {
   "cell_type": "code",
   "execution_count": 26,
   "id": "bf260088-90d5-45b2-93ab-42f241560840",
   "metadata": {},
   "outputs": [
    {
     "name": "stdout",
     "output_type": "stream",
     "text": [
      "Adding I'm A to []\n",
      "Adding I'm B to [\"I'm A\"]\n",
      "Adding I'm C to [\"I'm B\"]\n",
      "Adding I'm D to [\"I'm C\"]\n",
      "Adding I'm A to [\"I'm D\"]\n",
      "Adding I'm B to [\"I'm A\"]\n",
      "Adding I'm C to [\"I'm B\"]\n",
      "Adding I'm D to [\"I'm C\"]\n",
      "Adding I'm A to [\"I'm D\"]\n",
      "Adding I'm B to [\"I'm A\"]\n",
      "Adding I'm C to [\"I'm B\"]\n",
      "Adding I'm D to [\"I'm C\"]\n",
      "Adding I'm A to [\"I'm D\"]\n",
      "Adding I'm B to [\"I'm A\"]\n",
      "Adding I'm C to [\"I'm B\"]\n",
      "Adding I'm D to [\"I'm C\"]\n",
      "Adding I'm A to [\"I'm D\"]\n",
      "Adding I'm B to [\"I'm A\"]\n",
      "Adding I'm C to [\"I'm B\"]\n",
      "Adding I'm D to [\"I'm C\"]\n",
      "Adding I'm A to [\"I'm D\"]\n",
      "Adding I'm B to [\"I'm A\"]\n",
      "Adding I'm C to [\"I'm B\"]\n",
      "Adding I'm D to [\"I'm C\"]\n",
      "Adding I'm A to [\"I'm D\"]\n"
     ]
    },
    {
     "ename": "GraphRecursionError",
     "evalue": "Recursion limit of 25 reached without hitting a stop condition. You can increase the limit by setting the `recursion_limit` config key.\nFor troubleshooting, visit: https://python.langchain.com/docs/troubleshooting/errors/GRAPH_RECURSION_LIMIT",
     "output_type": "error",
     "traceback": [
      "\u001b[31m---------------------------------------------------------------------------\u001b[39m",
      "\u001b[31mGraphRecursionError\u001b[39m                       Traceback (most recent call last)",
      "\u001b[36mCell\u001b[39m\u001b[36m \u001b[39m\u001b[32mIn[26]\u001b[39m\u001b[32m, line 1\u001b[39m\n\u001b[32m----> \u001b[39m\u001b[32m1\u001b[39m \u001b[43mgraph\u001b[49m\u001b[43m.\u001b[49m\u001b[43minvoke\u001b[49m\u001b[43m(\u001b[49m\u001b[43m{\u001b[49m\u001b[33;43m\"\u001b[39;49m\u001b[33;43mstate\u001b[39;49m\u001b[33;43m\"\u001b[39;49m\u001b[43m:\u001b[49m\u001b[43m \u001b[49m\u001b[43m[\u001b[49m\u001b[43m]\u001b[49m\u001b[43m}\u001b[49m\u001b[43m)\u001b[49m\n",
      "\u001b[36mFile \u001b[39m\u001b[32mc:\\Users\\adith\\OneDrive\\Desktop\\langchain-academy-main\\langchain-academy-main\\lc-academy-env\\Lib\\site-packages\\langgraph\\pregel\\main.py:3094\u001b[39m, in \u001b[36mPregel.invoke\u001b[39m\u001b[34m(self, input, config, context, stream_mode, print_mode, output_keys, interrupt_before, interrupt_after, durability, **kwargs)\u001b[39m\n\u001b[32m   3091\u001b[39m chunks: \u001b[38;5;28mlist\u001b[39m[\u001b[38;5;28mdict\u001b[39m[\u001b[38;5;28mstr\u001b[39m, Any] | Any] = []\n\u001b[32m   3092\u001b[39m interrupts: \u001b[38;5;28mlist\u001b[39m[Interrupt] = []\n\u001b[32m-> \u001b[39m\u001b[32m3094\u001b[39m \u001b[43m\u001b[49m\u001b[38;5;28;43;01mfor\u001b[39;49;00m\u001b[43m \u001b[49m\u001b[43mchunk\u001b[49m\u001b[43m \u001b[49m\u001b[38;5;129;43;01min\u001b[39;49;00m\u001b[43m \u001b[49m\u001b[38;5;28;43mself\u001b[39;49m\u001b[43m.\u001b[49m\u001b[43mstream\u001b[49m\u001b[43m(\u001b[49m\n\u001b[32m   3095\u001b[39m \u001b[43m    \u001b[49m\u001b[38;5;28;43minput\u001b[39;49m\u001b[43m,\u001b[49m\n\u001b[32m   3096\u001b[39m \u001b[43m    \u001b[49m\u001b[43mconfig\u001b[49m\u001b[43m,\u001b[49m\n\u001b[32m   3097\u001b[39m \u001b[43m    \u001b[49m\u001b[43mcontext\u001b[49m\u001b[43m=\u001b[49m\u001b[43mcontext\u001b[49m\u001b[43m,\u001b[49m\n\u001b[32m   3098\u001b[39m \u001b[43m    \u001b[49m\u001b[43mstream_mode\u001b[49m\u001b[43m=\u001b[49m\u001b[43m[\u001b[49m\u001b[33;43m\"\u001b[39;49m\u001b[33;43mupdates\u001b[39;49m\u001b[33;43m\"\u001b[39;49m\u001b[43m,\u001b[49m\u001b[43m \u001b[49m\u001b[33;43m\"\u001b[39;49m\u001b[33;43mvalues\u001b[39;49m\u001b[33;43m\"\u001b[39;49m\u001b[43m]\u001b[49m\n\u001b[32m   3099\u001b[39m \u001b[43m    \u001b[49m\u001b[38;5;28;43;01mif\u001b[39;49;00m\u001b[43m \u001b[49m\u001b[43mstream_mode\u001b[49m\u001b[43m \u001b[49m\u001b[43m==\u001b[49m\u001b[43m \u001b[49m\u001b[33;43m\"\u001b[39;49m\u001b[33;43mvalues\u001b[39;49m\u001b[33;43m\"\u001b[39;49m\n\u001b[32m   3100\u001b[39m \u001b[43m    \u001b[49m\u001b[38;5;28;43;01melse\u001b[39;49;00m\u001b[43m \u001b[49m\u001b[43mstream_mode\u001b[49m\u001b[43m,\u001b[49m\n\u001b[32m   3101\u001b[39m \u001b[43m    \u001b[49m\u001b[43mprint_mode\u001b[49m\u001b[43m=\u001b[49m\u001b[43mprint_mode\u001b[49m\u001b[43m,\u001b[49m\n\u001b[32m   3102\u001b[39m \u001b[43m    \u001b[49m\u001b[43moutput_keys\u001b[49m\u001b[43m=\u001b[49m\u001b[43moutput_keys\u001b[49m\u001b[43m,\u001b[49m\n\u001b[32m   3103\u001b[39m \u001b[43m    \u001b[49m\u001b[43minterrupt_before\u001b[49m\u001b[43m=\u001b[49m\u001b[43minterrupt_before\u001b[49m\u001b[43m,\u001b[49m\n\u001b[32m   3104\u001b[39m \u001b[43m    \u001b[49m\u001b[43minterrupt_after\u001b[49m\u001b[43m=\u001b[49m\u001b[43minterrupt_after\u001b[49m\u001b[43m,\u001b[49m\n\u001b[32m   3105\u001b[39m \u001b[43m    \u001b[49m\u001b[43mdurability\u001b[49m\u001b[43m=\u001b[49m\u001b[43mdurability\u001b[49m\u001b[43m,\u001b[49m\n\u001b[32m   3106\u001b[39m \u001b[43m    \u001b[49m\u001b[43m*\u001b[49m\u001b[43m*\u001b[49m\u001b[43mkwargs\u001b[49m\u001b[43m,\u001b[49m\n\u001b[32m   3107\u001b[39m \u001b[43m\u001b[49m\u001b[43m)\u001b[49m\u001b[43m:\u001b[49m\n\u001b[32m   3108\u001b[39m \u001b[43m    \u001b[49m\u001b[38;5;28;43;01mif\u001b[39;49;00m\u001b[43m \u001b[49m\u001b[43mstream_mode\u001b[49m\u001b[43m \u001b[49m\u001b[43m==\u001b[49m\u001b[43m \u001b[49m\u001b[33;43m\"\u001b[39;49m\u001b[33;43mvalues\u001b[39;49m\u001b[33;43m\"\u001b[39;49m\u001b[43m:\u001b[49m\n\u001b[32m   3109\u001b[39m \u001b[43m        \u001b[49m\u001b[38;5;28;43;01mif\u001b[39;49;00m\u001b[43m \u001b[49m\u001b[38;5;28;43mlen\u001b[39;49m\u001b[43m(\u001b[49m\u001b[43mchunk\u001b[49m\u001b[43m)\u001b[49m\u001b[43m \u001b[49m\u001b[43m==\u001b[49m\u001b[43m \u001b[49m\u001b[32;43m2\u001b[39;49m\u001b[43m:\u001b[49m\n",
      "\u001b[36mFile \u001b[39m\u001b[32mc:\\Users\\adith\\OneDrive\\Desktop\\langchain-academy-main\\langchain-academy-main\\lc-academy-env\\Lib\\site-packages\\langgraph\\pregel\\main.py:2707\u001b[39m, in \u001b[36mPregel.stream\u001b[39m\u001b[34m(self, input, config, context, stream_mode, print_mode, output_keys, interrupt_before, interrupt_after, durability, subgraphs, debug, **kwargs)\u001b[39m\n\u001b[32m   2698\u001b[39m \u001b[38;5;28;01mif\u001b[39;00m loop.status == \u001b[33m\"\u001b[39m\u001b[33mout_of_steps\u001b[39m\u001b[33m\"\u001b[39m:\n\u001b[32m   2699\u001b[39m     msg = create_error_message(\n\u001b[32m   2700\u001b[39m         message=(\n\u001b[32m   2701\u001b[39m             \u001b[33mf\u001b[39m\u001b[33m\"\u001b[39m\u001b[33mRecursion limit of \u001b[39m\u001b[38;5;132;01m{\u001b[39;00mconfig[\u001b[33m'\u001b[39m\u001b[33mrecursion_limit\u001b[39m\u001b[33m'\u001b[39m]\u001b[38;5;132;01m}\u001b[39;00m\u001b[33m reached \u001b[39m\u001b[33m\"\u001b[39m\n\u001b[32m   (...)\u001b[39m\u001b[32m   2705\u001b[39m         error_code=ErrorCode.GRAPH_RECURSION_LIMIT,\n\u001b[32m   2706\u001b[39m     )\n\u001b[32m-> \u001b[39m\u001b[32m2707\u001b[39m     \u001b[38;5;28;01mraise\u001b[39;00m GraphRecursionError(msg)\n\u001b[32m   2708\u001b[39m \u001b[38;5;66;03m# set final channel values as run output\u001b[39;00m\n\u001b[32m   2709\u001b[39m run_manager.on_chain_end(loop.output)\n",
      "\u001b[31mGraphRecursionError\u001b[39m: Recursion limit of 25 reached without hitting a stop condition. You can increase the limit by setting the `recursion_limit` config key.\nFor troubleshooting, visit: https://python.langchain.com/docs/troubleshooting/errors/GRAPH_RECURSION_LIMIT"
     ]
    }
   ],
   "source": [
    "graph.invoke({\"state\": []})"
   ]
  },
  {
   "cell_type": "markdown",
   "id": "a9dec27d-dc43-4088-beb2-53ad090d2971",
   "metadata": {},
   "source": [
    "Now, let's run `b` and `c` in parallel. \n",
    "\n",
    "And then run `d`.\n",
    "\n",
    "We can do this easily with fan-out from `a` to `b` and `c`, and then fan-in to `d`.\n",
    "\n",
    "The the state updates are applied at the end of each step.\n",
    "\n",
    "Let's run it."
   ]
  },
  {
   "cell_type": "code",
   "execution_count": 5,
   "id": "8fdeaaab-a8c3-470f-89ef-9cf0a2760667",
   "metadata": {},
   "outputs": [
    {
     "data": {
      "image/png": "[encoded data removed]",
      "text/plain": [
       "<IPython.core.display.Image object>"
      ]
     },
     "metadata": {},
     "output_type": "display_data"
    }
   ],
   "source": [
    "builder = StateGraph(State)\n",
    "\n",
    "# Initialize each node with node_secret \n",
    "builder.add_node(\"a\", ReturnNodeValue(\"I'm A\"))\n",
    "builder.add_node(\"b\", ReturnNodeValue(\"I'm B\"))\n",
    "builder.add_node(\"c\", ReturnNodeValue(\"I'm C\"))\n",
    "builder.add_node(\"d\", ReturnNodeValue(\"I'm D\"))\n",
    "\n",
    "# Flow\n",
    "builder.add_edge(START, \"a\")\n",
    "builder.add_edge(\"a\", \"b\")\n",
    "builder.add_edge(\"a\", \"c\")\n",
    "builder.add_edge(\"b\", \"d\")\n",
    "builder.add_edge(\"c\", \"d\")\n",
    "builder.add_edge(\"d\", END)\n",
    "graph = builder.compile()\n",
    "\n",
    "display(Image(graph.get_graph().draw_mermaid_png()))"
   ]
  },
  {
   "cell_type": "markdown",
   "id": "35238fde-0230-4ae8-9200-158a8835c4f1",
   "metadata": {},
   "source": [
    "**We see an error**! \n",
    "\n",
    "This is because both `b` and `c` are writing to the same state key / channel in the same step. "
   ]
  },
  {
   "cell_type": "code",
   "execution_count": 6,
   "id": "9048b041-6849-4f09-9811-6b7a80f67859",
   "metadata": {},
   "outputs": [
    {
     "name": "stdout",
     "output_type": "stream",
     "text": [
      "Adding I'm A to []\n",
      "Adding I'm B to [\"I'm A\"]\n",
      "Adding I'm C to [\"I'm A\"]\n",
      "An error occurred: At key 'state': Can receive only one value per step. Use an Annotated key to handle multiple values.\n",
      "For troubleshooting, visit: https://python.langchain.com/docs/troubleshooting/errors/INVALID_CONCURRENT_GRAPH_UPDATE\n"
     ]
    }
   ],
   "source": [
    "from langgraph.errors import InvalidUpdateError\n",
    "try:\n",
    "    graph.invoke({\"state\": []})\n",
    "except InvalidUpdateError as e:\n",
    "    print(f\"An error occurred: {e}\")"
   ]
  },
  {
   "cell_type": "markdown",
   "id": "64cc329d-59fa-4c26-adcf-9122a824955d",
   "metadata": {},
   "source": [
    "When using fan out, we need to be sure that we are using a reducer if steps are writing to the same the channel / key. \n",
    "\n",
    "As we touched on in Module 2, `operator.add` is a function from Python's built-in operator module.\n",
    "\n",
    "When `operator.add` is applied to lists, it performs list concatenation."
   ]
  },
  {
   "cell_type": "code",
   "execution_count": 21,
   "id": "8f1292ac-510a-4801-b2a3-e2c6d2d9582a",
   "metadata": {},
   "outputs": [
    {
     "data": {
      "image/png": "[encoded data removed]",
      "text/plain": [
       "<IPython.core.display.Image object>"
      ]
     },
     "metadata": {},
     "output_type": "display_data"
    }
   ],
   "source": [
    "import operator\n",
    "from typing import Annotated\n",
    "\n",
    "class State(TypedDict):\n",
    "    # The operator.add reducer fn makes this append-only\n",
    "    state: Annotated[list, operator.add]\n",
    "\n",
    "# Add nodes\n",
    "builder = StateGraph(State)\n",
    "\n",
    "# Initialize each node with node_secret \n",
    "builder.add_node(\"a\", ReturnNodeValue(\"I'm A\"))\n",
    "builder.add_node(\"b\", ReturnNodeValue(\"I'm B\"))\n",
    "builder.add_node(\"c\", ReturnNodeValue(\"I'm C\"))\n",
    "builder.add_node(\"d\", ReturnNodeValue(\"I'm D\"))\n",
    "\n",
    "# Flow\n",
    "builder.add_edge(START, \"a\")\n",
    "builder.add_edge(\"a\", \"b\")\n",
    "builder.add_edge(\"a\", \"c\")\n",
    "builder.add_edge(\"c\", \"b\")\n",
    "builder.add_edge(\"b\", \"d\")\n",
    "builder.add_edge(\"c\", \"d\")\n",
    "builder.add_edge(\"a\", \"d\")\n",
    "builder.add_edge(\"d\", END)\n",
    "graph = builder.compile()\n",
    "\n",
    "display(Image(graph.get_graph().draw_mermaid_png()))"
   ]
  },
  {
   "cell_type": "code",
   "execution_count": 22,
   "id": "ffbad231-fc1d-49b1-a9fc-ed9153fa3977",
   "metadata": {},
   "outputs": [
    {
     "name": "stdout",
     "output_type": "stream",
     "text": [
      "Adding I'm A to []\n",
      "Adding I'm B to [\"I'm A\"]\n",
      "Adding I'm C to [\"I'm A\"]\n",
      "Adding I'm D to [\"I'm A\"]\n",
      "Adding I'm D to [\"I'm A\", \"I'm B\", \"I'm C\", \"I'm D\"]\n",
      "Adding I'm B to [\"I'm A\", \"I'm B\", \"I'm C\", \"I'm D\"]\n",
      "Adding I'm D to [\"I'm A\", \"I'm B\", \"I'm C\", \"I'm D\", \"I'm B\", \"I'm D\"]\n"
     ]
    },
    {
     "data": {
      "text/plain": [
       "{'state': [\"I'm A\", \"I'm B\", \"I'm C\", \"I'm D\", \"I'm B\", \"I'm D\", \"I'm D\"]}"
      ]
     },
     "execution_count": 22,
     "metadata": {},
     "output_type": "execute_result"
    }
   ],
   "source": [
    "graph.invoke({\"state\": []})"
   ]
  },
  {
   "cell_type": "code",
   "execution_count": 23,
   "id": "af633214",
   "metadata": {},
   "outputs": [
    {
     "data": {
      "image/png": "[encoded data removed]",
      "text/plain": [
       "<IPython.core.display.Image object>"
      ]
     },
     "metadata": {},
     "output_type": "display_data"
    }
   ],
   "source": [
    "\n",
    "class State(TypedDict):\n",
    "    # The operator.add reducer fn makes this append-only\n",
    "    state: Annotated[list, operator.add]\n",
    "\n",
    "# Add nodes\n",
    "builder = StateGraph(State)\n",
    "\n",
    "# Initialize each node with node_secret \n",
    "builder.add_node(\"a\", ReturnNodeValue(\"I'm A\"))\n",
    "builder.add_node(\"b\", ReturnNodeValue(\"I'm B\"))\n",
    "builder.add_node(\"c\", ReturnNodeValue(\"I'm C\"))\n",
    "builder.add_node(\"d\", ReturnNodeValue(\"I'm D\"))\n",
    "\n",
    "# Flow\n",
    "builder.add_edge(START, \"a\")\n",
    "builder.add_edge(\"a\", \"b\")\n",
    "builder.add_edge(\"a\", \"c\")\n",
    "builder.add_edge(\"c\", \"b\")\n",
    "builder.add_edge(\"b\", \"d\")\n",
    "builder.add_edge(\"c\", \"d\")\n",
    "builder.add_edge(\"d\", \"a\")\n",
    "builder.add_edge(\"d\", END)\n",
    "graph = builder.compile()\n",
    "\n",
    "display(Image(graph.get_graph().draw_mermaid_png()))\n",
    "\n"
   ]
  },
  {
   "cell_type": "code",
   "execution_count": 24,
   "id": "33f24e61",
   "metadata": {},
   "outputs": [
    {
     "name": "stdout",
     "output_type": "stream",
     "text": [
      "Adding I'm A to []\n",
      "Adding I'm B to [\"I'm A\"]\n",
      "Adding I'm C to [\"I'm A\"]\n",
      "Adding I'm B to [\"I'm A\", \"I'm B\", \"I'm C\"]\n",
      "Adding I'm D to [\"I'm A\", \"I'm B\", \"I'm C\"]\n",
      "Adding I'm A to [\"I'm A\", \"I'm B\", \"I'm C\", \"I'm B\", \"I'm D\"]\n",
      "Adding I'm D to [\"I'm A\", \"I'm B\", \"I'm C\", \"I'm B\", \"I'm D\"]\n",
      "Adding I'm C to [\"I'm A\", \"I'm B\", \"I'm C\", \"I'm B\", \"I'm D\", \"I'm A\", \"I'm D\"]\n",
      "Adding I'm A to [\"I'm A\", \"I'm B\", \"I'm C\", \"I'm B\", \"I'm D\", \"I'm A\", \"I'm D\"]\n",
      "Adding I'm B to [\"I'm A\", \"I'm B\", \"I'm C\", \"I'm B\", \"I'm D\", \"I'm A\", \"I'm D\"]\n",
      "Adding I'm B to [\"I'm A\", \"I'm B\", \"I'm C\", \"I'm B\", \"I'm D\", \"I'm A\", \"I'm D\", \"I'm A\", \"I'm B\", \"I'm C\"]\n",
      "Adding I'm C to [\"I'm A\", \"I'm B\", \"I'm C\", \"I'm B\", \"I'm D\", \"I'm A\", \"I'm D\", \"I'm A\", \"I'm B\", \"I'm C\"]\n",
      "Adding I'm D to [\"I'm A\", \"I'm B\", \"I'm C\", \"I'm B\", \"I'm D\", \"I'm A\", \"I'm D\", \"I'm A\", \"I'm B\", \"I'm C\"]\n",
      "Adding I'm A to [\"I'm A\", \"I'm B\", \"I'm C\", \"I'm B\", \"I'm D\", \"I'm A\", \"I'm D\", \"I'm A\", \"I'm B\", \"I'm C\", \"I'm B\", \"I'm C\", \"I'm D\"]\n",
      "Adding I'm B to [\"I'm A\", \"I'm B\", \"I'm C\", \"I'm B\", \"I'm D\", \"I'm A\", \"I'm D\", \"I'm A\", \"I'm B\", \"I'm C\", \"I'm B\", \"I'm C\", \"I'm D\"]\n",
      "Adding I'm D to [\"I'm A\", \"I'm B\", \"I'm C\", \"I'm B\", \"I'm D\", \"I'm A\", \"I'm D\", \"I'm A\", \"I'm B\", \"I'm C\", \"I'm B\", \"I'm C\", \"I'm D\"]\n",
      "Adding I'm A to [\"I'm A\", \"I'm B\", \"I'm C\", \"I'm B\", \"I'm D\", \"I'm A\", \"I'm D\", \"I'm A\", \"I'm B\", \"I'm C\", \"I'm B\", \"I'm C\", \"I'm D\", \"I'm A\", \"I'm B\", \"I'm D\"]\n",
      "Adding I'm D to [\"I'm A\", \"I'm B\", \"I'm C\", \"I'm B\", \"I'm D\", \"I'm A\", \"I'm D\", \"I'm A\", \"I'm B\", \"I'm C\", \"I'm B\", \"I'm C\", \"I'm D\", \"I'm A\", \"I'm B\", \"I'm D\"]\n",
      "Adding I'm C to [\"I'm A\", \"I'm B\", \"I'm C\", \"I'm B\", \"I'm D\", \"I'm A\", \"I'm D\", \"I'm A\", \"I'm B\", \"I'm C\", \"I'm B\", \"I'm C\", \"I'm D\", \"I'm A\", \"I'm B\", \"I'm D\"]\n",
      "Adding I'm B to [\"I'm A\", \"I'm B\", \"I'm C\", \"I'm B\", \"I'm D\", \"I'm A\", \"I'm D\", \"I'm A\", \"I'm B\", \"I'm C\", \"I'm B\", \"I'm C\", \"I'm D\", \"I'm A\", \"I'm B\", \"I'm D\"]\n",
      "Adding I'm A to [\"I'm A\", \"I'm B\", \"I'm C\", \"I'm B\", \"I'm D\", \"I'm A\", \"I'm D\", \"I'm A\", \"I'm B\", \"I'm C\", \"I'm B\", \"I'm C\", \"I'm D\", \"I'm A\", \"I'm B\", \"I'm D\", \"I'm A\", \"I'm B\", \"I'm C\", \"I'm D\"]\n",
      "Adding I'm B to [\"I'm A\", \"I'm B\", \"I'm C\", \"I'm B\", \"I'm D\", \"I'm A\", \"I'm D\", \"I'm A\", \"I'm B\", \"I'm C\", \"I'm B\", \"I'm C\", \"I'm D\", \"I'm A\", \"I'm B\", \"I'm D\", \"I'm A\", \"I'm B\", \"I'm C\", \"I'm D\"]\n",
      "Adding I'm C to [\"I'm A\", \"I'm B\", \"I'm C\", \"I'm B\", \"I'm D\", \"I'm A\", \"I'm D\", \"I'm A\", \"I'm B\", \"I'm C\", \"I'm B\", \"I'm C\", \"I'm D\", \"I'm A\", \"I'm B\", \"I'm D\", \"I'm A\", \"I'm B\", \"I'm C\", \"I'm D\"]\n",
      "Adding I'm D to [\"I'm A\", \"I'm B\", \"I'm C\", \"I'm B\", \"I'm D\", \"I'm A\", \"I'm D\", \"I'm A\", \"I'm B\", \"I'm C\", \"I'm B\", \"I'm C\", \"I'm D\", \"I'm A\", \"I'm B\", \"I'm D\", \"I'm A\", \"I'm B\", \"I'm C\", \"I'm D\"]\n",
      "Adding I'm A to [\"I'm A\", \"I'm B\", \"I'm C\", \"I'm B\", \"I'm D\", \"I'm A\", \"I'm D\", \"I'm A\", \"I'm B\", \"I'm C\", \"I'm B\", \"I'm C\", \"I'm D\", \"I'm A\", \"I'm B\", \"I'm D\", \"I'm A\", \"I'm B\", \"I'm C\", \"I'm D\", \"I'm A\", \"I'm B\", \"I'm C\", \"I'm D\"]\n",
      "Adding I'm B to [\"I'm A\", \"I'm B\", \"I'm C\", \"I'm B\", \"I'm D\", \"I'm A\", \"I'm D\", \"I'm A\", \"I'm B\", \"I'm C\", \"I'm B\", \"I'm C\", \"I'm D\", \"I'm A\", \"I'm B\", \"I'm D\", \"I'm A\", \"I'm B\", \"I'm C\", \"I'm D\", \"I'm A\", \"I'm B\", \"I'm C\", \"I'm D\"]\n",
      "Adding I'm C to [\"I'm A\", \"I'm B\", \"I'm C\", \"I'm B\", \"I'm D\", \"I'm A\", \"I'm D\", \"I'm A\", \"I'm B\", \"I'm C\", \"I'm B\", \"I'm C\", \"I'm D\", \"I'm A\", \"I'm B\", \"I'm D\", \"I'm A\", \"I'm B\", \"I'm C\", \"I'm D\", \"I'm A\", \"I'm B\", \"I'm C\", \"I'm D\"]\n",
      "Adding I'm D to [\"I'm A\", \"I'm B\", \"I'm C\", \"I'm B\", \"I'm D\", \"I'm A\", \"I'm D\", \"I'm A\", \"I'm B\", \"I'm C\", \"I'm B\", \"I'm C\", \"I'm D\", \"I'm A\", \"I'm B\", \"I'm D\", \"I'm A\", \"I'm B\", \"I'm C\", \"I'm D\", \"I'm A\", \"I'm B\", \"I'm C\", \"I'm D\"]\n",
      "Adding I'm A to [\"I'm A\", \"I'm B\", \"I'm C\", \"I'm B\", \"I'm D\", \"I'm A\", \"I'm D\", \"I'm A\", \"I'm B\", \"I'm C\", \"I'm B\", \"I'm C\", \"I'm D\", \"I'm A\", \"I'm B\", \"I'm D\", \"I'm A\", \"I'm B\", \"I'm C\", \"I'm D\", \"I'm A\", \"I'm B\", \"I'm C\", \"I'm D\", \"I'm A\", \"I'm B\", \"I'm C\", \"I'm D\"]\n",
      "Adding I'm B to [\"I'm A\", \"I'm B\", \"I'm C\", \"I'm B\", \"I'm D\", \"I'm A\", \"I'm D\", \"I'm A\", \"I'm B\", \"I'm C\", \"I'm B\", \"I'm C\", \"I'm D\", \"I'm A\", \"I'm B\", \"I'm D\", \"I'm A\", \"I'm B\", \"I'm C\", \"I'm D\", \"I'm A\", \"I'm B\", \"I'm C\", \"I'm D\", \"I'm A\", \"I'm B\", \"I'm C\", \"I'm D\"]\n",
      "Adding I'm C to [\"I'm A\", \"I'm B\", \"I'm C\", \"I'm B\", \"I'm D\", \"I'm A\", \"I'm D\", \"I'm A\", \"I'm B\", \"I'm C\", \"I'm B\", \"I'm C\", \"I'm D\", \"I'm A\", \"I'm B\", \"I'm D\", \"I'm A\", \"I'm B\", \"I'm C\", \"I'm D\", \"I'm A\", \"I'm B\", \"I'm C\", \"I'm D\", \"I'm A\", \"I'm B\", \"I'm C\", \"I'm D\"]\n",
      "Adding I'm D to [\"I'm A\", \"I'm B\", \"I'm C\", \"I'm B\", \"I'm D\", \"I'm A\", \"I'm D\", \"I'm A\", \"I'm B\", \"I'm C\", \"I'm B\", \"I'm C\", \"I'm D\", \"I'm A\", \"I'm B\", \"I'm D\", \"I'm A\", \"I'm B\", \"I'm C\", \"I'm D\", \"I'm A\", \"I'm B\", \"I'm C\", \"I'm D\", \"I'm A\", \"I'm B\", \"I'm C\", \"I'm D\"]\n",
      "Adding I'm A to [\"I'm A\", \"I'm B\", \"I'm C\", \"I'm B\", \"I'm D\", \"I'm A\", \"I'm D\", \"I'm A\", \"I'm B\", \"I'm C\", \"I'm B\", \"I'm C\", \"I'm D\", \"I'm A\", \"I'm B\", \"I'm D\", \"I'm A\", \"I'm B\", \"I'm C\", \"I'm D\", \"I'm A\", \"I'm B\", \"I'm C\", \"I'm D\", \"I'm A\", \"I'm B\", \"I'm C\", \"I'm D\", \"I'm A\", \"I'm B\", \"I'm C\", \"I'm D\"]\n",
      "Adding I'm B to [\"I'm A\", \"I'm B\", \"I'm C\", \"I'm B\", \"I'm D\", \"I'm A\", \"I'm D\", \"I'm A\", \"I'm B\", \"I'm C\", \"I'm B\", \"I'm C\", \"I'm D\", \"I'm A\", \"I'm B\", \"I'm D\", \"I'm A\", \"I'm B\", \"I'm C\", \"I'm D\", \"I'm A\", \"I'm B\", \"I'm C\", \"I'm D\", \"I'm A\", \"I'm B\", \"I'm C\", \"I'm D\", \"I'm A\", \"I'm B\", \"I'm C\", \"I'm D\"]\n",
      "Adding I'm C to [\"I'm A\", \"I'm B\", \"I'm C\", \"I'm B\", \"I'm D\", \"I'm A\", \"I'm D\", \"I'm A\", \"I'm B\", \"I'm C\", \"I'm B\", \"I'm C\", \"I'm D\", \"I'm A\", \"I'm B\", \"I'm D\", \"I'm A\", \"I'm B\", \"I'm C\", \"I'm D\", \"I'm A\", \"I'm B\", \"I'm C\", \"I'm D\", \"I'm A\", \"I'm B\", \"I'm C\", \"I'm D\", \"I'm A\", \"I'm B\", \"I'm C\", \"I'm D\"]\n",
      "Adding I'm D to [\"I'm A\", \"I'm B\", \"I'm C\", \"I'm B\", \"I'm D\", \"I'm A\", \"I'm D\", \"I'm A\", \"I'm B\", \"I'm C\", \"I'm B\", \"I'm C\", \"I'm D\", \"I'm A\", \"I'm B\", \"I'm D\", \"I'm A\", \"I'm B\", \"I'm C\", \"I'm D\", \"I'm A\", \"I'm B\", \"I'm C\", \"I'm D\", \"I'm A\", \"I'm B\", \"I'm C\", \"I'm D\", \"I'm A\", \"I'm B\", \"I'm C\", \"I'm D\"]\n",
      "Adding I'm A to [\"I'm A\", \"I'm B\", \"I'm C\", \"I'm B\", \"I'm D\", \"I'm A\", \"I'm D\", \"I'm A\", \"I'm B\", \"I'm C\", \"I'm B\", \"I'm C\", \"I'm D\", \"I'm A\", \"I'm B\", \"I'm D\", \"I'm A\", \"I'm B\", \"I'm C\", \"I'm D\", \"I'm A\", \"I'm B\", \"I'm C\", \"I'm D\", \"I'm A\", \"I'm B\", \"I'm C\", \"I'm D\", \"I'm A\", \"I'm B\", \"I'm C\", \"I'm D\", \"I'm A\", \"I'm B\", \"I'm C\", \"I'm D\"]\n",
      "Adding I'm B to [\"I'm A\", \"I'm B\", \"I'm C\", \"I'm B\", \"I'm D\", \"I'm A\", \"I'm D\", \"I'm A\", \"I'm B\", \"I'm C\", \"I'm B\", \"I'm C\", \"I'm D\", \"I'm A\", \"I'm B\", \"I'm D\", \"I'm A\", \"I'm B\", \"I'm C\", \"I'm D\", \"I'm A\", \"I'm B\", \"I'm C\", \"I'm D\", \"I'm A\", \"I'm B\", \"I'm C\", \"I'm D\", \"I'm A\", \"I'm B\", \"I'm C\", \"I'm D\", \"I'm A\", \"I'm B\", \"I'm C\", \"I'm D\"]\n",
      "Adding I'm D to [\"I'm A\", \"I'm B\", \"I'm C\", \"I'm B\", \"I'm D\", \"I'm A\", \"I'm D\", \"I'm A\", \"I'm B\", \"I'm C\", \"I'm B\", \"I'm C\", \"I'm D\", \"I'm A\", \"I'm B\", \"I'm D\", \"I'm A\", \"I'm B\", \"I'm C\", \"I'm D\", \"I'm A\", \"I'm B\", \"I'm C\", \"I'm D\", \"I'm A\", \"I'm B\", \"I'm C\", \"I'm D\", \"I'm A\", \"I'm B\", \"I'm C\", \"I'm D\", \"I'm A\", \"I'm B\", \"I'm C\", \"I'm D\"]\n",
      "Adding I'm C to [\"I'm A\", \"I'm B\", \"I'm C\", \"I'm B\", \"I'm D\", \"I'm A\", \"I'm D\", \"I'm A\", \"I'm B\", \"I'm C\", \"I'm B\", \"I'm C\", \"I'm D\", \"I'm A\", \"I'm B\", \"I'm D\", \"I'm A\", \"I'm B\", \"I'm C\", \"I'm D\", \"I'm A\", \"I'm B\", \"I'm C\", \"I'm D\", \"I'm A\", \"I'm B\", \"I'm C\", \"I'm D\", \"I'm A\", \"I'm B\", \"I'm C\", \"I'm D\", \"I'm A\", \"I'm B\", \"I'm C\", \"I'm D\"]\n",
      "Adding I'm A to [\"I'm A\", \"I'm B\", \"I'm C\", \"I'm B\", \"I'm D\", \"I'm A\", \"I'm D\", \"I'm A\", \"I'm B\", \"I'm C\", \"I'm B\", \"I'm C\", \"I'm D\", \"I'm A\", \"I'm B\", \"I'm D\", \"I'm A\", \"I'm B\", \"I'm C\", \"I'm D\", \"I'm A\", \"I'm B\", \"I'm C\", \"I'm D\", \"I'm A\", \"I'm B\", \"I'm C\", \"I'm D\", \"I'm A\", \"I'm B\", \"I'm C\", \"I'm D\", \"I'm A\", \"I'm B\", \"I'm C\", \"I'm D\", \"I'm A\", \"I'm B\", \"I'm C\", \"I'm D\"]\n",
      "Adding I'm B to [\"I'm A\", \"I'm B\", \"I'm C\", \"I'm B\", \"I'm D\", \"I'm A\", \"I'm D\", \"I'm A\", \"I'm B\", \"I'm C\", \"I'm B\", \"I'm C\", \"I'm D\", \"I'm A\", \"I'm B\", \"I'm D\", \"I'm A\", \"I'm B\", \"I'm C\", \"I'm D\", \"I'm A\", \"I'm B\", \"I'm C\", \"I'm D\", \"I'm A\", \"I'm B\", \"I'm C\", \"I'm D\", \"I'm A\", \"I'm B\", \"I'm C\", \"I'm D\", \"I'm A\", \"I'm B\", \"I'm C\", \"I'm D\", \"I'm A\", \"I'm B\", \"I'm C\", \"I'm D\"]\n",
      "Adding I'm C to [\"I'm A\", \"I'm B\", \"I'm C\", \"I'm B\", \"I'm D\", \"I'm A\", \"I'm D\", \"I'm A\", \"I'm B\", \"I'm C\", \"I'm B\", \"I'm C\", \"I'm D\", \"I'm A\", \"I'm B\", \"I'm D\", \"I'm A\", \"I'm B\", \"I'm C\", \"I'm D\", \"I'm A\", \"I'm B\", \"I'm C\", \"I'm D\", \"I'm A\", \"I'm B\", \"I'm C\", \"I'm D\", \"I'm A\", \"I'm B\", \"I'm C\", \"I'm D\", \"I'm A\", \"I'm B\", \"I'm C\", \"I'm D\", \"I'm A\", \"I'm B\", \"I'm C\", \"I'm D\"]\n",
      "Adding I'm D to [\"I'm A\", \"I'm B\", \"I'm C\", \"I'm B\", \"I'm D\", \"I'm A\", \"I'm D\", \"I'm A\", \"I'm B\", \"I'm C\", \"I'm B\", \"I'm C\", \"I'm D\", \"I'm A\", \"I'm B\", \"I'm D\", \"I'm A\", \"I'm B\", \"I'm C\", \"I'm D\", \"I'm A\", \"I'm B\", \"I'm C\", \"I'm D\", \"I'm A\", \"I'm B\", \"I'm C\", \"I'm D\", \"I'm A\", \"I'm B\", \"I'm C\", \"I'm D\", \"I'm A\", \"I'm B\", \"I'm C\", \"I'm D\", \"I'm A\", \"I'm B\", \"I'm C\", \"I'm D\"]\n",
      "Adding I'm A to [\"I'm A\", \"I'm B\", \"I'm C\", \"I'm B\", \"I'm D\", \"I'm A\", \"I'm D\", \"I'm A\", \"I'm B\", \"I'm C\", \"I'm B\", \"I'm C\", \"I'm D\", \"I'm A\", \"I'm B\", \"I'm D\", \"I'm A\", \"I'm B\", \"I'm C\", \"I'm D\", \"I'm A\", \"I'm B\", \"I'm C\", \"I'm D\", \"I'm A\", \"I'm B\", \"I'm C\", \"I'm D\", \"I'm A\", \"I'm B\", \"I'm C\", \"I'm D\", \"I'm A\", \"I'm B\", \"I'm C\", \"I'm D\", \"I'm A\", \"I'm B\", \"I'm C\", \"I'm D\", \"I'm A\", \"I'm B\", \"I'm C\", \"I'm D\"]\n",
      "Adding I'm B to [\"I'm A\", \"I'm B\", \"I'm C\", \"I'm B\", \"I'm D\", \"I'm A\", \"I'm D\", \"I'm A\", \"I'm B\", \"I'm C\", \"I'm B\", \"I'm C\", \"I'm D\", \"I'm A\", \"I'm B\", \"I'm D\", \"I'm A\", \"I'm B\", \"I'm C\", \"I'm D\", \"I'm A\", \"I'm B\", \"I'm C\", \"I'm D\", \"I'm A\", \"I'm B\", \"I'm C\", \"I'm D\", \"I'm A\", \"I'm B\", \"I'm C\", \"I'm D\", \"I'm A\", \"I'm B\", \"I'm C\", \"I'm D\", \"I'm A\", \"I'm B\", \"I'm C\", \"I'm D\", \"I'm A\", \"I'm B\", \"I'm C\", \"I'm D\"]\n",
      "Adding I'm C to [\"I'm A\", \"I'm B\", \"I'm C\", \"I'm B\", \"I'm D\", \"I'm A\", \"I'm D\", \"I'm A\", \"I'm B\", \"I'm C\", \"I'm B\", \"I'm C\", \"I'm D\", \"I'm A\", \"I'm B\", \"I'm D\", \"I'm A\", \"I'm B\", \"I'm C\", \"I'm D\", \"I'm A\", \"I'm B\", \"I'm C\", \"I'm D\", \"I'm A\", \"I'm B\", \"I'm C\", \"I'm D\", \"I'm A\", \"I'm B\", \"I'm C\", \"I'm D\", \"I'm A\", \"I'm B\", \"I'm C\", \"I'm D\", \"I'm A\", \"I'm B\", \"I'm C\", \"I'm D\", \"I'm A\", \"I'm B\", \"I'm C\", \"I'm D\"]\n",
      "Adding I'm D to [\"I'm A\", \"I'm B\", \"I'm C\", \"I'm B\", \"I'm D\", \"I'm A\", \"I'm D\", \"I'm A\", \"I'm B\", \"I'm C\", \"I'm B\", \"I'm C\", \"I'm D\", \"I'm A\", \"I'm B\", \"I'm D\", \"I'm A\", \"I'm B\", \"I'm C\", \"I'm D\", \"I'm A\", \"I'm B\", \"I'm C\", \"I'm D\", \"I'm A\", \"I'm B\", \"I'm C\", \"I'm D\", \"I'm A\", \"I'm B\", \"I'm C\", \"I'm D\", \"I'm A\", \"I'm B\", \"I'm C\", \"I'm D\", \"I'm A\", \"I'm B\", \"I'm C\", \"I'm D\", \"I'm A\", \"I'm B\", \"I'm C\", \"I'm D\"]\n",
      "Adding I'm A to [\"I'm A\", \"I'm B\", \"I'm C\", \"I'm B\", \"I'm D\", \"I'm A\", \"I'm D\", \"I'm A\", \"I'm B\", \"I'm C\", \"I'm B\", \"I'm C\", \"I'm D\", \"I'm A\", \"I'm B\", \"I'm D\", \"I'm A\", \"I'm B\", \"I'm C\", \"I'm D\", \"I'm A\", \"I'm B\", \"I'm C\", \"I'm D\", \"I'm A\", \"I'm B\", \"I'm C\", \"I'm D\", \"I'm A\", \"I'm B\", \"I'm C\", \"I'm D\", \"I'm A\", \"I'm B\", \"I'm C\", \"I'm D\", \"I'm A\", \"I'm B\", \"I'm C\", \"I'm D\", \"I'm A\", \"I'm B\", \"I'm C\", \"I'm D\", \"I'm A\", \"I'm B\", \"I'm C\", \"I'm D\"]\n",
      "Adding I'm B to [\"I'm A\", \"I'm B\", \"I'm C\", \"I'm B\", \"I'm D\", \"I'm A\", \"I'm D\", \"I'm A\", \"I'm B\", \"I'm C\", \"I'm B\", \"I'm C\", \"I'm D\", \"I'm A\", \"I'm B\", \"I'm D\", \"I'm A\", \"I'm B\", \"I'm C\", \"I'm D\", \"I'm A\", \"I'm B\", \"I'm C\", \"I'm D\", \"I'm A\", \"I'm B\", \"I'm C\", \"I'm D\", \"I'm A\", \"I'm B\", \"I'm C\", \"I'm D\", \"I'm A\", \"I'm B\", \"I'm C\", \"I'm D\", \"I'm A\", \"I'm B\", \"I'm C\", \"I'm D\", \"I'm A\", \"I'm B\", \"I'm C\", \"I'm D\", \"I'm A\", \"I'm B\", \"I'm C\", \"I'm D\"]\n",
      "Adding I'm C to [\"I'm A\", \"I'm B\", \"I'm C\", \"I'm B\", \"I'm D\", \"I'm A\", \"I'm D\", \"I'm A\", \"I'm B\", \"I'm C\", \"I'm B\", \"I'm C\", \"I'm D\", \"I'm A\", \"I'm B\", \"I'm D\", \"I'm A\", \"I'm B\", \"I'm C\", \"I'm D\", \"I'm A\", \"I'm B\", \"I'm C\", \"I'm D\", \"I'm A\", \"I'm B\", \"I'm C\", \"I'm D\", \"I'm A\", \"I'm B\", \"I'm C\", \"I'm D\", \"I'm A\", \"I'm B\", \"I'm C\", \"I'm D\", \"I'm A\", \"I'm B\", \"I'm C\", \"I'm D\", \"I'm A\", \"I'm B\", \"I'm C\", \"I'm D\", \"I'm A\", \"I'm B\", \"I'm C\", \"I'm D\"]\n",
      "Adding I'm D to [\"I'm A\", \"I'm B\", \"I'm C\", \"I'm B\", \"I'm D\", \"I'm A\", \"I'm D\", \"I'm A\", \"I'm B\", \"I'm C\", \"I'm B\", \"I'm C\", \"I'm D\", \"I'm A\", \"I'm B\", \"I'm D\", \"I'm A\", \"I'm B\", \"I'm C\", \"I'm D\", \"I'm A\", \"I'm B\", \"I'm C\", \"I'm D\", \"I'm A\", \"I'm B\", \"I'm C\", \"I'm D\", \"I'm A\", \"I'm B\", \"I'm C\", \"I'm D\", \"I'm A\", \"I'm B\", \"I'm C\", \"I'm D\", \"I'm A\", \"I'm B\", \"I'm C\", \"I'm D\", \"I'm A\", \"I'm B\", \"I'm C\", \"I'm D\", \"I'm A\", \"I'm B\", \"I'm C\", \"I'm D\"]\n",
      "Adding I'm A to [\"I'm A\", \"I'm B\", \"I'm C\", \"I'm B\", \"I'm D\", \"I'm A\", \"I'm D\", \"I'm A\", \"I'm B\", \"I'm C\", \"I'm B\", \"I'm C\", \"I'm D\", \"I'm A\", \"I'm B\", \"I'm D\", \"I'm A\", \"I'm B\", \"I'm C\", \"I'm D\", \"I'm A\", \"I'm B\", \"I'm C\", \"I'm D\", \"I'm A\", \"I'm B\", \"I'm C\", \"I'm D\", \"I'm A\", \"I'm B\", \"I'm C\", \"I'm D\", \"I'm A\", \"I'm B\", \"I'm C\", \"I'm D\", \"I'm A\", \"I'm B\", \"I'm C\", \"I'm D\", \"I'm A\", \"I'm B\", \"I'm C\", \"I'm D\", \"I'm A\", \"I'm B\", \"I'm C\", \"I'm D\", \"I'm A\", \"I'm B\", \"I'm C\", \"I'm D\"]\n",
      "Adding I'm B to [\"I'm A\", \"I'm B\", \"I'm C\", \"I'm B\", \"I'm D\", \"I'm A\", \"I'm D\", \"I'm A\", \"I'm B\", \"I'm C\", \"I'm B\", \"I'm C\", \"I'm D\", \"I'm A\", \"I'm B\", \"I'm D\", \"I'm A\", \"I'm B\", \"I'm C\", \"I'm D\", \"I'm A\", \"I'm B\", \"I'm C\", \"I'm D\", \"I'm A\", \"I'm B\", \"I'm C\", \"I'm D\", \"I'm A\", \"I'm B\", \"I'm C\", \"I'm D\", \"I'm A\", \"I'm B\", \"I'm C\", \"I'm D\", \"I'm A\", \"I'm B\", \"I'm C\", \"I'm D\", \"I'm A\", \"I'm B\", \"I'm C\", \"I'm D\", \"I'm A\", \"I'm B\", \"I'm C\", \"I'm D\", \"I'm A\", \"I'm B\", \"I'm C\", \"I'm D\"]\n",
      "Adding I'm C to [\"I'm A\", \"I'm B\", \"I'm C\", \"I'm B\", \"I'm D\", \"I'm A\", \"I'm D\", \"I'm A\", \"I'm B\", \"I'm C\", \"I'm B\", \"I'm C\", \"I'm D\", \"I'm A\", \"I'm B\", \"I'm D\", \"I'm A\", \"I'm B\", \"I'm C\", \"I'm D\", \"I'm A\", \"I'm B\", \"I'm C\", \"I'm D\", \"I'm A\", \"I'm B\", \"I'm C\", \"I'm D\", \"I'm A\", \"I'm B\", \"I'm C\", \"I'm D\", \"I'm A\", \"I'm B\", \"I'm C\", \"I'm D\", \"I'm A\", \"I'm B\", \"I'm C\", \"I'm D\", \"I'm A\", \"I'm B\", \"I'm C\", \"I'm D\", \"I'm A\", \"I'm B\", \"I'm C\", \"I'm D\", \"I'm A\", \"I'm B\", \"I'm C\", \"I'm D\"]\n",
      "Adding I'm D to [\"I'm A\", \"I'm B\", \"I'm C\", \"I'm B\", \"I'm D\", \"I'm A\", \"I'm D\", \"I'm A\", \"I'm B\", \"I'm C\", \"I'm B\", \"I'm C\", \"I'm D\", \"I'm A\", \"I'm B\", \"I'm D\", \"I'm A\", \"I'm B\", \"I'm C\", \"I'm D\", \"I'm A\", \"I'm B\", \"I'm C\", \"I'm D\", \"I'm A\", \"I'm B\", \"I'm C\", \"I'm D\", \"I'm A\", \"I'm B\", \"I'm C\", \"I'm D\", \"I'm A\", \"I'm B\", \"I'm C\", \"I'm D\", \"I'm A\", \"I'm B\", \"I'm C\", \"I'm D\", \"I'm A\", \"I'm B\", \"I'm C\", \"I'm D\", \"I'm A\", \"I'm B\", \"I'm C\", \"I'm D\", \"I'm A\", \"I'm B\", \"I'm C\", \"I'm D\"]\n",
      "Adding I'm A to [\"I'm A\", \"I'm B\", \"I'm C\", \"I'm B\", \"I'm D\", \"I'm A\", \"I'm D\", \"I'm A\", \"I'm B\", \"I'm C\", \"I'm B\", \"I'm C\", \"I'm D\", \"I'm A\", \"I'm B\", \"I'm D\", \"I'm A\", \"I'm B\", \"I'm C\", \"I'm D\", \"I'm A\", \"I'm B\", \"I'm C\", \"I'm D\", \"I'm A\", \"I'm B\", \"I'm C\", \"I'm D\", \"I'm A\", \"I'm B\", \"I'm C\", \"I'm D\", \"I'm A\", \"I'm B\", \"I'm C\", \"I'm D\", \"I'm A\", \"I'm B\", \"I'm C\", \"I'm D\", \"I'm A\", \"I'm B\", \"I'm C\", \"I'm D\", \"I'm A\", \"I'm B\", \"I'm C\", \"I'm D\", \"I'm A\", \"I'm B\", \"I'm C\", \"I'm D\", \"I'm A\", \"I'm B\", \"I'm C\", \"I'm D\"]\n",
      "Adding I'm B to [\"I'm A\", \"I'm B\", \"I'm C\", \"I'm B\", \"I'm D\", \"I'm A\", \"I'm D\", \"I'm A\", \"I'm B\", \"I'm C\", \"I'm B\", \"I'm C\", \"I'm D\", \"I'm A\", \"I'm B\", \"I'm D\", \"I'm A\", \"I'm B\", \"I'm C\", \"I'm D\", \"I'm A\", \"I'm B\", \"I'm C\", \"I'm D\", \"I'm A\", \"I'm B\", \"I'm C\", \"I'm D\", \"I'm A\", \"I'm B\", \"I'm C\", \"I'm D\", \"I'm A\", \"I'm B\", \"I'm C\", \"I'm D\", \"I'm A\", \"I'm B\", \"I'm C\", \"I'm D\", \"I'm A\", \"I'm B\", \"I'm C\", \"I'm D\", \"I'm A\", \"I'm B\", \"I'm C\", \"I'm D\", \"I'm A\", \"I'm B\", \"I'm C\", \"I'm D\", \"I'm A\", \"I'm B\", \"I'm C\", \"I'm D\"]\n",
      "Adding I'm C to [\"I'm A\", \"I'm B\", \"I'm C\", \"I'm B\", \"I'm D\", \"I'm A\", \"I'm D\", \"I'm A\", \"I'm B\", \"I'm C\", \"I'm B\", \"I'm C\", \"I'm D\", \"I'm A\", \"I'm B\", \"I'm D\", \"I'm A\", \"I'm B\", \"I'm C\", \"I'm D\", \"I'm A\", \"I'm B\", \"I'm C\", \"I'm D\", \"I'm A\", \"I'm B\", \"I'm C\", \"I'm D\", \"I'm A\", \"I'm B\", \"I'm C\", \"I'm D\", \"I'm A\", \"I'm B\", \"I'm C\", \"I'm D\", \"I'm A\", \"I'm B\", \"I'm C\", \"I'm D\", \"I'm A\", \"I'm B\", \"I'm C\", \"I'm D\", \"I'm A\", \"I'm B\", \"I'm C\", \"I'm D\", \"I'm A\", \"I'm B\", \"I'm C\", \"I'm D\", \"I'm A\", \"I'm B\", \"I'm C\", \"I'm D\"]\n",
      "Adding I'm D to [\"I'm A\", \"I'm B\", \"I'm C\", \"I'm B\", \"I'm D\", \"I'm A\", \"I'm D\", \"I'm A\", \"I'm B\", \"I'm C\", \"I'm B\", \"I'm C\", \"I'm D\", \"I'm A\", \"I'm B\", \"I'm D\", \"I'm A\", \"I'm B\", \"I'm C\", \"I'm D\", \"I'm A\", \"I'm B\", \"I'm C\", \"I'm D\", \"I'm A\", \"I'm B\", \"I'm C\", \"I'm D\", \"I'm A\", \"I'm B\", \"I'm C\", \"I'm D\", \"I'm A\", \"I'm B\", \"I'm C\", \"I'm D\", \"I'm A\", \"I'm B\", \"I'm C\", \"I'm D\", \"I'm A\", \"I'm B\", \"I'm C\", \"I'm D\", \"I'm A\", \"I'm B\", \"I'm C\", \"I'm D\", \"I'm A\", \"I'm B\", \"I'm C\", \"I'm D\", \"I'm A\", \"I'm B\", \"I'm C\", \"I'm D\"]\n",
      "Adding I'm A to [\"I'm A\", \"I'm B\", \"I'm C\", \"I'm B\", \"I'm D\", \"I'm A\", \"I'm D\", \"I'm A\", \"I'm B\", \"I'm C\", \"I'm B\", \"I'm C\", \"I'm D\", \"I'm A\", \"I'm B\", \"I'm D\", \"I'm A\", \"I'm B\", \"I'm C\", \"I'm D\", \"I'm A\", \"I'm B\", \"I'm C\", \"I'm D\", \"I'm A\", \"I'm B\", \"I'm C\", \"I'm D\", \"I'm A\", \"I'm B\", \"I'm C\", \"I'm D\", \"I'm A\", \"I'm B\", \"I'm C\", \"I'm D\", \"I'm A\", \"I'm B\", \"I'm C\", \"I'm D\", \"I'm A\", \"I'm B\", \"I'm C\", \"I'm D\", \"I'm A\", \"I'm B\", \"I'm C\", \"I'm D\", \"I'm A\", \"I'm B\", \"I'm C\", \"I'm D\", \"I'm A\", \"I'm B\", \"I'm C\", \"I'm D\", \"I'm A\", \"I'm B\", \"I'm C\", \"I'm D\"]\n",
      "Adding I'm B to [\"I'm A\", \"I'm B\", \"I'm C\", \"I'm B\", \"I'm D\", \"I'm A\", \"I'm D\", \"I'm A\", \"I'm B\", \"I'm C\", \"I'm B\", \"I'm C\", \"I'm D\", \"I'm A\", \"I'm B\", \"I'm D\", \"I'm A\", \"I'm B\", \"I'm C\", \"I'm D\", \"I'm A\", \"I'm B\", \"I'm C\", \"I'm D\", \"I'm A\", \"I'm B\", \"I'm C\", \"I'm D\", \"I'm A\", \"I'm B\", \"I'm C\", \"I'm D\", \"I'm A\", \"I'm B\", \"I'm C\", \"I'm D\", \"I'm A\", \"I'm B\", \"I'm C\", \"I'm D\", \"I'm A\", \"I'm B\", \"I'm C\", \"I'm D\", \"I'm A\", \"I'm B\", \"I'm C\", \"I'm D\", \"I'm A\", \"I'm B\", \"I'm C\", \"I'm D\", \"I'm A\", \"I'm B\", \"I'm C\", \"I'm D\", \"I'm A\", \"I'm B\", \"I'm C\", \"I'm D\"]\n",
      "Adding I'm D to [\"I'm A\", \"I'm B\", \"I'm C\", \"I'm B\", \"I'm D\", \"I'm A\", \"I'm D\", \"I'm A\", \"I'm B\", \"I'm C\", \"I'm B\", \"I'm C\", \"I'm D\", \"I'm A\", \"I'm B\", \"I'm D\", \"I'm A\", \"I'm B\", \"I'm C\", \"I'm D\", \"I'm A\", \"I'm B\", \"I'm C\", \"I'm D\", \"I'm A\", \"I'm B\", \"I'm C\", \"I'm D\", \"I'm A\", \"I'm B\", \"I'm C\", \"I'm D\", \"I'm A\", \"I'm B\", \"I'm C\", \"I'm D\", \"I'm A\", \"I'm B\", \"I'm C\", \"I'm D\", \"I'm A\", \"I'm B\", \"I'm C\", \"I'm D\", \"I'm A\", \"I'm B\", \"I'm C\", \"I'm D\", \"I'm A\", \"I'm B\", \"I'm C\", \"I'm D\", \"I'm A\", \"I'm B\", \"I'm C\", \"I'm D\", \"I'm A\", \"I'm B\", \"I'm C\", \"I'm D\"]\n",
      "Adding I'm C to [\"I'm A\", \"I'm B\", \"I'm C\", \"I'm B\", \"I'm D\", \"I'm A\", \"I'm D\", \"I'm A\", \"I'm B\", \"I'm C\", \"I'm B\", \"I'm C\", \"I'm D\", \"I'm A\", \"I'm B\", \"I'm D\", \"I'm A\", \"I'm B\", \"I'm C\", \"I'm D\", \"I'm A\", \"I'm B\", \"I'm C\", \"I'm D\", \"I'm A\", \"I'm B\", \"I'm C\", \"I'm D\", \"I'm A\", \"I'm B\", \"I'm C\", \"I'm D\", \"I'm A\", \"I'm B\", \"I'm C\", \"I'm D\", \"I'm A\", \"I'm B\", \"I'm C\", \"I'm D\", \"I'm A\", \"I'm B\", \"I'm C\", \"I'm D\", \"I'm A\", \"I'm B\", \"I'm C\", \"I'm D\", \"I'm A\", \"I'm B\", \"I'm C\", \"I'm D\", \"I'm A\", \"I'm B\", \"I'm C\", \"I'm D\", \"I'm A\", \"I'm B\", \"I'm C\", \"I'm D\"]\n",
      "Adding I'm A to [\"I'm A\", \"I'm B\", \"I'm C\", \"I'm B\", \"I'm D\", \"I'm A\", \"I'm D\", \"I'm A\", \"I'm B\", \"I'm C\", \"I'm B\", \"I'm C\", \"I'm D\", \"I'm A\", \"I'm B\", \"I'm D\", \"I'm A\", \"I'm B\", \"I'm C\", \"I'm D\", \"I'm A\", \"I'm B\", \"I'm C\", \"I'm D\", \"I'm A\", \"I'm B\", \"I'm C\", \"I'm D\", \"I'm A\", \"I'm B\", \"I'm C\", \"I'm D\", \"I'm A\", \"I'm B\", \"I'm C\", \"I'm D\", \"I'm A\", \"I'm B\", \"I'm C\", \"I'm D\", \"I'm A\", \"I'm B\", \"I'm C\", \"I'm D\", \"I'm A\", \"I'm B\", \"I'm C\", \"I'm D\", \"I'm A\", \"I'm B\", \"I'm C\", \"I'm D\", \"I'm A\", \"I'm B\", \"I'm C\", \"I'm D\", \"I'm A\", \"I'm B\", \"I'm C\", \"I'm D\", \"I'm A\", \"I'm B\", \"I'm C\", \"I'm D\"]\n",
      "Adding I'm B to [\"I'm A\", \"I'm B\", \"I'm C\", \"I'm B\", \"I'm D\", \"I'm A\", \"I'm D\", \"I'm A\", \"I'm B\", \"I'm C\", \"I'm B\", \"I'm C\", \"I'm D\", \"I'm A\", \"I'm B\", \"I'm D\", \"I'm A\", \"I'm B\", \"I'm C\", \"I'm D\", \"I'm A\", \"I'm B\", \"I'm C\", \"I'm D\", \"I'm A\", \"I'm B\", \"I'm C\", \"I'm D\", \"I'm A\", \"I'm B\", \"I'm C\", \"I'm D\", \"I'm A\", \"I'm B\", \"I'm C\", \"I'm D\", \"I'm A\", \"I'm B\", \"I'm C\", \"I'm D\", \"I'm A\", \"I'm B\", \"I'm C\", \"I'm D\", \"I'm A\", \"I'm B\", \"I'm C\", \"I'm D\", \"I'm A\", \"I'm B\", \"I'm C\", \"I'm D\", \"I'm A\", \"I'm B\", \"I'm C\", \"I'm D\", \"I'm A\", \"I'm B\", \"I'm C\", \"I'm D\", \"I'm A\", \"I'm B\", \"I'm C\", \"I'm D\"]\n",
      "Adding I'm C to [\"I'm A\", \"I'm B\", \"I'm C\", \"I'm B\", \"I'm D\", \"I'm A\", \"I'm D\", \"I'm A\", \"I'm B\", \"I'm C\", \"I'm B\", \"I'm C\", \"I'm D\", \"I'm A\", \"I'm B\", \"I'm D\", \"I'm A\", \"I'm B\", \"I'm C\", \"I'm D\", \"I'm A\", \"I'm B\", \"I'm C\", \"I'm D\", \"I'm A\", \"I'm B\", \"I'm C\", \"I'm D\", \"I'm A\", \"I'm B\", \"I'm C\", \"I'm D\", \"I'm A\", \"I'm B\", \"I'm C\", \"I'm D\", \"I'm A\", \"I'm B\", \"I'm C\", \"I'm D\", \"I'm A\", \"I'm B\", \"I'm C\", \"I'm D\", \"I'm A\", \"I'm B\", \"I'm C\", \"I'm D\", \"I'm A\", \"I'm B\", \"I'm C\", \"I'm D\", \"I'm A\", \"I'm B\", \"I'm C\", \"I'm D\", \"I'm A\", \"I'm B\", \"I'm C\", \"I'm D\", \"I'm A\", \"I'm B\", \"I'm C\", \"I'm D\"]\n",
      "Adding I'm D to [\"I'm A\", \"I'm B\", \"I'm C\", \"I'm B\", \"I'm D\", \"I'm A\", \"I'm D\", \"I'm A\", \"I'm B\", \"I'm C\", \"I'm B\", \"I'm C\", \"I'm D\", \"I'm A\", \"I'm B\", \"I'm D\", \"I'm A\", \"I'm B\", \"I'm C\", \"I'm D\", \"I'm A\", \"I'm B\", \"I'm C\", \"I'm D\", \"I'm A\", \"I'm B\", \"I'm C\", \"I'm D\", \"I'm A\", \"I'm B\", \"I'm C\", \"I'm D\", \"I'm A\", \"I'm B\", \"I'm C\", \"I'm D\", \"I'm A\", \"I'm B\", \"I'm C\", \"I'm D\", \"I'm A\", \"I'm B\", \"I'm C\", \"I'm D\", \"I'm A\", \"I'm B\", \"I'm C\", \"I'm D\", \"I'm A\", \"I'm B\", \"I'm C\", \"I'm D\", \"I'm A\", \"I'm B\", \"I'm C\", \"I'm D\", \"I'm A\", \"I'm B\", \"I'm C\", \"I'm D\", \"I'm A\", \"I'm B\", \"I'm C\", \"I'm D\"]\n",
      "Adding I'm A to [\"I'm A\", \"I'm B\", \"I'm C\", \"I'm B\", \"I'm D\", \"I'm A\", \"I'm D\", \"I'm A\", \"I'm B\", \"I'm C\", \"I'm B\", \"I'm C\", \"I'm D\", \"I'm A\", \"I'm B\", \"I'm D\", \"I'm A\", \"I'm B\", \"I'm C\", \"I'm D\", \"I'm A\", \"I'm B\", \"I'm C\", \"I'm D\", \"I'm A\", \"I'm B\", \"I'm C\", \"I'm D\", \"I'm A\", \"I'm B\", \"I'm C\", \"I'm D\", \"I'm A\", \"I'm B\", \"I'm C\", \"I'm D\", \"I'm A\", \"I'm B\", \"I'm C\", \"I'm D\", \"I'm A\", \"I'm B\", \"I'm C\", \"I'm D\", \"I'm A\", \"I'm B\", \"I'm C\", \"I'm D\", \"I'm A\", \"I'm B\", \"I'm C\", \"I'm D\", \"I'm A\", \"I'm B\", \"I'm C\", \"I'm D\", \"I'm A\", \"I'm B\", \"I'm C\", \"I'm D\", \"I'm A\", \"I'm B\", \"I'm C\", \"I'm D\", \"I'm A\", \"I'm B\", \"I'm C\", \"I'm D\"]\n",
      "Adding I'm B to [\"I'm A\", \"I'm B\", \"I'm C\", \"I'm B\", \"I'm D\", \"I'm A\", \"I'm D\", \"I'm A\", \"I'm B\", \"I'm C\", \"I'm B\", \"I'm C\", \"I'm D\", \"I'm A\", \"I'm B\", \"I'm D\", \"I'm A\", \"I'm B\", \"I'm C\", \"I'm D\", \"I'm A\", \"I'm B\", \"I'm C\", \"I'm D\", \"I'm A\", \"I'm B\", \"I'm C\", \"I'm D\", \"I'm A\", \"I'm B\", \"I'm C\", \"I'm D\", \"I'm A\", \"I'm B\", \"I'm C\", \"I'm D\", \"I'm A\", \"I'm B\", \"I'm C\", \"I'm D\", \"I'm A\", \"I'm B\", \"I'm C\", \"I'm D\", \"I'm A\", \"I'm B\", \"I'm C\", \"I'm D\", \"I'm A\", \"I'm B\", \"I'm C\", \"I'm D\", \"I'm A\", \"I'm B\", \"I'm C\", \"I'm D\", \"I'm A\", \"I'm B\", \"I'm C\", \"I'm D\", \"I'm A\", \"I'm B\", \"I'm C\", \"I'm D\", \"I'm A\", \"I'm B\", \"I'm C\", \"I'm D\"]\n",
      "Adding I'm C to [\"I'm A\", \"I'm B\", \"I'm C\", \"I'm B\", \"I'm D\", \"I'm A\", \"I'm D\", \"I'm A\", \"I'm B\", \"I'm C\", \"I'm B\", \"I'm C\", \"I'm D\", \"I'm A\", \"I'm B\", \"I'm D\", \"I'm A\", \"I'm B\", \"I'm C\", \"I'm D\", \"I'm A\", \"I'm B\", \"I'm C\", \"I'm D\", \"I'm A\", \"I'm B\", \"I'm C\", \"I'm D\", \"I'm A\", \"I'm B\", \"I'm C\", \"I'm D\", \"I'm A\", \"I'm B\", \"I'm C\", \"I'm D\", \"I'm A\", \"I'm B\", \"I'm C\", \"I'm D\", \"I'm A\", \"I'm B\", \"I'm C\", \"I'm D\", \"I'm A\", \"I'm B\", \"I'm C\", \"I'm D\", \"I'm A\", \"I'm B\", \"I'm C\", \"I'm D\", \"I'm A\", \"I'm B\", \"I'm C\", \"I'm D\", \"I'm A\", \"I'm B\", \"I'm C\", \"I'm D\", \"I'm A\", \"I'm B\", \"I'm C\", \"I'm D\", \"I'm A\", \"I'm B\", \"I'm C\", \"I'm D\"]\n",
      "Adding I'm D to [\"I'm A\", \"I'm B\", \"I'm C\", \"I'm B\", \"I'm D\", \"I'm A\", \"I'm D\", \"I'm A\", \"I'm B\", \"I'm C\", \"I'm B\", \"I'm C\", \"I'm D\", \"I'm A\", \"I'm B\", \"I'm D\", \"I'm A\", \"I'm B\", \"I'm C\", \"I'm D\", \"I'm A\", \"I'm B\", \"I'm C\", \"I'm D\", \"I'm A\", \"I'm B\", \"I'm C\", \"I'm D\", \"I'm A\", \"I'm B\", \"I'm C\", \"I'm D\", \"I'm A\", \"I'm B\", \"I'm C\", \"I'm D\", \"I'm A\", \"I'm B\", \"I'm C\", \"I'm D\", \"I'm A\", \"I'm B\", \"I'm C\", \"I'm D\", \"I'm A\", \"I'm B\", \"I'm C\", \"I'm D\", \"I'm A\", \"I'm B\", \"I'm C\", \"I'm D\", \"I'm A\", \"I'm B\", \"I'm C\", \"I'm D\", \"I'm A\", \"I'm B\", \"I'm C\", \"I'm D\", \"I'm A\", \"I'm B\", \"I'm C\", \"I'm D\", \"I'm A\", \"I'm B\", \"I'm C\", \"I'm D\"]\n",
      "Adding I'm D to [\"I'm A\", \"I'm B\", \"I'm C\", \"I'm B\", \"I'm D\", \"I'm A\", \"I'm D\", \"I'm A\", \"I'm B\", \"I'm C\", \"I'm B\", \"I'm C\", \"I'm D\", \"I'm A\", \"I'm B\", \"I'm D\", \"I'm A\", \"I'm B\", \"I'm C\", \"I'm D\", \"I'm A\", \"I'm B\", \"I'm C\", \"I'm D\", \"I'm A\", \"I'm B\", \"I'm C\", \"I'm D\", \"I'm A\", \"I'm B\", \"I'm C\", \"I'm D\", \"I'm A\", \"I'm B\", \"I'm C\", \"I'm D\", \"I'm A\", \"I'm B\", \"I'm C\", \"I'm D\", \"I'm A\", \"I'm B\", \"I'm C\", \"I'm D\", \"I'm A\", \"I'm B\", \"I'm C\", \"I'm D\", \"I'm A\", \"I'm B\", \"I'm C\", \"I'm D\", \"I'm A\", \"I'm B\", \"I'm C\", \"I'm D\", \"I'm A\", \"I'm B\", \"I'm C\", \"I'm D\", \"I'm A\", \"I'm B\", \"I'm C\", \"I'm D\", \"I'm A\", \"I'm B\", \"I'm C\", \"I'm D\", \"I'm A\", \"I'm B\", \"I'm C\", \"I'm D\"]\n",
      "Adding I'm C to [\"I'm A\", \"I'm B\", \"I'm C\", \"I'm B\", \"I'm D\", \"I'm A\", \"I'm D\", \"I'm A\", \"I'm B\", \"I'm C\", \"I'm B\", \"I'm C\", \"I'm D\", \"I'm A\", \"I'm B\", \"I'm D\", \"I'm A\", \"I'm B\", \"I'm C\", \"I'm D\", \"I'm A\", \"I'm B\", \"I'm C\", \"I'm D\", \"I'm A\", \"I'm B\", \"I'm C\", \"I'm D\", \"I'm A\", \"I'm B\", \"I'm C\", \"I'm D\", \"I'm A\", \"I'm B\", \"I'm C\", \"I'm D\", \"I'm A\", \"I'm B\", \"I'm C\", \"I'm D\", \"I'm A\", \"I'm B\", \"I'm C\", \"I'm D\", \"I'm A\", \"I'm B\", \"I'm C\", \"I'm D\", \"I'm A\", \"I'm B\", \"I'm C\", \"I'm D\", \"I'm A\", \"I'm B\", \"I'm C\", \"I'm D\", \"I'm A\", \"I'm B\", \"I'm C\", \"I'm D\", \"I'm A\", \"I'm B\", \"I'm C\", \"I'm D\", \"I'm A\", \"I'm B\", \"I'm C\", \"I'm D\", \"I'm A\", \"I'm B\", \"I'm C\", \"I'm D\"]\n",
      "Adding I'm B to [\"I'm A\", \"I'm B\", \"I'm C\", \"I'm B\", \"I'm D\", \"I'm A\", \"I'm D\", \"I'm A\", \"I'm B\", \"I'm C\", \"I'm B\", \"I'm C\", \"I'm D\", \"I'm A\", \"I'm B\", \"I'm D\", \"I'm A\", \"I'm B\", \"I'm C\", \"I'm D\", \"I'm A\", \"I'm B\", \"I'm C\", \"I'm D\", \"I'm A\", \"I'm B\", \"I'm C\", \"I'm D\", \"I'm A\", \"I'm B\", \"I'm C\", \"I'm D\", \"I'm A\", \"I'm B\", \"I'm C\", \"I'm D\", \"I'm A\", \"I'm B\", \"I'm C\", \"I'm D\", \"I'm A\", \"I'm B\", \"I'm C\", \"I'm D\", \"I'm A\", \"I'm B\", \"I'm C\", \"I'm D\", \"I'm A\", \"I'm B\", \"I'm C\", \"I'm D\", \"I'm A\", \"I'm B\", \"I'm C\", \"I'm D\", \"I'm A\", \"I'm B\", \"I'm C\", \"I'm D\", \"I'm A\", \"I'm B\", \"I'm C\", \"I'm D\", \"I'm A\", \"I'm B\", \"I'm C\", \"I'm D\", \"I'm A\", \"I'm B\", \"I'm C\", \"I'm D\"]\n",
      "Adding I'm A to [\"I'm A\", \"I'm B\", \"I'm C\", \"I'm B\", \"I'm D\", \"I'm A\", \"I'm D\", \"I'm A\", \"I'm B\", \"I'm C\", \"I'm B\", \"I'm C\", \"I'm D\", \"I'm A\", \"I'm B\", \"I'm D\", \"I'm A\", \"I'm B\", \"I'm C\", \"I'm D\", \"I'm A\", \"I'm B\", \"I'm C\", \"I'm D\", \"I'm A\", \"I'm B\", \"I'm C\", \"I'm D\", \"I'm A\", \"I'm B\", \"I'm C\", \"I'm D\", \"I'm A\", \"I'm B\", \"I'm C\", \"I'm D\", \"I'm A\", \"I'm B\", \"I'm C\", \"I'm D\", \"I'm A\", \"I'm B\", \"I'm C\", \"I'm D\", \"I'm A\", \"I'm B\", \"I'm C\", \"I'm D\", \"I'm A\", \"I'm B\", \"I'm C\", \"I'm D\", \"I'm A\", \"I'm B\", \"I'm C\", \"I'm D\", \"I'm A\", \"I'm B\", \"I'm C\", \"I'm D\", \"I'm A\", \"I'm B\", \"I'm C\", \"I'm D\", \"I'm A\", \"I'm B\", \"I'm C\", \"I'm D\", \"I'm A\", \"I'm B\", \"I'm C\", \"I'm D\"]\n",
      "Adding I'm A to [\"I'm A\", \"I'm B\", \"I'm C\", \"I'm B\", \"I'm D\", \"I'm A\", \"I'm D\", \"I'm A\", \"I'm B\", \"I'm C\", \"I'm B\", \"I'm C\", \"I'm D\", \"I'm A\", \"I'm B\", \"I'm D\", \"I'm A\", \"I'm B\", \"I'm C\", \"I'm D\", \"I'm A\", \"I'm B\", \"I'm C\", \"I'm D\", \"I'm A\", \"I'm B\", \"I'm C\", \"I'm D\", \"I'm A\", \"I'm B\", \"I'm C\", \"I'm D\", \"I'm A\", \"I'm B\", \"I'm C\", \"I'm D\", \"I'm A\", \"I'm B\", \"I'm C\", \"I'm D\", \"I'm A\", \"I'm B\", \"I'm C\", \"I'm D\", \"I'm A\", \"I'm B\", \"I'm C\", \"I'm D\", \"I'm A\", \"I'm B\", \"I'm C\", \"I'm D\", \"I'm A\", \"I'm B\", \"I'm C\", \"I'm D\", \"I'm A\", \"I'm B\", \"I'm C\", \"I'm D\", \"I'm A\", \"I'm B\", \"I'm C\", \"I'm D\", \"I'm A\", \"I'm B\", \"I'm C\", \"I'm D\", \"I'm A\", \"I'm B\", \"I'm C\", \"I'm D\", \"I'm A\", \"I'm B\", \"I'm C\", \"I'm D\"]\n",
      "Adding I'm B to [\"I'm A\", \"I'm B\", \"I'm C\", \"I'm B\", \"I'm D\", \"I'm A\", \"I'm D\", \"I'm A\", \"I'm B\", \"I'm C\", \"I'm B\", \"I'm C\", \"I'm D\", \"I'm A\", \"I'm B\", \"I'm D\", \"I'm A\", \"I'm B\", \"I'm C\", \"I'm D\", \"I'm A\", \"I'm B\", \"I'm C\", \"I'm D\", \"I'm A\", \"I'm B\", \"I'm C\", \"I'm D\", \"I'm A\", \"I'm B\", \"I'm C\", \"I'm D\", \"I'm A\", \"I'm B\", \"I'm C\", \"I'm D\", \"I'm A\", \"I'm B\", \"I'm C\", \"I'm D\", \"I'm A\", \"I'm B\", \"I'm C\", \"I'm D\", \"I'm A\", \"I'm B\", \"I'm C\", \"I'm D\", \"I'm A\", \"I'm B\", \"I'm C\", \"I'm D\", \"I'm A\", \"I'm B\", \"I'm C\", \"I'm D\", \"I'm A\", \"I'm B\", \"I'm C\", \"I'm D\", \"I'm A\", \"I'm B\", \"I'm C\", \"I'm D\", \"I'm A\", \"I'm B\", \"I'm C\", \"I'm D\", \"I'm A\", \"I'm B\", \"I'm C\", \"I'm D\", \"I'm A\", \"I'm B\", \"I'm C\", \"I'm D\"]\n",
      "Adding I'm C to [\"I'm A\", \"I'm B\", \"I'm C\", \"I'm B\", \"I'm D\", \"I'm A\", \"I'm D\", \"I'm A\", \"I'm B\", \"I'm C\", \"I'm B\", \"I'm C\", \"I'm D\", \"I'm A\", \"I'm B\", \"I'm D\", \"I'm A\", \"I'm B\", \"I'm C\", \"I'm D\", \"I'm A\", \"I'm B\", \"I'm C\", \"I'm D\", \"I'm A\", \"I'm B\", \"I'm C\", \"I'm D\", \"I'm A\", \"I'm B\", \"I'm C\", \"I'm D\", \"I'm A\", \"I'm B\", \"I'm C\", \"I'm D\", \"I'm A\", \"I'm B\", \"I'm C\", \"I'm D\", \"I'm A\", \"I'm B\", \"I'm C\", \"I'm D\", \"I'm A\", \"I'm B\", \"I'm C\", \"I'm D\", \"I'm A\", \"I'm B\", \"I'm C\", \"I'm D\", \"I'm A\", \"I'm B\", \"I'm C\", \"I'm D\", \"I'm A\", \"I'm B\", \"I'm C\", \"I'm D\", \"I'm A\", \"I'm B\", \"I'm C\", \"I'm D\", \"I'm A\", \"I'm B\", \"I'm C\", \"I'm D\", \"I'm A\", \"I'm B\", \"I'm C\", \"I'm D\", \"I'm A\", \"I'm B\", \"I'm C\", \"I'm D\"]\n",
      "Adding I'm D to [\"I'm A\", \"I'm B\", \"I'm C\", \"I'm B\", \"I'm D\", \"I'm A\", \"I'm D\", \"I'm A\", \"I'm B\", \"I'm C\", \"I'm B\", \"I'm C\", \"I'm D\", \"I'm A\", \"I'm B\", \"I'm D\", \"I'm A\", \"I'm B\", \"I'm C\", \"I'm D\", \"I'm A\", \"I'm B\", \"I'm C\", \"I'm D\", \"I'm A\", \"I'm B\", \"I'm C\", \"I'm D\", \"I'm A\", \"I'm B\", \"I'm C\", \"I'm D\", \"I'm A\", \"I'm B\", \"I'm C\", \"I'm D\", \"I'm A\", \"I'm B\", \"I'm C\", \"I'm D\", \"I'm A\", \"I'm B\", \"I'm C\", \"I'm D\", \"I'm A\", \"I'm B\", \"I'm C\", \"I'm D\", \"I'm A\", \"I'm B\", \"I'm C\", \"I'm D\", \"I'm A\", \"I'm B\", \"I'm C\", \"I'm D\", \"I'm A\", \"I'm B\", \"I'm C\", \"I'm D\", \"I'm A\", \"I'm B\", \"I'm C\", \"I'm D\", \"I'm A\", \"I'm B\", \"I'm C\", \"I'm D\", \"I'm A\", \"I'm B\", \"I'm C\", \"I'm D\", \"I'm A\", \"I'm B\", \"I'm C\", \"I'm D\"]\n",
      "Adding I'm D to [\"I'm A\", \"I'm B\", \"I'm C\", \"I'm B\", \"I'm D\", \"I'm A\", \"I'm D\", \"I'm A\", \"I'm B\", \"I'm C\", \"I'm B\", \"I'm C\", \"I'm D\", \"I'm A\", \"I'm B\", \"I'm D\", \"I'm A\", \"I'm B\", \"I'm C\", \"I'm D\", \"I'm A\", \"I'm B\", \"I'm C\", \"I'm D\", \"I'm A\", \"I'm B\", \"I'm C\", \"I'm D\", \"I'm A\", \"I'm B\", \"I'm C\", \"I'm D\", \"I'm A\", \"I'm B\", \"I'm C\", \"I'm D\", \"I'm A\", \"I'm B\", \"I'm C\", \"I'm D\", \"I'm A\", \"I'm B\", \"I'm C\", \"I'm D\", \"I'm A\", \"I'm B\", \"I'm C\", \"I'm D\", \"I'm A\", \"I'm B\", \"I'm C\", \"I'm D\", \"I'm A\", \"I'm B\", \"I'm C\", \"I'm D\", \"I'm A\", \"I'm B\", \"I'm C\", \"I'm D\", \"I'm A\", \"I'm B\", \"I'm C\", \"I'm D\", \"I'm A\", \"I'm B\", \"I'm C\", \"I'm D\", \"I'm A\", \"I'm B\", \"I'm C\", \"I'm D\", \"I'm A\", \"I'm B\", \"I'm C\", \"I'm D\", \"I'm A\", \"I'm B\", \"I'm C\", \"I'm D\"]\n",
      "Adding I'm B to [\"I'm A\", \"I'm B\", \"I'm C\", \"I'm B\", \"I'm D\", \"I'm A\", \"I'm D\", \"I'm A\", \"I'm B\", \"I'm C\", \"I'm B\", \"I'm C\", \"I'm D\", \"I'm A\", \"I'm B\", \"I'm D\", \"I'm A\", \"I'm B\", \"I'm C\", \"I'm D\", \"I'm A\", \"I'm B\", \"I'm C\", \"I'm D\", \"I'm A\", \"I'm B\", \"I'm C\", \"I'm D\", \"I'm A\", \"I'm B\", \"I'm C\", \"I'm D\", \"I'm A\", \"I'm B\", \"I'm C\", \"I'm D\", \"I'm A\", \"I'm B\", \"I'm C\", \"I'm D\", \"I'm A\", \"I'm B\", \"I'm C\", \"I'm D\", \"I'm A\", \"I'm B\", \"I'm C\", \"I'm D\", \"I'm A\", \"I'm B\", \"I'm C\", \"I'm D\", \"I'm A\", \"I'm B\", \"I'm C\", \"I'm D\", \"I'm A\", \"I'm B\", \"I'm C\", \"I'm D\", \"I'm A\", \"I'm B\", \"I'm C\", \"I'm D\", \"I'm A\", \"I'm B\", \"I'm C\", \"I'm D\", \"I'm A\", \"I'm B\", \"I'm C\", \"I'm D\", \"I'm A\", \"I'm B\", \"I'm C\", \"I'm D\", \"I'm A\", \"I'm B\", \"I'm C\", \"I'm D\"]\n",
      "Adding I'm C to [\"I'm A\", \"I'm B\", \"I'm C\", \"I'm B\", \"I'm D\", \"I'm A\", \"I'm D\", \"I'm A\", \"I'm B\", \"I'm C\", \"I'm B\", \"I'm C\", \"I'm D\", \"I'm A\", \"I'm B\", \"I'm D\", \"I'm A\", \"I'm B\", \"I'm C\", \"I'm D\", \"I'm A\", \"I'm B\", \"I'm C\", \"I'm D\", \"I'm A\", \"I'm B\", \"I'm C\", \"I'm D\", \"I'm A\", \"I'm B\", \"I'm C\", \"I'm D\", \"I'm A\", \"I'm B\", \"I'm C\", \"I'm D\", \"I'm A\", \"I'm B\", \"I'm C\", \"I'm D\", \"I'm A\", \"I'm B\", \"I'm C\", \"I'm D\", \"I'm A\", \"I'm B\", \"I'm C\", \"I'm D\", \"I'm A\", \"I'm B\", \"I'm C\", \"I'm D\", \"I'm A\", \"I'm B\", \"I'm C\", \"I'm D\", \"I'm A\", \"I'm B\", \"I'm C\", \"I'm D\", \"I'm A\", \"I'm B\", \"I'm C\", \"I'm D\", \"I'm A\", \"I'm B\", \"I'm C\", \"I'm D\", \"I'm A\", \"I'm B\", \"I'm C\", \"I'm D\", \"I'm A\", \"I'm B\", \"I'm C\", \"I'm D\", \"I'm A\", \"I'm B\", \"I'm C\", \"I'm D\"]\n",
      "Adding I'm A to [\"I'm A\", \"I'm B\", \"I'm C\", \"I'm B\", \"I'm D\", \"I'm A\", \"I'm D\", \"I'm A\", \"I'm B\", \"I'm C\", \"I'm B\", \"I'm C\", \"I'm D\", \"I'm A\", \"I'm B\", \"I'm D\", \"I'm A\", \"I'm B\", \"I'm C\", \"I'm D\", \"I'm A\", \"I'm B\", \"I'm C\", \"I'm D\", \"I'm A\", \"I'm B\", \"I'm C\", \"I'm D\", \"I'm A\", \"I'm B\", \"I'm C\", \"I'm D\", \"I'm A\", \"I'm B\", \"I'm C\", \"I'm D\", \"I'm A\", \"I'm B\", \"I'm C\", \"I'm D\", \"I'm A\", \"I'm B\", \"I'm C\", \"I'm D\", \"I'm A\", \"I'm B\", \"I'm C\", \"I'm D\", \"I'm A\", \"I'm B\", \"I'm C\", \"I'm D\", \"I'm A\", \"I'm B\", \"I'm C\", \"I'm D\", \"I'm A\", \"I'm B\", \"I'm C\", \"I'm D\", \"I'm A\", \"I'm B\", \"I'm C\", \"I'm D\", \"I'm A\", \"I'm B\", \"I'm C\", \"I'm D\", \"I'm A\", \"I'm B\", \"I'm C\", \"I'm D\", \"I'm A\", \"I'm B\", \"I'm C\", \"I'm D\", \"I'm A\", \"I'm B\", \"I'm C\", \"I'm D\"]\n",
      "Adding I'm D to [\"I'm A\", \"I'm B\", \"I'm C\", \"I'm B\", \"I'm D\", \"I'm A\", \"I'm D\", \"I'm A\", \"I'm B\", \"I'm C\", \"I'm B\", \"I'm C\", \"I'm D\", \"I'm A\", \"I'm B\", \"I'm D\", \"I'm A\", \"I'm B\", \"I'm C\", \"I'm D\", \"I'm A\", \"I'm B\", \"I'm C\", \"I'm D\", \"I'm A\", \"I'm B\", \"I'm C\", \"I'm D\", \"I'm A\", \"I'm B\", \"I'm C\", \"I'm D\", \"I'm A\", \"I'm B\", \"I'm C\", \"I'm D\", \"I'm A\", \"I'm B\", \"I'm C\", \"I'm D\", \"I'm A\", \"I'm B\", \"I'm C\", \"I'm D\", \"I'm A\", \"I'm B\", \"I'm C\", \"I'm D\", \"I'm A\", \"I'm B\", \"I'm C\", \"I'm D\", \"I'm A\", \"I'm B\", \"I'm C\", \"I'm D\", \"I'm A\", \"I'm B\", \"I'm C\", \"I'm D\", \"I'm A\", \"I'm B\", \"I'm C\", \"I'm D\", \"I'm A\", \"I'm B\", \"I'm C\", \"I'm D\", \"I'm A\", \"I'm B\", \"I'm C\", \"I'm D\", \"I'm A\", \"I'm B\", \"I'm C\", \"I'm D\", \"I'm A\", \"I'm B\", \"I'm C\", \"I'm D\", \"I'm A\", \"I'm B\", \"I'm C\", \"I'm D\"]\n",
      "Adding I'm B to [\"I'm A\", \"I'm B\", \"I'm C\", \"I'm B\", \"I'm D\", \"I'm A\", \"I'm D\", \"I'm A\", \"I'm B\", \"I'm C\", \"I'm B\", \"I'm C\", \"I'm D\", \"I'm A\", \"I'm B\", \"I'm D\", \"I'm A\", \"I'm B\", \"I'm C\", \"I'm D\", \"I'm A\", \"I'm B\", \"I'm C\", \"I'm D\", \"I'm A\", \"I'm B\", \"I'm C\", \"I'm D\", \"I'm A\", \"I'm B\", \"I'm C\", \"I'm D\", \"I'm A\", \"I'm B\", \"I'm C\", \"I'm D\", \"I'm A\", \"I'm B\", \"I'm C\", \"I'm D\", \"I'm A\", \"I'm B\", \"I'm C\", \"I'm D\", \"I'm A\", \"I'm B\", \"I'm C\", \"I'm D\", \"I'm A\", \"I'm B\", \"I'm C\", \"I'm D\", \"I'm A\", \"I'm B\", \"I'm C\", \"I'm D\", \"I'm A\", \"I'm B\", \"I'm C\", \"I'm D\", \"I'm A\", \"I'm B\", \"I'm C\", \"I'm D\", \"I'm A\", \"I'm B\", \"I'm C\", \"I'm D\", \"I'm A\", \"I'm B\", \"I'm C\", \"I'm D\", \"I'm A\", \"I'm B\", \"I'm C\", \"I'm D\", \"I'm A\", \"I'm B\", \"I'm C\", \"I'm D\", \"I'm A\", \"I'm B\", \"I'm C\", \"I'm D\"]\n",
      "Adding I'm C to [\"I'm A\", \"I'm B\", \"I'm C\", \"I'm B\", \"I'm D\", \"I'm A\", \"I'm D\", \"I'm A\", \"I'm B\", \"I'm C\", \"I'm B\", \"I'm C\", \"I'm D\", \"I'm A\", \"I'm B\", \"I'm D\", \"I'm A\", \"I'm B\", \"I'm C\", \"I'm D\", \"I'm A\", \"I'm B\", \"I'm C\", \"I'm D\", \"I'm A\", \"I'm B\", \"I'm C\", \"I'm D\", \"I'm A\", \"I'm B\", \"I'm C\", \"I'm D\", \"I'm A\", \"I'm B\", \"I'm C\", \"I'm D\", \"I'm A\", \"I'm B\", \"I'm C\", \"I'm D\", \"I'm A\", \"I'm B\", \"I'm C\", \"I'm D\", \"I'm A\", \"I'm B\", \"I'm C\", \"I'm D\", \"I'm A\", \"I'm B\", \"I'm C\", \"I'm D\", \"I'm A\", \"I'm B\", \"I'm C\", \"I'm D\", \"I'm A\", \"I'm B\", \"I'm C\", \"I'm D\", \"I'm A\", \"I'm B\", \"I'm C\", \"I'm D\", \"I'm A\", \"I'm B\", \"I'm C\", \"I'm D\", \"I'm A\", \"I'm B\", \"I'm C\", \"I'm D\", \"I'm A\", \"I'm B\", \"I'm C\", \"I'm D\", \"I'm A\", \"I'm B\", \"I'm C\", \"I'm D\", \"I'm A\", \"I'm B\", \"I'm C\", \"I'm D\"]\n",
      "Adding I'm A to [\"I'm A\", \"I'm B\", \"I'm C\", \"I'm B\", \"I'm D\", \"I'm A\", \"I'm D\", \"I'm A\", \"I'm B\", \"I'm C\", \"I'm B\", \"I'm C\", \"I'm D\", \"I'm A\", \"I'm B\", \"I'm D\", \"I'm A\", \"I'm B\", \"I'm C\", \"I'm D\", \"I'm A\", \"I'm B\", \"I'm C\", \"I'm D\", \"I'm A\", \"I'm B\", \"I'm C\", \"I'm D\", \"I'm A\", \"I'm B\", \"I'm C\", \"I'm D\", \"I'm A\", \"I'm B\", \"I'm C\", \"I'm D\", \"I'm A\", \"I'm B\", \"I'm C\", \"I'm D\", \"I'm A\", \"I'm B\", \"I'm C\", \"I'm D\", \"I'm A\", \"I'm B\", \"I'm C\", \"I'm D\", \"I'm A\", \"I'm B\", \"I'm C\", \"I'm D\", \"I'm A\", \"I'm B\", \"I'm C\", \"I'm D\", \"I'm A\", \"I'm B\", \"I'm C\", \"I'm D\", \"I'm A\", \"I'm B\", \"I'm C\", \"I'm D\", \"I'm A\", \"I'm B\", \"I'm C\", \"I'm D\", \"I'm A\", \"I'm B\", \"I'm C\", \"I'm D\", \"I'm A\", \"I'm B\", \"I'm C\", \"I'm D\", \"I'm A\", \"I'm B\", \"I'm C\", \"I'm D\", \"I'm A\", \"I'm B\", \"I'm C\", \"I'm D\"]\n"
     ]
    },
    {
     "ename": "GraphRecursionError",
     "evalue": "Recursion limit of 25 reached without hitting a stop condition. You can increase the limit by setting the `recursion_limit` config key.\nFor troubleshooting, visit: https://python.langchain.com/docs/troubleshooting/errors/GRAPH_RECURSION_LIMIT",
     "output_type": "error",
     "traceback": [
      "\u001b[31m---------------------------------------------------------------------------\u001b[39m",
      "\u001b[31mGraphRecursionError\u001b[39m                       Traceback (most recent call last)",
      "\u001b[36mCell\u001b[39m\u001b[36m \u001b[39m\u001b[32mIn[24]\u001b[39m\u001b[32m, line 1\u001b[39m\n\u001b[32m----> \u001b[39m\u001b[32m1\u001b[39m \u001b[43mgraph\u001b[49m\u001b[43m.\u001b[49m\u001b[43minvoke\u001b[49m\u001b[43m(\u001b[49m\u001b[43m{\u001b[49m\u001b[33;43m\"\u001b[39;49m\u001b[33;43mstate\u001b[39;49m\u001b[33;43m\"\u001b[39;49m\u001b[43m:\u001b[49m\u001b[43m \u001b[49m\u001b[43m[\u001b[49m\u001b[43m]\u001b[49m\u001b[43m}\u001b[49m\u001b[43m)\u001b[49m\n",
      "\u001b[36mFile \u001b[39m\u001b[32mc:\\Users\\adith\\OneDrive\\Desktop\\langchain-academy-main\\langchain-academy-main\\lc-academy-env\\Lib\\site-packages\\langgraph\\pregel\\main.py:3094\u001b[39m, in \u001b[36mPregel.invoke\u001b[39m\u001b[34m(self, input, config, context, stream_mode, print_mode, output_keys, interrupt_before, interrupt_after, durability, **kwargs)\u001b[39m\n\u001b[32m   3091\u001b[39m chunks: \u001b[38;5;28mlist\u001b[39m[\u001b[38;5;28mdict\u001b[39m[\u001b[38;5;28mstr\u001b[39m, Any] | Any] = []\n\u001b[32m   3092\u001b[39m interrupts: \u001b[38;5;28mlist\u001b[39m[Interrupt] = []\n\u001b[32m-> \u001b[39m\u001b[32m3094\u001b[39m \u001b[43m\u001b[49m\u001b[38;5;28;43;01mfor\u001b[39;49;00m\u001b[43m \u001b[49m\u001b[43mchunk\u001b[49m\u001b[43m \u001b[49m\u001b[38;5;129;43;01min\u001b[39;49;00m\u001b[43m \u001b[49m\u001b[38;5;28;43mself\u001b[39;49m\u001b[43m.\u001b[49m\u001b[43mstream\u001b[49m\u001b[43m(\u001b[49m\n\u001b[32m   3095\u001b[39m \u001b[43m    \u001b[49m\u001b[38;5;28;43minput\u001b[39;49m\u001b[43m,\u001b[49m\n\u001b[32m   3096\u001b[39m \u001b[43m    \u001b[49m\u001b[43mconfig\u001b[49m\u001b[43m,\u001b[49m\n\u001b[32m   3097\u001b[39m \u001b[43m    \u001b[49m\u001b[43mcontext\u001b[49m\u001b[43m=\u001b[49m\u001b[43mcontext\u001b[49m\u001b[43m,\u001b[49m\n\u001b[32m   3098\u001b[39m \u001b[43m    \u001b[49m\u001b[43mstream_mode\u001b[49m\u001b[43m=\u001b[49m\u001b[43m[\u001b[49m\u001b[33;43m\"\u001b[39;49m\u001b[33;43mupdates\u001b[39;49m\u001b[33;43m\"\u001b[39;49m\u001b[43m,\u001b[49m\u001b[43m \u001b[49m\u001b[33;43m\"\u001b[39;49m\u001b[33;43mvalues\u001b[39;49m\u001b[33;43m\"\u001b[39;49m\u001b[43m]\u001b[49m\n\u001b[32m   3099\u001b[39m \u001b[43m    \u001b[49m\u001b[38;5;28;43;01mif\u001b[39;49;00m\u001b[43m \u001b[49m\u001b[43mstream_mode\u001b[49m\u001b[43m \u001b[49m\u001b[43m==\u001b[49m\u001b[43m \u001b[49m\u001b[33;43m\"\u001b[39;49m\u001b[33;43mvalues\u001b[39;49m\u001b[33;43m\"\u001b[39;49m\n\u001b[32m   3100\u001b[39m \u001b[43m    \u001b[49m\u001b[38;5;28;43;01melse\u001b[39;49;00m\u001b[43m \u001b[49m\u001b[43mstream_mode\u001b[49m\u001b[43m,\u001b[49m\n\u001b[32m   3101\u001b[39m \u001b[43m    \u001b[49m\u001b[43mprint_mode\u001b[49m\u001b[43m=\u001b[49m\u001b[43mprint_mode\u001b[49m\u001b[43m,\u001b[49m\n\u001b[32m   3102\u001b[39m \u001b[43m    \u001b[49m\u001b[43moutput_keys\u001b[49m\u001b[43m=\u001b[49m\u001b[43moutput_keys\u001b[49m\u001b[43m,\u001b[49m\n\u001b[32m   3103\u001b[39m \u001b[43m    \u001b[49m\u001b[43minterrupt_before\u001b[49m\u001b[43m=\u001b[49m\u001b[43minterrupt_before\u001b[49m\u001b[43m,\u001b[49m\n\u001b[32m   3104\u001b[39m \u001b[43m    \u001b[49m\u001b[43minterrupt_after\u001b[49m\u001b[43m=\u001b[49m\u001b[43minterrupt_after\u001b[49m\u001b[43m,\u001b[49m\n\u001b[32m   3105\u001b[39m \u001b[43m    \u001b[49m\u001b[43mdurability\u001b[49m\u001b[43m=\u001b[49m\u001b[43mdurability\u001b[49m\u001b[43m,\u001b[49m\n\u001b[32m   3106\u001b[39m \u001b[43m    \u001b[49m\u001b[43m*\u001b[49m\u001b[43m*\u001b[49m\u001b[43mkwargs\u001b[49m\u001b[43m,\u001b[49m\n\u001b[32m   3107\u001b[39m \u001b[43m\u001b[49m\u001b[43m)\u001b[49m\u001b[43m:\u001b[49m\n\u001b[32m   3108\u001b[39m \u001b[43m    \u001b[49m\u001b[38;5;28;43;01mif\u001b[39;49;00m\u001b[43m \u001b[49m\u001b[43mstream_mode\u001b[49m\u001b[43m \u001b[49m\u001b[43m==\u001b[49m\u001b[43m \u001b[49m\u001b[33;43m\"\u001b[39;49m\u001b[33;43mvalues\u001b[39;49m\u001b[33;43m\"\u001b[39;49m\u001b[43m:\u001b[49m\n\u001b[32m   3109\u001b[39m \u001b[43m        \u001b[49m\u001b[38;5;28;43;01mif\u001b[39;49;00m\u001b[43m \u001b[49m\u001b[38;5;28;43mlen\u001b[39;49m\u001b[43m(\u001b[49m\u001b[43mchunk\u001b[49m\u001b[43m)\u001b[49m\u001b[43m \u001b[49m\u001b[43m==\u001b[49m\u001b[43m \u001b[49m\u001b[32;43m2\u001b[39;49m\u001b[43m:\u001b[49m\n",
      "\u001b[36mFile \u001b[39m\u001b[32mc:\\Users\\adith\\OneDrive\\Desktop\\langchain-academy-main\\langchain-academy-main\\lc-academy-env\\Lib\\site-packages\\langgraph\\pregel\\main.py:2707\u001b[39m, in \u001b[36mPregel.stream\u001b[39m\u001b[34m(self, input, config, context, stream_mode, print_mode, output_keys, interrupt_before, interrupt_after, durability, subgraphs, debug, **kwargs)\u001b[39m\n\u001b[32m   2698\u001b[39m \u001b[38;5;28;01mif\u001b[39;00m loop.status == \u001b[33m\"\u001b[39m\u001b[33mout_of_steps\u001b[39m\u001b[33m\"\u001b[39m:\n\u001b[32m   2699\u001b[39m     msg = create_error_message(\n\u001b[32m   2700\u001b[39m         message=(\n\u001b[32m   2701\u001b[39m             \u001b[33mf\u001b[39m\u001b[33m\"\u001b[39m\u001b[33mRecursion limit of \u001b[39m\u001b[38;5;132;01m{\u001b[39;00mconfig[\u001b[33m'\u001b[39m\u001b[33mrecursion_limit\u001b[39m\u001b[33m'\u001b[39m]\u001b[38;5;132;01m}\u001b[39;00m\u001b[33m reached \u001b[39m\u001b[33m\"\u001b[39m\n\u001b[32m   (...)\u001b[39m\u001b[32m   2705\u001b[39m         error_code=ErrorCode.GRAPH_RECURSION_LIMIT,\n\u001b[32m   2706\u001b[39m     )\n\u001b[32m-> \u001b[39m\u001b[32m2707\u001b[39m     \u001b[38;5;28;01mraise\u001b[39;00m GraphRecursionError(msg)\n\u001b[32m   2708\u001b[39m \u001b[38;5;66;03m# set final channel values as run output\u001b[39;00m\n\u001b[32m   2709\u001b[39m run_manager.on_chain_end(loop.output)\n",
      "\u001b[31mGraphRecursionError\u001b[39m: Recursion limit of 25 reached without hitting a stop condition. You can increase the limit by setting the `recursion_limit` config key.\nFor troubleshooting, visit: https://python.langchain.com/docs/troubleshooting/errors/GRAPH_RECURSION_LIMIT"
     ]
    }
   ],
   "source": [
    "graph.invoke({\"state\": []})\n"
   ]
  },
  {
   "cell_type": "markdown",
   "id": "bdf5baa2-cecd-44b6-b0c4-d258340783f8",
   "metadata": {},
   "source": [
    "Now we see that we append to state for the updates made in parallel by `b` and `c`."
   ]
  },
  {
   "cell_type": "markdown",
   "id": "ed6fc7c7-198d-41be-867f-e77c93ba3217",
   "metadata": {},
   "source": [
    "## Waiting for nodes to finish\n",
    "\n",
    "Now, lets consider a case where one parallel path has more steps than the other one."
   ]
  },
  {
   "cell_type": "code",
   "execution_count": 9,
   "id": "f50b5d4f-dd39-4c22-b623-e0abc23f9144",
   "metadata": {},
   "outputs": [
    {
     "data": {
      "image/png": "[encoded data removed]",
      "text/plain": [
       "<IPython.core.display.Image object>"
      ]
     },
     "metadata": {},
     "output_type": "display_data"
    }
   ],
   "source": [
    "builder = StateGraph(State)\n",
    "\n",
    "# Initialize each node with node_secret \n",
    "builder.add_node(\"a\", ReturnNodeValue(\"I'm A\"))\n",
    "builder.add_node(\"b\", ReturnNodeValue(\"I'm B\"))\n",
    "builder.add_node(\"b2\", ReturnNodeValue(\"I'm B2\"))\n",
    "builder.add_node(\"c\", ReturnNodeValue(\"I'm C\"))\n",
    "builder.add_node(\"d\", ReturnNodeValue(\"I'm D\"))\n",
    "\n",
    "# Flow\n",
    "builder.add_edge(START, \"a\")\n",
    "builder.add_edge(\"a\", \"b\")\n",
    "builder.add_edge(\"a\", \"c\")\n",
    "builder.add_edge(\"b\", \"b2\")\n",
    "builder.add_edge([\"b2\", \"c\"], \"d\")\n",
    "builder.add_edge(\"d\", END)\n",
    "graph = builder.compile()\n",
    "\n",
    "display(Image(graph.get_graph().draw_mermaid_png()))"
   ]
  },
  {
   "cell_type": "markdown",
   "id": "11640e6f-ac62-4ad4-89d9-7f6f9b56bf7a",
   "metadata": {},
   "source": [
    "In this case, `b`, `b2`, and `c` are all part of the same step.\n",
    "\n",
    "The graph will wait for all of these to be completed before proceeding to step `d`. "
   ]
  },
  {
   "cell_type": "code",
   "execution_count": 10,
   "id": "fafda930-e75b-410f-ba93-eb5fc0219303",
   "metadata": {},
   "outputs": [
    {
     "name": "stdout",
     "output_type": "stream",
     "text": [
      "Adding I'm A to []\n",
      "Adding I'm B to [\"I'm A\"]\n",
      "Adding I'm C to [\"I'm A\"]\n",
      "Adding I'm B2 to [\"I'm A\", \"I'm B\", \"I'm C\"]\n",
      "Adding I'm D to [\"I'm A\", \"I'm B\", \"I'm C\", \"I'm B2\"]\n"
     ]
    },
    {
     "data": {
      "text/plain": [
       "{'state': [\"I'm A\", \"I'm B\", \"I'm C\", \"I'm B2\", \"I'm D\"]}"
      ]
     },
     "execution_count": 10,
     "metadata": {},
     "output_type": "execute_result"
    }
   ],
   "source": [
    "graph.invoke({\"state\": []})"
   ]
  },
  {
   "cell_type": "markdown",
   "id": "6610a2e3-b053-47e8-bf4e-0968dfaa0a5d",
   "metadata": {},
   "source": [
    "## Setting the order of state updates\n",
    "\n",
    "However, within each step we don't have specific control over the order of the state updates!\n",
    "\n",
    "In simple terms, it is a deterministic order determined by LangGraph based upon graph topology that **we do not control**. \n",
    "\n",
    "Above, we see that `c` is added before `b2`.\n",
    "\n",
    "However, we can use a custom reducer to customize this e.g., sort state updates."
   ]
  },
  {
   "cell_type": "code",
   "execution_count": 29,
   "id": "24788e73-0950-432e-ad32-7987ea076529",
   "metadata": {},
   "outputs": [
    {
     "data": {
      "image/png": "[encoded data removed]",
      "text/plain": [
       "<IPython.core.display.Image object>"
      ]
     },
     "metadata": {},
     "output_type": "display_data"
    }
   ],
   "source": [
    "def sorting_reducer(left, right):\n",
    "    \"\"\" Combines and sorts the values in a list\"\"\"\n",
    "    if not isinstance(left, list):\n",
    "        left = [left]\n",
    "\n",
    "    if not isinstance(right, list):\n",
    "        right = [right]\n",
    "    \n",
    "    return sorted(left + right, reverse=False)\n",
    "\n",
    "class State(TypedDict):\n",
    "    # sorting_reducer will sort the values in state\n",
    "    state: Annotated[list, sorting_reducer]\n",
    "\n",
    "# Add nodes\n",
    "builder = StateGraph(State)\n",
    "\n",
    "# Initialize each node with node_secret \n",
    "builder.add_node(\"a\", ReturnNodeValue(\"I'm A\"))\n",
    "builder.add_node(\"b\", ReturnNodeValue(\"I'm B\"))\n",
    "builder.add_node(\"b2\", ReturnNodeValue(\"I'm B2\"))\n",
    "builder.add_node(\"c\", ReturnNodeValue(\"I'm C\"))\n",
    "builder.add_node(\"d\", ReturnNodeValue(\"I'm D\"))\n",
    "\n",
    "# Flow\n",
    "builder.add_edge(START, \"a\")\n",
    "builder.add_edge(\"a\", \"b\")\n",
    "builder.add_edge(\"a\", \"c\")\n",
    "builder.add_edge(\"b\", \"b2\")\n",
    "builder.add_edge(\"c\", \"b\")\n",
    "builder.add_edge([\"b2\", \"c\"], \"d\")\n",
    "builder.add_edge(\"d\", END)\n",
    "graph = builder.compile()\n",
    "\n",
    "display(Image(graph.get_graph().draw_mermaid_png()))"
   ]
  },
  {
   "cell_type": "code",
   "execution_count": 30,
   "id": "607dba2e-f9f0-4bc7-8ba6-684521a49bdc",
   "metadata": {},
   "outputs": [
    {
     "name": "stdout",
     "output_type": "stream",
     "text": [
      "Adding I'm A to []\n",
      "Adding I'm B to [\"I'm A\"]\n",
      "Adding I'm C to [\"I'm A\"]\n",
      "Adding I'm B to [\"I'm A\", \"I'm B\", \"I'm C\"]\n",
      "Adding I'm B2 to [\"I'm A\", \"I'm B\", \"I'm C\"]\n",
      "Adding I'm B2 to [\"I'm A\", \"I'm B\", \"I'm B\", \"I'm B2\", \"I'm C\"]\n",
      "Adding I'm D to [\"I'm A\", \"I'm B\", \"I'm B\", \"I'm B2\", \"I'm C\"]\n"
     ]
    },
    {
     "data": {
      "text/plain": [
       "{'state': [\"I'm A\", \"I'm B\", \"I'm B\", \"I'm B2\", \"I'm B2\", \"I'm C\", \"I'm D\"]}"
      ]
     },
     "execution_count": 30,
     "metadata": {},
     "output_type": "execute_result"
    }
   ],
   "source": [
    "graph.invoke({\"state\": []})"
   ]
  },
  {
   "cell_type": "markdown",
   "id": "fb1714c0-e881-48e7-bcb8-a60016f0485e",
   "metadata": {},
   "source": [
    "Now, the reducer sorts the updated state values!\n",
    "\n",
    "The `sorting_reducer` example sorts all values globally. We can also: \n",
    "\n",
    "1. Write outputs to a separate field in the state during the parallel step\n",
    "2. Use a \"sink\" node after the parallel step to combine and order those outputs\n",
    "3. Clear the temporary field after combining\n",
    "\n",
    "See the [docs](https://langchain-ai.github.io/langgraph/how-tos/branching/#stable-sorting) for more details.\n"
   ]
  },
  {
   "cell_type": "markdown",
   "id": "34e0750b-e6af-40d9-835c-c664da5a2d3b",
   "metadata": {},
   "source": [
    "## Working with LLMs\n",
    "\n",
    "Now, lets add a realistic example! \n",
    "\n",
    "We want to gather context from two external sources (Wikipedia and Web-Search) and have an LLM answer a question."
   ]
  },
  {
   "cell_type": "code",
   "execution_count": 31,
   "id": "e1e9d03c-cb41-415c-862d-c9616d5a2d07",
   "metadata": {},
   "outputs": [],
   "source": [
    "from langchain_openai import ChatOpenAI\n",
    "llm = ChatOpenAI(model=\"gpt-4o\", temperature=0) "
   ]
  },
  {
   "cell_type": "code",
   "execution_count": 32,
   "id": "0f75cc78-d1a1-47a5-8648-bf5a79c883de",
   "metadata": {},
   "outputs": [],
   "source": [
    "class State(TypedDict):\n",
    "    question: str\n",
    "    answer: str\n",
    "    context: Annotated[list, operator.add]"
   ]
  },
  {
   "cell_type": "markdown",
   "id": "9e714ea8-095c-461a-98bc-ee782a84ef5c",
   "metadata": {},
   "source": [
    "You can try different web search tools. [Tavily](https://tavily.com/) is one nice option to consider, but ensure your `TAVILY_API_KEY` is set."
   ]
  },
  {
   "cell_type": "code",
   "execution_count": 33,
   "id": "c8bb519a-d08a-4ec7-8f0b-2ce6a9bf7342",
   "metadata": {},
   "outputs": [],
   "source": [
    "import os, getpass\n",
    "def _set_env(var: str):\n",
    "    if not os.environ.get(var):\n",
    "        os.environ[var] = getpass.getpass(f\"{var}: \")\n",
    "_set_env(\"TAVILY_API_KEY\")"
   ]
  },
  {
   "cell_type": "code",
   "execution_count": 34,
   "id": "bfb4f56c-3334-4927-8ed8-62fd384ee43e",
   "metadata": {},
   "outputs": [
    {
     "data": {
      "image/png": "[encoded data removed]",
      "text/plain": [
       "<IPython.core.display.Image object>"
      ]
     },
     "metadata": {},
     "output_type": "display_data"
    }
   ],
   "source": [
    "from langchain_core.messages import HumanMessage, SystemMessage\n",
    "\n",
    "from langchain_community.document_loaders import WikipediaLoader\n",
    "from langchain_community.tools import TavilySearchResults\n",
    "\n",
    "def search_web(state):\n",
    "    \n",
    "    \"\"\" Retrieve docs from web search \"\"\"\n",
    "\n",
    "    # Search\n",
    "    tavily_search = TavilySearchResults(max_results=3)\n",
    "    search_docs = tavily_search.invoke(state['question'])\n",
    "\n",
    "     # Format\n",
    "    formatted_search_docs = \"\\n\\n---\\n\\n\".join(\n",
    "        [\n",
    "            f'<Document href=\"{doc[\"url\"]}\">\\n{doc[\"content\"]}\\n</Document>'\n",
    "            for doc in search_docs\n",
    "        ]\n",
    "    )\n",
    "\n",
    "    return {\"context\": [formatted_search_docs]} \n",
    "\n",
    "def search_wikipedia(state):\n",
    "    \n",
    "    \"\"\" Retrieve docs from wikipedia \"\"\"\n",
    "\n",
    "    # Search\n",
    "    search_docs = WikipediaLoader(query=state['question'], \n",
    "                                  load_max_docs=2).load()\n",
    "\n",
    "     # Format\n",
    "    formatted_search_docs = \"\\n\\n---\\n\\n\".join(\n",
    "        [\n",
    "            f'<Document source=\"{doc.metadata[\"source\"]}\" page=\"{doc.metadata.get(\"page\", \"\")}\">\\n{doc.page_content}\\n</Document>'\n",
    "            for doc in search_docs\n",
    "        ]\n",
    "    )\n",
    "\n",
    "    return {\"context\": [formatted_search_docs]} \n",
    "\n",
    "def generate_answer(state):\n",
    "    \n",
    "    \"\"\" Node to answer a question \"\"\"\n",
    "\n",
    "    # Get state\n",
    "    context = state[\"context\"]\n",
    "    question = state[\"question\"]\n",
    "\n",
    "    # Template\n",
    "    answer_template = \"\"\"Answer the question {question} using this context: {context}\"\"\"\n",
    "    answer_instructions = answer_template.format(question=question, \n",
    "                                                       context=context)    \n",
    "    \n",
    "    # Answer\n",
    "    answer = llm.invoke([SystemMessage(content=answer_instructions)]+[HumanMessage(content=f\"Answer the question.\")])\n",
    "      \n",
    "    # Append it to state\n",
    "    return {\"answer\": answer}\n",
    "\n",
    "# Add nodes\n",
    "builder = StateGraph(State)\n",
    "\n",
    "# Initialize each node with node_secret \n",
    "builder.add_node(\"search_web\",search_web)\n",
    "builder.add_node(\"search_wikipedia\", search_wikipedia)\n",
    "builder.add_node(\"generate_answer\", generate_answer)\n",
    "\n",
    "# Flow\n",
    "builder.add_edge(START, \"search_wikipedia\")\n",
    "builder.add_edge(START, \"search_web\")\n",
    "builder.add_edge(\"search_wikipedia\", \"generate_answer\")\n",
    "builder.add_edge(\"search_web\", \"generate_answer\")\n",
    "builder.add_edge(\"generate_answer\", END)\n",
    "graph = builder.compile()\n",
    "\n",
    "display(Image(graph.get_graph().draw_mermaid_png()))"
   ]
  },
  {
   "cell_type": "code",
   "execution_count": 35,
   "id": "fa544ca0-10af-491e-ad7a-477d004413eb",
   "metadata": {},
   "outputs": [
    {
     "name": "stderr",
     "output_type": "stream",
     "text": [
      "C:\\Users\\adith\\AppData\\Local\\Temp\\ipykernel_12956\\3921850799.py:11: LangChainDeprecationWarning: The class `TavilySearchResults` was deprecated in LangChain 0.3.25 and will be removed in 1.0. An updated version of the class exists in the `langchain-tavily package and should be used instead. To use it run `pip install -U `langchain-tavily` and import as `from `langchain_tavily import TavilySearch``.\n",
      "  tavily_search = TavilySearchResults(max_results=3)\n"
     ]
    },
    {
     "data": {
      "text/plain": [
       "\"Nvidia's Q2 2024 earnings were strong, as the company beat estimates for its fiscal second quarter. Nvidia reported earnings of $2.70 per share, adjusted, which was higher than the $2.09 per share expected by Refinitiv. The company's revenue was $13.51 billion, surpassing the expected $11.22 billion. The performance was driven by its data center business, which includes AI chips, with revenue for this group reaching $10.32 billion, up 171% year over year and above the $8.03 billion estimate. Additionally, Nvidia's gaming division saw a revenue increase of 22% from a year earlier. The company's adjusted gross margin increased significantly to 71.2% due to growth in profit-rich data center sales. Following these results, Nvidia shares climbed 6% in extended trading.\""
      ]
     },
     "execution_count": 35,
     "metadata": {},
     "output_type": "execute_result"
    }
   ],
   "source": [
    "result = graph.invoke({\"question\": \"How were Nvidia's Q2 2024 earnings\"})\n",
    "result['answer'].content"
   ]
  },
  {
   "attachments": {},
   "cell_type": "markdown",
   "id": "3dbbecab-80eb-4f0c-b43a-45542fc0ae9c",
   "metadata": {},
   "source": [
    "## Using with LangGraph API\n",
    "\n",
    "**⚠️ DISCLAIMER**\n",
    "\n",
    "Since the filming of these videos, we've updated Studio so that it can be run locally and opened in your browser. This is now the preferred way to run Studio (rather than using the Desktop App as shown in the video). See documentation [here](https://langchain-ai.github.io/langgraph/concepts/langgraph_studio/#local-development-server) on the local development server and [here](https://langchain-ai.github.io/langgraph/how-tos/local-studio/#run-the-development-server). To start the local development server, run the following command in your terminal in the `/studio` directory in this module:\n",
    "\n",
    "```\n",
    "langgraph dev\n",
    "```\n",
    "\n",
    "You should see the following output:\n",
    "```\n",
    "- 🚀 API: http://127.0.0.1:2024\n",
    "- 🎨 Studio UI: https://smith.langchain.com/studio/?baseUrl=http://127.0.0.1:2024\n",
    "- 📚 API Docs: http://127.0.0.1:2024/docs\n",
    "```\n",
    "\n",
    "Open your browser and navigate to the Studio UI: `https://smith.langchain.com/studio/?baseUrl=http://127.0.0.1:2024`."
   ]
  },
  {
   "cell_type": "code",
   "execution_count": 36,
   "id": "4bc8ad8d-1365-4801-a8a5-b85cd4965119",
   "metadata": {},
   "outputs": [],
   "source": [
    "if 'google.colab' in str(get_ipython()):\n",
    "    raise Exception(\"Unfortunately LangGraph Studio is currently not supported on Google Colab\")"
   ]
  },
  {
   "cell_type": "code",
   "execution_count": 37,
   "id": "23919dc9-27d8-4d10-b91d-24acdf8c0fb9",
   "metadata": {},
   "outputs": [],
   "source": [
    "from langgraph_sdk import get_client\n",
    "client = get_client(url=\"http://127.0.0.1:2024\")"
   ]
  },
  {
   "cell_type": "code",
   "execution_count": 38,
   "id": "ff35e68f-4017-4f45-93cf-ddbb355a0bc1",
   "metadata": {},
   "outputs": [
    {
     "name": "stdout",
     "output_type": "stream",
     "text": [
      "Nvidia's Q2 2024 earnings were strong, with the company reporting earnings of $2.70 per share, adjusted, which exceeded the expected $2.09 per share. Revenue was $13.51 billion, surpassing the expected $11.22 billion. The company's performance was driven by its data center business, which saw significant growth, with revenue for the group reaching $10.32 billion, up 171% year over year. Nvidia's gaming division also saw a revenue increase of 22% from a year earlier. Overall, Nvidia's earnings beat estimates, and the company issued optimistic guidance for the current period, leading to a 6% increase in its shares in extended trading.\n"
     ]
    }
   ],
   "source": [
    "thread = await client.threads.create()\n",
    "input_question = {\"question\": \"How were Nvidia Q2 2024 earnings?\"}\n",
    "async for event in client.runs.stream(thread[\"thread_id\"], \n",
    "                                      assistant_id=\"parallelization\", \n",
    "                                      input=input_question, \n",
    "                                      stream_mode=\"values\"):\n",
    "    # Check if answer has been added to state  \n",
    "    if event.data is not None:\n",
    "        answer = event.data.get('answer', None)\n",
    "        if answer:\n",
    "            print(answer['content'])"
   ]
  },
  {
   "cell_type": "code",
   "execution_count": null,
   "id": "54da0234-bddb-4c5b-9b93-b75b7c824d3b",
   "metadata": {},
   "outputs": [],
   "source": []
  }
 ],
 "metadata": {
  "kernelspec": {
   "display_name": "lc-academy-env (3.13.8)",
   "language": "python",
   "name": "python3"
  },
  "language_info": {
   "codemirror_mode": {
    "name": "ipython",
    "version": 3
   },
   "file_extension": ".py",
   "mimetype": "text/x-python",
   "name": "python",
   "nbconvert_exporter": "python",
   "pygments_lexer": "ipython3",
   "version": "3.13.9"
  }
 },
 "nbformat": 4,
 "nbformat_minor": 5
}
