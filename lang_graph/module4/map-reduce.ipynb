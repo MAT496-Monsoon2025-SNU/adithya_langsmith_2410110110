{
 "cells": [
  {
   "cell_type": "markdown",
   "id": "4cd4f701",
   "metadata": {},
   "source": [
    "[![Open in Colab](https://colab.research.google.com/assets/colab-badge.svg)](https://colab.research.google.com/github/langchain-ai/langchain-academy/blob/main/module-4/map-reduce.ipynb) [![Open in LangChain Academy](https://cdn.prod.website-files.com/65b8cd72835ceeacd4449a53/66e9eba12c7b7688aa3dbb5e_LCA-badge-green.svg)](https://academy.langchain.com/courses/take/intro-to-langgraph/lessons/58239947-lesson-3-map-reduce)"
   ]
  },
  {
   "cell_type": "markdown",
   "id": "36737349-c949-4d64-9aa3-3767cbd02ad1",
   "metadata": {},
   "source": [
    "# Map-reduce\n",
    "\n",
    "## Review\n",
    "\n",
    "We're building up to a multi-agent research assistant that ties together all of the modules from this course.\n",
    "\n",
    "To build this multi-agent assistant, we've been introducing a few LangGraph controllability topics.\n",
    "\n",
    "We just covered parallelization and sub-graphs.\n",
    "\n",
    "## Goals\n",
    "\n",
    "Now, we're going to cover [map reduce](https://langchain-ai.github.io/langgraph/how-tos/map-reduce/)."
   ]
  },
  {
   "cell_type": "code",
   "execution_count": 1,
   "id": "f24e95c8",
   "metadata": {},
   "outputs": [
    {
     "name": "stderr",
     "output_type": "stream",
     "text": [
      "\n",
      "[notice] A new release of pip is available: 25.2 -> 25.3\n",
      "[notice] To update, run: python.exe -m pip install --upgrade pip\n"
     ]
    }
   ],
   "source": [
    "%%capture --no-stderr\n",
    "%pip install -U langchain_openai langgraph"
   ]
  },
  {
   "cell_type": "code",
   "execution_count": 19,
   "id": "ff57cbf7",
   "metadata": {},
   "outputs": [],
   "source": [
    "import os, getpass\n",
    "\n",
    "def _set_env(var: str):\n",
    "    if not os.environ.get(var):\n",
    "        os.environ[var] = getpass.getpass(f\"{var}: \")\n",
    "\n",
    "_set_env(\"OPENAI_API_KEY\")"
   ]
  },
  {
   "cell_type": "markdown",
   "id": "cbcd868a",
   "metadata": {},
   "source": [
    "We'll use [LangSmith](https://docs.smith.langchain.com/) for [tracing](https://docs.smith.langchain.com/concepts/tracing)."
   ]
  },
  {
   "cell_type": "code",
   "execution_count": 20,
   "id": "9fdc647f",
   "metadata": {},
   "outputs": [],
   "source": [
    "_set_env(\"LANGSMITH_API_KEY\")\n",
    "os.environ[\"LANGSMITH_TRACING\"] = \"true\"\n",
    "os.environ[\"LANGSMITH_PROJECT\"] = \"langchain-academy\""
   ]
  },
  {
   "cell_type": "markdown",
   "id": "2bbe9b9f-4375-4bca-8e32-7d57cb861469",
   "metadata": {},
   "source": [
    "## Problem\n",
    "\n",
    "Map-reduce operations are essential for efficient task decomposition and parallel processing. \n",
    "\n",
    "It has two phases:\n",
    "\n",
    "(1) `Map` - Break a task into smaller sub-tasks, processing each sub-task in parallel.\n",
    "\n",
    "(2) `Reduce` - Aggregate the results across all of the completed, parallelized sub-tasks.\n",
    "\n",
    "Let's design a system that will do two things:\n",
    "\n",
    "(1) `Map` - Create a set of jokes about a topic.\n",
    "\n",
    "(2) `Reduce` - Pick the best joke from the list.\n",
    "\n",
    "We'll use an LLM to do the job generation and selection."
   ]
  },
  {
   "cell_type": "code",
   "execution_count": 4,
   "id": "994cf903-1ed6-4ae2-b32a-7891a2808f81",
   "metadata": {},
   "outputs": [],
   "source": [
    "from langchain_openai import ChatOpenAI\n",
    "\n",
    "# Prompts we will use\n",
    "subjects_prompt = \"\"\"Generate a list of of 3 jobs role which are high paying: {topic}.\"\"\"\n",
    "job_prompt = \"\"\"Generate a job description for {subject}\"\"\"\n",
    "best_job_prompt = \"\"\"Below are a bunch of job descriptions about {topic}. Select the best one! Return the ID of the best one, starting 0 as the ID for the first job description. Job Descriptions: \\n\\n  {jobs}\"\"\"\n",
    "university_prompt = \"\"\"Generate a list of of 3 top universities  which got accepted for the job role: {job}.\"\"\"\n",
    "# LLM\n",
    "model = ChatOpenAI(model=\"gpt-4o\", temperature=0) "
   ]
  },
  {
   "cell_type": "markdown",
   "id": "f3b883cc-3469-4e96-b1a4-deadf7bf3ce5",
   "metadata": {},
   "source": [
    "## State\n",
    "\n",
    "### Parallelizing joke generation\n",
    "\n",
    "First, let's define the entry point of the graph that will:\n",
    "\n",
    "* Take a user input topic\n",
    "* Produce a list of joke topics from it\n",
    "* Send each joke topic to our above joke generation node\n",
    "\n",
    "Our state has a `jokes` key, which will accumulate jokes from parallelized joke generation"
   ]
  },
  {
   "cell_type": "code",
   "execution_count": 14,
   "id": "099218ca-ee78-4291-95a1-87ee61382e3b",
   "metadata": {},
   "outputs": [],
   "source": [
    "import operator\n",
    "from typing import Annotated\n",
    "from typing_extensions import TypedDict\n",
    "from pydantic import BaseModel\n",
    "class Universities(BaseModel):\n",
    "    universities: list[str]\n",
    "\n",
    "class Subjects(BaseModel):\n",
    "    subjects: list[str]\n",
    "\n",
    "class Bestjob(BaseModel):\n",
    "    id: int\n",
    "    \n",
    "class OverallState(TypedDict):\n",
    "    topic: str\n",
    "    subjects: list\n",
    "    jobs: Annotated[list, operator.add]\n",
    "    best_selected_job: str\n",
    "    universities: list\n",
    "     "
   ]
  },
  {
   "cell_type": "markdown",
   "id": "c7176d1c-4a88-4b0f-a960-ee04a45279bd",
   "metadata": {},
   "source": [
    "Generate subjects for jokes."
   ]
  },
  {
   "cell_type": "code",
   "execution_count": 13,
   "id": "45010efd-ad31-4daa-b77e-aaec79ef0309",
   "metadata": {},
   "outputs": [],
   "source": [
    "def generate_topics(state: OverallState):\n",
    "    prompt = subjects_prompt.format(topic=state[\"topic\"])\n",
    "    response = model.with_structured_output(Subjects).invoke(prompt)\n",
    "    return {\"subjects\": response.subjects}\n",
    "def generate_university(state: OverallState):\n",
    "    prompt = university_prompt.format(job=state[\"best_selected_job\"])\n",
    "    response = model.with_structured_output(Universities).invoke(prompt)\n",
    "    return {\"universities\": [response.universities]} "
   ]
  },
  {
   "cell_type": "markdown",
   "id": "e5296bb0-c163-4e5c-8181-1e305b37442a",
   "metadata": {},
   "source": [
    "Here is the magic: we use the [Send](https://langchain-ai.github.io/langgraph/concepts/low_level/#send) to create a joke for each subject.\n",
    "\n",
    "This is very useful! It can automatically parallelize joke generation for any number of subjects.\n",
    "\n",
    "* `generate_joke`: the name of the node in the graph\n",
    "* `{\"subject\": s`}: the state to send\n",
    "\n",
    "`Send` allow you to pass any state that you want to `generate_joke`! It does not have to align with `OverallState`.\n",
    "\n",
    "In this case, `generate_joke` is using its own internal state, and we can populate this via `Send`."
   ]
  },
  {
   "cell_type": "code",
   "execution_count": 15,
   "id": "bc83e575-11f6-41a9-990a-adb571bcda06",
   "metadata": {},
   "outputs": [],
   "source": [
    "from langgraph.types import Send\n",
    "def continue_to_jobs(state: OverallState):\n",
    "    return [Send(\"generate_job\", {\"subject\": s}) for s in state[\"subjects\"]]"
   ]
  },
  {
   "cell_type": "markdown",
   "id": "9847192d-d358-411e-90c0-f06be0738717",
   "metadata": {},
   "source": [
    "### Joke generation (map)\n",
    "\n",
    "Now, we just define a node that will create our jokes, `generate_joke`!\n",
    "\n",
    "We write them back out to `jokes` in `OverallState`! \n",
    "\n",
    "This key has a reducer that will combine lists."
   ]
  },
  {
   "cell_type": "code",
   "execution_count": 16,
   "id": "bcddc567-73d3-4fb3-bfc5-1bea538f2aab",
   "metadata": {},
   "outputs": [],
   "source": [
    "class JobState(TypedDict):\n",
    "    subject: str\n",
    "\n",
    "class Job(BaseModel):\n",
    "    job: str\n",
    "\n",
    "def generate_job(state: JobState):\n",
    "    prompt = job_prompt.format(subject=state[\"subject\"])\n",
    "    response = model.with_structured_output(Job).invoke(prompt)\n",
    "    return {\"jobs\": [response.job]}"
   ]
  },
  {
   "cell_type": "markdown",
   "id": "02960657-d174-4076-99a8-b3f9eea015f4",
   "metadata": {},
   "source": [
    "### Best joke selection (reduce)\n",
    "\n",
    "Now, we add logic to pick the best joke."
   ]
  },
  {
   "cell_type": "code",
   "execution_count": 17,
   "id": "8d672870-75e3-4307-bda0-c41a86cbbaff",
   "metadata": {},
   "outputs": [],
   "source": [
    "def best_job(state: OverallState):\n",
    "    jobs = \"\\n\\n\".join(state[\"jobs\"])\n",
    "    prompt = best_job_prompt.format(topic=state[\"topic\"], jobs=jobs)\n",
    "    response = model.with_structured_output(Bestjob).invoke(prompt)\n",
    "    return {\"best_selected_job\": state[\"jobs\"][response.id]}"
   ]
  },
  {
   "cell_type": "markdown",
   "id": "837cd12e-5bff-426e-97f4-c774df998cfb",
   "metadata": {},
   "source": [
    "## Compile"
   ]
  },
  {
   "cell_type": "code",
   "execution_count": 18,
   "id": "2ae6be4b-144e-483c-88ad-ce86d6477a0d",
   "metadata": {},
   "outputs": [
    {
     "data": {
      "image/png": "[encoded data removed]",
      "text/plain": [
       "<IPython.core.display.Image object>"
      ]
     },
     "execution_count": 18,
     "metadata": {},
     "output_type": "execute_result"
    }
   ],
   "source": [
    "from IPython.display import Image\n",
    "from langgraph.graph import END, StateGraph, START\n",
    "\n",
    "# Construct the graph: here we put everything together to construct our graph\n",
    "graph = StateGraph(OverallState)\n",
    "graph.add_node(\"generate_topics\", generate_topics)\n",
    "graph.add_node(\"generate_job\", generate_job)\n",
    "graph.add_node(\"best_job\", best_job)\n",
    "graph.add_node(\"generate_university\", generate_university)  # Add this\n",
    "graph.add_edge(START, \"generate_topics\")\n",
    "graph.add_conditional_edges(\"generate_topics\", continue_to_jobs, [\"generate_job\"])\n",
    "graph.add_edge(\"generate_job\", \"best_job\")\n",
    "graph.add_edge(\"best_job\", \"generate_university\")  # Change this\n",
    "graph.add_edge(\"generate_university\", END)  # Add this\n",
    "\n",
    "# Compile the graph\n",
    "app = graph.compile()\n",
    "Image(app.get_graph().draw_mermaid_png())"
   ]
  },
  {
   "cell_type": "code",
   "execution_count": 19,
   "id": "e21dc7c9-0add-4125-be76-af701adb874a",
   "metadata": {},
   "outputs": [
    {
     "name": "stdout",
     "output_type": "stream",
     "text": [
      "{'generate_topics': {'subjects': ['**Machine Learning Engineer**: Machine Learning Engineers are responsible for designing and implementing machine learning models and algorithms. They work closely with data scientists to develop scalable solutions that can be integrated into various applications. Their expertise in programming, data analysis, and model optimization makes them highly sought after in industries like tech, finance, and healthcare.\\n\\n**Data Scientist**: Data Scientists analyze and interpret complex data to help organizations make informed decisions. They use statistical methods, machine learning, and data visualization techniques to uncover insights and trends. Their ability to transform raw data into actionable strategies is crucial for businesses looking to gain a competitive edge.\\n\\n**AI Research Scientist**: AI Research Scientists focus on advancing the field of artificial intelligence through innovative research and development. They explore new algorithms, models, and technologies to push the boundaries of what AI can achieve. Their work often involves collaboration with academic institutions and tech companies to drive breakthroughs in areas like natural language processing, computer vision, and robotics.']}}\n",
      "{'generate_job': {'jobs': [\"**Job Title: Machine Learning Engineer**\\n\\n**Location:** [City, State]\\n\\n**Company:** [Company Name]\\n\\n**About Us:**\\n[Company Name] is a leading innovator in [industry/sector], committed to leveraging cutting-edge technology to drive transformative solutions. We are seeking a talented Machine Learning Engineer to join our dynamic team and contribute to our mission of [company mission].\\n\\n**Job Summary:**\\nAs a Machine Learning Engineer at [Company Name], you will be at the forefront of developing and deploying machine learning models that power our products and services. You will collaborate with cross-functional teams to design, implement, and optimize algorithms that solve complex problems and enhance user experiences.\\n\\n**Key Responsibilities:**\\n- Design, develop, and deploy machine learning models and algorithms to address business challenges.\\n- Collaborate with data scientists to understand data requirements and ensure data quality and integrity.\\n- Implement scalable and efficient data pipelines for model training and evaluation.\\n- Optimize and fine-tune models for performance, accuracy, and scalability.\\n- Integrate machine learning solutions into existing applications and systems.\\n- Stay updated with the latest advancements in machine learning and AI technologies.\\n- Document processes, models, and code to ensure reproducibility and knowledge sharing.\\n\\n**Qualifications:**\\n- Bachelor's or Master's degree in Computer Science, Engineering, Mathematics, or a related field.\\n- Proven experience in machine learning model development and deployment.\\n- Proficiency in programming languages such as Python, R, or Java.\\n- Strong understanding of machine learning frameworks and libraries (e.g., TensorFlow, PyTorch, scikit-learn).\\n- Experience with data preprocessing, feature engineering, and model evaluation techniques.\\n- Familiarity with cloud platforms (e.g., AWS, Google Cloud, Azure) and containerization (e.g., Docker).\\n- Excellent problem-solving skills and attention to detail.\\n- Strong communication skills and ability to work collaboratively in a team environment.\\n\\n**Preferred Qualifications:**\\n- Experience in deep learning, natural language processing, or computer vision.\\n- Knowledge of big data technologies (e.g., Hadoop, Spark).\\n- Experience with version control systems (e.g., Git).\\n\\n**Benefits:**\\n- Competitive salary and performance-based bonuses.\\n- Comprehensive health, dental, and vision insurance.\\n- Flexible work hours and remote work options.\\n- Professional development opportunities and continuous learning support.\\n- Collaborative and inclusive work culture.\\n\\n**How to Apply:**\\nInterested candidates are invited to submit their resume and a cover letter detailing their relevant experience and interest in the role to [email address].\\n\\nJoin us at [Company Name] and be part of a team that's shaping the future of [industry/sector] through innovative machine learning solutions.\"]}}\n",
      "{'best_job': {'best_selected_job': \"**Job Title: Machine Learning Engineer**\\n\\n**Location:** [City, State]\\n\\n**Company:** [Company Name]\\n\\n**About Us:**\\n[Company Name] is a leading innovator in [industry/sector], committed to leveraging cutting-edge technology to drive transformative solutions. We are seeking a talented Machine Learning Engineer to join our dynamic team and contribute to our mission of [company mission].\\n\\n**Job Summary:**\\nAs a Machine Learning Engineer at [Company Name], you will be at the forefront of developing and deploying machine learning models that power our products and services. You will collaborate with cross-functional teams to design, implement, and optimize algorithms that solve complex problems and enhance user experiences.\\n\\n**Key Responsibilities:**\\n- Design, develop, and deploy machine learning models and algorithms to address business challenges.\\n- Collaborate with data scientists to understand data requirements and ensure data quality and integrity.\\n- Implement scalable and efficient data pipelines for model training and evaluation.\\n- Optimize and fine-tune models for performance, accuracy, and scalability.\\n- Integrate machine learning solutions into existing applications and systems.\\n- Stay updated with the latest advancements in machine learning and AI technologies.\\n- Document processes, models, and code to ensure reproducibility and knowledge sharing.\\n\\n**Qualifications:**\\n- Bachelor's or Master's degree in Computer Science, Engineering, Mathematics, or a related field.\\n- Proven experience in machine learning model development and deployment.\\n- Proficiency in programming languages such as Python, R, or Java.\\n- Strong understanding of machine learning frameworks and libraries (e.g., TensorFlow, PyTorch, scikit-learn).\\n- Experience with data preprocessing, feature engineering, and model evaluation techniques.\\n- Familiarity with cloud platforms (e.g., AWS, Google Cloud, Azure) and containerization (e.g., Docker).\\n- Excellent problem-solving skills and attention to detail.\\n- Strong communication skills and ability to work collaboratively in a team environment.\\n\\n**Preferred Qualifications:**\\n- Experience in deep learning, natural language processing, or computer vision.\\n- Knowledge of big data technologies (e.g., Hadoop, Spark).\\n- Experience with version control systems (e.g., Git).\\n\\n**Benefits:**\\n- Competitive salary and performance-based bonuses.\\n- Comprehensive health, dental, and vision insurance.\\n- Flexible work hours and remote work options.\\n- Professional development opportunities and continuous learning support.\\n- Collaborative and inclusive work culture.\\n\\n**How to Apply:**\\nInterested candidates are invited to submit their resume and a cover letter detailing their relevant experience and interest in the role to [email address].\\n\\nJoin us at [Company Name] and be part of a team that's shaping the future of [industry/sector] through innovative machine learning solutions.\"}}\n",
      "{'generate_university': {'universities': [['Massachusetts Institute of Technology (MIT)', 'Stanford University', 'Carnegie Mellon University']]}}\n"
     ]
    }
   ],
   "source": [
    "for s in app.stream({\"topic\": \"AI specialist\", \"jobs\": [], \"universities\": []}):\n",
    "    print(s)"
   ]
  },
  {
   "attachments": {},
   "cell_type": "markdown",
   "id": "2a96517e-77ab-46e2-95e2-79168c044e9c",
   "metadata": {},
   "source": [
    "## Studio\n",
    "\n",
    "**⚠️ DISCLAIMER**\n",
    "\n",
    "Since the filming of these videos, we've updated Studio so that it can be run locally and opened in your browser. This is now the preferred way to run Studio (rather than using the Desktop App as shown in the video). See documentation [here](https://langchain-ai.github.io/langgraph/concepts/langgraph_studio/#local-development-server) on the local development server and [here](https://langchain-ai.github.io/langgraph/how-tos/local-studio/#run-the-development-server). To start the local development server, run the following command in your terminal in the `/studio` directory in this module:\n",
    "\n",
    "```\n",
    "langgraph dev\n",
    "```\n",
    "\n",
    "You should see the following output:\n",
    "```\n",
    "- 🚀 API: http://127.0.0.1:2024\n",
    "- 🎨 Studio UI: https://smith.langchain.com/studio/?baseUrl=http://127.0.0.1:2024\n",
    "- 📚 API Docs: http://127.0.0.1:2024/docs\n",
    "```\n",
    "\n",
    "Open your browser and navigate to the Studio UI: `https://smith.langchain.com/studio/?baseUrl=http://127.0.0.1:2024`.\n",
    "\n",
    "Let's load our the above graph in the Studio UI, which uses `module-4/studio/map_reduce.py` set in `module-4/studio/langgraph.json`."
   ]
  },
  {
   "cell_type": "code",
   "execution_count": null,
   "id": "741a5e45-9a4c-43b4-8393-9298b3dcda53",
   "metadata": {},
   "outputs": [],
   "source": []
  }
 ],
 "metadata": {
  "kernelspec": {
   "display_name": "lc-academy-env (3.13.8)",
   "language": "python",
   "name": "python3"
  },
  "language_info": {
   "codemirror_mode": {
    "name": "ipython",
    "version": 3
   },
   "file_extension": ".py",
   "mimetype": "text/x-python",
   "name": "python",
   "nbconvert_exporter": "python",
   "pygments_lexer": "ipython3",
   "version": "3.13.9"
  }
 },
 "nbformat": 4,
 "nbformat_minor": 5
}
