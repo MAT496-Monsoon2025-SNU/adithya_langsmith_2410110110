{
 "cells": [
  {
   "cell_type": "markdown",
   "metadata": {},
   "source": [
    "# Tracing for Different Types of Runs"
   ]
  },
  {
   "cell_type": "markdown",
   "metadata": {},
   "source": [
    "### Types of Runs"
   ]
  },
  {
   "cell_type": "markdown",
   "metadata": {},
   "source": [
    "LangSmith supports many different types of Runs - you can specify what type your Run is in the @traceable decorator. The types of runs are:\n",
    "\n",
    "- LLM: Invokes an LLM\n",
    "- Retriever: Retrieves documents from databases or other sources\n",
    "- Tool: Executes actions with function calls\n",
    "- Chain: Default type; combines multiple Runs into a larger process\n",
    "- Prompt: Hydrates a prompt to be used with an LLM\n",
    "- Parser: Extracts structured data"
   ]
  },
  {
   "cell_type": "markdown",
   "metadata": {},
   "source": [
    "### Setup"
   ]
  },
  {
   "cell_type": "code",
   "execution_count": null,
   "metadata": {},
   "outputs": [],
   "source": []
  },
  {
   "cell_type": "code",
   "execution_count": 7,
   "metadata": {},
   "outputs": [
    {
     "data": {
      "text/plain": [
       "False"
      ]
     },
     "execution_count": 7,
     "metadata": {},
     "output_type": "execute_result"
    }
   ],
   "source": [
    "from dotenv import load_dotenv\n",
    "load_dotenv(dotenv_path=\"../../.env\", override=True)"
   ]
  },
  {
   "cell_type": "code",
   "execution_count": 32,
   "metadata": {},
   "outputs": [
    {
     "data": {
      "text/plain": [
       "{'choices': [{'message': {'role': 'assistant',\n",
       "    'content': 'Sure, what time would you like to book the table for?'}}]}"
      ]
     },
     "execution_count": 32,
     "metadata": {},
     "output_type": "execute_result"
    }
   ],
   "source": [
    "from langsmith import traceable\n",
    "\n",
    "inputs = [\n",
    "  {\"role\": \"system\", \"content\": \"You are a helpful assistant that knows lot about travel .\"},\n",
    "  {\"role\": \"user\", \"content\": \"I'd like to book a table for two.\"},\n",
    "]\n",
    "\n",
    "output = {\n",
    "  \"choices\": [\n",
    "      {\n",
    "          \"message\": {\n",
    "              \"role\": \"assistant\",\n",
    "              \"content\": \"Sure, what time would you like to book the table for?\"\n",
    "          }\n",
    "      }\n",
    "  ]\n",
    "}\n",
    "\n",
    "# Can also use one of:\n",
    "# output = {\n",
    "#     \"message\": {\n",
    "#         \"role\": \"assistant\",\n",
    "#         \"content\": \"Sure, what time would you like to book the table for?\"\n",
    "#     }\n",
    "# }\n",
    "#\n",
    "# output = {\n",
    "#     \"role\": \"assistant\",\n",
    "#     \"content\": \"Sure, what time would you like to book the table for?\"\n",
    "# }\n",
    "#\n",
    "# output = [\"assistant\", \"Sure, what time would you like to book the table for?\"]\n",
    "\n",
    "@traceable(\n",
    "  # TODO: Add an run_type=\"llm\", and metadata for ls_provider, and ls_model_name\n",
    ")\n",
    "def chat_model(messages: list):\n",
    "  return output\n",
    "\n",
    "chat_model(inputs)"
   ]
  },
  {
   "cell_type": "markdown",
   "metadata": {},
   "source": [
    "### LLM Runs for Chat Models"
   ]
  },
  {
   "cell_type": "markdown",
   "metadata": {},
   "source": [
    "LangSmith provides special rendering and processing for LLM traces. In order to make the most of this feature, you must log your LLM traces in a specific format."
   ]
  },
  {
   "cell_type": "markdown",
   "metadata": {},
   "source": [
    "For chat-style models, inputs must be a list of messages in OpenAI-compatible format, represented as Python dictionaries or TypeScript object. Each message must contain the key role and content.\n",
    "\n",
    "The output is accepted in any of the following formats:\n",
    "\n",
    "- A dictionary/object that contains the key choices with a value that is a list of dictionaries/objects. Each dictionary/object must contain the key message, which maps to a message object with the keys role and content.\n",
    "- A dictionary/object that contains the key message with a value that is a message object with the keys role and content.\n",
    "- A tuple/array of two elements, where the first element is the role and the second element is the content.\n",
    "- A dictionary/object that contains the key role and content.\n",
    "The input to your function should be named messages.\n",
    "\n",
    "You can also provide the following metadata fields to help LangSmith identify the model and calculate costs. If using LangChain or OpenAI wrapper, these fields will be automatically populated correctly.\n",
    "- ls_provider: The provider of the model, eg \"openai\", \"anthropic\", etc.\n",
    "- ls_model_name: The name of the model, eg \"gpt-4o-mini\", \"claude-3-opus-20240307\", etc."
   ]
  },
  {
   "cell_type": "code",
   "execution_count": null,
   "metadata": {},
   "outputs": [
    {
     "data": {
      "text/plain": [
       "{'choices': [{'message': {'role': 'assistant',\n",
       "    'content': 'i would like to go to europe suggest good places there.'}}]}"
      ]
     },
     "execution_count": 17,
     "metadata": {},
     "output_type": "execute_result"
    }
   ],
   "source": [
    "from langsmith import traceable\n",
    "\n",
    "inputs = [\n",
    "  {\"role\": \"system\", \"content\": \"You are a helpful assistant, who knows about travel.  Please suggest best travel destination based on user's interest.\"},\n",
    "  {\"role\": \"user\", \"content\": \"i would like to travel what is the best to travel\"},\n",
    "]\n",
    "\n",
    "output = {\n",
    "  \"choices\": [\n",
    "      {\n",
    "          \"message\": {\n",
    "              \"role\": \"assistant\",\n",
    "              \"content\": \"i would like to go to europe suggest good places there.\"\n",
    "          }\n",
    "      }\n",
    "  ]\n",
    "}\n",
    "\n",
    "# Can also use one of:\n",
    "# output = {\n",
    "#     \"message\": {\n",
    "#         \"role\": \"assistant\",\n",
    "#         \"content\": \"Sure, what time would you like to book the table for?\"\n",
    "#     }\n",
    "# }\n",
    "#\n",
    "# output = {\n",
    "#     \"role\": \"assistant\",\n",
    "#     \"content\": \"Sure, what time would you like to book the table for?\"\n",
    "# }\n",
    "#\n",
    "# output = [\"assistant\", \"Sure, what time would you like to book the table for?\"]\n",
    "\n",
    "@traceable(\n",
    "  run_type=\"llm\", ls_provider=\"openai\", ls_model_name=\"gpt-4o-mini\"\n",
    ")\n",
    "def chat_model(messages: list):\n",
    "  return output\n",
    "\n",
    "chat_model(inputs)"
   ]
  },
  {
   "cell_type": "markdown",
   "metadata": {},
   "source": [
    "### Handling Streaming LLM Runs"
   ]
  },
  {
   "cell_type": "markdown",
   "metadata": {},
   "source": [
    "For streaming, you can \"reduce\" the outputs into the same format as the non-streaming version. This is currently only supported in Python."
   ]
  },
  {
   "cell_type": "code",
   "execution_count": null,
   "metadata": {},
   "outputs": [
    {
     "name": "stdout",
     "output_type": "stream",
     "text": [
      "Liam\n"
     ]
    }
   ],
   "source": []
  },
  {
   "cell_type": "markdown",
   "metadata": {},
   "source": [
    "### Retriever Runs + Documents"
   ]
  },
  {
   "cell_type": "markdown",
   "metadata": {},
   "source": [
    "Many LLM applications require looking up documents from vector databases, knowledge graphs, or other types of indexes. Retriever traces are a way to log the documents that are retrieved by the retriever. LangSmith provides special rendering for retrieval steps in traces to make it easier to understand and diagnose retrieval issues. In order for retrieval steps to be rendered correctly, a few small steps need to be taken.\n",
    "\n",
    "1. Annotate the retriever step with run_type=\"retriever\".\n",
    "2. Return a list of Python dictionaries or TypeScript objects from the retriever step. Each dictionary should contain the following keys:\n",
    "    - page_content: The text of the document.\n",
    "    - type: This should always be \"Document\".\n",
    "    - metadata: A python dictionary or TypeScript object containing metadata about the document. This metadata will be displayed in the trace."
   ]
  },
  {
   "cell_type": "code",
   "execution_count": 30,
   "metadata": {},
   "outputs": [
    {
     "name": "stdout",
     "output_type": "stream",
     "text": [
      "Liam\n"
     ]
    }
   ],
   "source": [
    "from langsmith import traceable\n",
    "\n",
    "def _convert_docs(results):\n",
    "  return [\n",
    "      {\n",
    "          \"page_content\": r,\n",
    "          \"type\": \"Document\", # This is the wrong format! The key should be type\n",
    "          \"metadata\": {\"foo\": \"bar\"}\n",
    "      }\n",
    "      for r in results\n",
    "  ]\n",
    "\n",
    "@traceable(\n",
    "    # TODO: Add an run_type=\"retriever\"\n",
    ")\n",
    "def retrieve_docs(query):\n",
    "  # Retriever returning hardcoded dummy documents.\n",
    "  # In production, this could be a real vector datatabase or other document index.\n",
    "  contents = [\"Document contents 1\", \"Document contents 2\", \"Document contents 3\"]\n",
    "  return _convert_docs(contents)\n",
    "\n",
    "retrieve_docs(\"User query\")\n",
    "from langsmith import traceable\n",
    "\n",
    "# Optional: merge streaming chunks into one\n",
    "def _reduce_chunks(chunks: list):\n",
    "    all_text = \"\".join([chunk[\"choices\"][0][\"message\"][\"content\"] for chunk in chunks])\n",
    "    return {\"choices\": [{\"message\": {\"content\": all_text, \"role\": \"assistant\"}}]}\n",
    "\n",
    "@traceable(\n",
    "    run_type=\"llm\",\n",
    "    metadata={\"ls_provider\": \"my_provider\", \"ls_model_name\": \"baby_name_suggester\"},\n",
    "    reduce_fn=_reduce_chunks  # merge all chunks into one output\n",
    ")\n",
    "def suggest_baby_names(messages: list):\n",
    "    # Example name suggestions\n",
    "    name_suggestions = [\"Liam\", \"Olivia\", \"Noah\", \"Emma\", \"Aiden\"]\n",
    "    \n",
    "    for name in name_suggestions:\n",
    "        yield {\n",
    "            \"choices\": [\n",
    "                {\n",
    "                    \"message\": {\n",
    "                        \"content\": name,\n",
    "                        \"role\": \"assistant\",\n",
    "                    }\n",
    "                }\n",
    "            ]\n",
    "        }\n",
    "\n",
    "# User prompt\n",
    "user_messages = [\n",
    "    {\"role\": \"system\", \"content\": \"You are a helpful assistant that suggests baby names.\"},\n",
    "    {\"role\": \"user\", \"content\": \"I just had a baby. Can you suggest some names?\"}\n",
    "]\n",
    "\n",
    "# Run the streaming chat\n",
    "result = list(suggest_baby_names(user_messages))\n",
    "\n",
    "# Print final merged output\n",
    "print(result[0][\"choices\"][0][\"message\"][\"content\"])\n"
   ]
  },
  {
   "cell_type": "markdown",
   "metadata": {},
   "source": [
    "### Tool Calling"
   ]
  },
  {
   "cell_type": "markdown",
   "metadata": {},
   "source": [
    "LangSmith has custom rendering for Tool Calls made by the model to make it clear when provided tools are being used."
   ]
  },
  {
   "cell_type": "code",
   "execution_count": 15,
   "metadata": {},
   "outputs": [
    {
     "name": "stdout",
     "output_type": "stream",
     "text": [
      "\n",
      "[Step 1] Sending initial request to LLM...\n",
      "[Step 2] LLM decided to use a tool!\n",
      "[Step 3] Tool: XOR\n",
      "[Step 4] Arguments: {'a': 30, 'b': 42}\n",
      "  [Tool Execution] XOR(30, 42) = 52\n",
      "[Step 5] Sending tool results back to LLM for final response...\n",
      "\n",
      "Assistant: The value of 30 XOR 42 is 52.\n",
      "\n",
      "[Step 1] Sending initial request to LLM...\n",
      "[Step 2] LLM decided to use a tool!\n",
      "[Step 3] Tool: XOR\n",
      "[Step 4] Arguments: {'a': 30, 'b': 42}\n",
      "  [Tool Execution] XOR(30, 42) = 52\n",
      "[Step 5] Sending tool results back to LLM for final response...\n",
      "\n",
      "Assistant: The value of 30 XOR 42 is 52.\n"
     ]
    }
   ],
   "source": [
    "# --- Imports and Environment Setup ---\n",
    "import os\n",
    "from dotenv import load_dotenv\n",
    "from openai import OpenAI\n",
    "from langsmith import traceable\n",
    "from typing import List, Optional\n",
    "import json\n",
    "\n",
    "# Load API keys from .env\n",
    "load_dotenv()\n",
    "\n",
    "# Initialize OpenAI client\n",
    "openai_client = OpenAI()\n",
    "\n",
    "# Enable LangSmith tracing\n",
    "os.environ[\"LANGCHAIN_TRACING_V2\"] = \"true\"\n",
    "\n",
    "\n",
    "# --- XOR Tool Definition ---\n",
    "@traceable(run_type=\"tool\")\n",
    "def XOR(a: int, b: int):\n",
    "    \"\"\"Perform XOR operation on two integers\"\"\"\n",
    "    result = a ^ b\n",
    "    print(f\"  [Tool Execution] XOR({a}, {b}) = {result}\")\n",
    "    return result\n",
    "\n",
    "# --- LLM call with tool definitions ---\n",
    "@traceable(run_type=\"llm\")\n",
    "def call_groq_with_tools(messages: list, tools: Optional[list]):\n",
    "    \"\"\"Call OpenAI / Groq with tool definitions\"\"\"\n",
    "    response = openai_client.chat.completions.create(\n",
    "        model=\"gpt-4o-mini\",\n",
    "        messages=messages,\n",
    "        temperature=0,\n",
    "        tools=tools,\n",
    "        max_tokens=200\n",
    "    )\n",
    "    return response\n",
    "\n",
    "# --- Chain orchestrator ---\n",
    "@traceable(run_type=\"chain\")\n",
    "def ask_about_xor(inputs: list, tools: list):\n",
    "    # First call: LLM decides if it needs to use a tool\n",
    "    print(\"\\n[Step 1] Sending initial request to LLM...\")\n",
    "    response = call_groq_with_tools(inputs, tools)\n",
    "    \n",
    "    # Check if model wants to use a tool\n",
    "    if response.choices[0].message.tool_calls:\n",
    "        print(\"[Step 2] LLM decided to use a tool!\")\n",
    "        \n",
    "        tool_call = response.choices[0].message.tool_calls[0]\n",
    "        tool_call_args = json.loads(tool_call.function.arguments)\n",
    "        \n",
    "        print(f\"[Step 3] Tool: {tool_call.function.name}\")\n",
    "        print(f\"[Step 4] Arguments: {tool_call_args}\")\n",
    "        \n",
    "        # Execute the tool\n",
    "        result = XOR(tool_call_args[\"a\"], tool_call_args[\"b\"])\n",
    "        \n",
    "        # Add tool response to conversation\n",
    "        tool_response_message = {\n",
    "            \"role\": \"tool\",\n",
    "            \"content\": json.dumps({\n",
    "                \"a\": tool_call_args[\"a\"],\n",
    "                \"b\": tool_call_args[\"b\"],\n",
    "                \"result\": result,\n",
    "            }),\n",
    "            \"tool_call_id\": tool_call.id\n",
    "        }\n",
    "        \n",
    "        inputs.append(response.choices[0].message)\n",
    "        inputs.append(tool_response_message)\n",
    "        \n",
    "        # Second call: LLM generates final response with tool results\n",
    "        print(\"[Step 5] Sending tool results back to LLM for final response...\")\n",
    "        final_response = call_groq_with_tools(inputs, None)\n",
    "        return final_response\n",
    "    \n",
    "    print(\"[Info] No tool call was made by the LLM\")\n",
    "    return response\n",
    "\n",
    "# --- Tool specification ---\n",
    "tools = [\n",
    "    {\n",
    "        \"type\": \"function\",\n",
    "        \"function\": {\n",
    "            \"name\": \"XOR\",\n",
    "            \"description\": \"Perform XOR (exclusive OR) operation on two integers\",\n",
    "            \"parameters\": {\n",
    "                \"type\": \"object\",\n",
    "                \"properties\": {\n",
    "                    \"a\": {\"type\": \"integer\", \"description\": \"First integer to XOR\"},\n",
    "                    \"b\": {\"type\": \"integer\", \"description\": \"Second integer to XOR\"},\n",
    "                },\n",
    "                \"required\": [\"a\", \"b\"]\n",
    "            }\n",
    "        }\n",
    "    }\n",
    "]\n",
    "\n",
    "# --- Inputs ---\n",
    "xor_inputs = [\n",
    "    {\"role\": \"system\", \"content\": \"You are a helpful assistant that can perform mathematical operations.\"},\n",
    "    {\"role\": \"user\", \"content\": \"What is the value of 30 XOR 42?\"},\n",
    "]\n",
    "\n",
    "# --- Run the XOR demo ---\n",
    "xor_response = ask_about_xor(xor_inputs, tools)\n",
    "print(f\"\\nAssistant: {xor_response.choices[0].message.content}\")\n",
    "# --- XOR Tool Definition ---\n",
    "@traceable(run_type=\"tool\")\n",
    "def XOR(a: int, b: int):\n",
    "    \"\"\"Perform XOR operation on two integers\"\"\"\n",
    "    result = a ^ b\n",
    "    print(f\"  [Tool Execution] XOR({a}, {b}) = {result}\")\n",
    "    return result\n",
    "\n",
    "# --- LLM call with tool definitions ---\n",
    "@traceable(run_type=\"llm\")\n",
    "def call_groq_with_tools(messages: list, tools: Optional[list]):\n",
    "    \"\"\"Call OpenAI / Groq with tool definitions\"\"\"\n",
    "    response = openai_client.chat.completions.create(\n",
    "        model=\"gpt-4o-mini\",\n",
    "        messages=messages,\n",
    "        temperature=0,\n",
    "        tools=tools,\n",
    "        max_tokens=200\n",
    "    )\n",
    "    return response\n",
    "\n",
    "# --- Chain orchestrator ---\n",
    "@traceable(run_type=\"chain\")\n",
    "def ask_about_xor(inputs: list, tools: list):\n",
    "    # First call: LLM decides if it needs to use a tool\n",
    "    print(\"\\n[Step 1] Sending initial request to LLM...\")\n",
    "    response = call_groq_with_tools(inputs, tools)\n",
    "    \n",
    "    # Check if model wants to use a tool\n",
    "    if response.choices[0].message.tool_calls:\n",
    "        print(\"[Step 2] LLM decided to use a tool!\")\n",
    "        \n",
    "        tool_call = response.choices[0].message.tool_calls[0]\n",
    "        tool_call_args = json.loads(tool_call.function.arguments)\n",
    "        \n",
    "        print(f\"[Step 3] Tool: {tool_call.function.name}\")\n",
    "        print(f\"[Step 4] Arguments: {tool_call_args}\")\n",
    "        \n",
    "        # Execute the tool\n",
    "        result = XOR(tool_call_args[\"a\"], tool_call_args[\"b\"])\n",
    "        \n",
    "        # Add tool response to conversation\n",
    "        tool_response_message = {\n",
    "            \"role\": \"tool\",\n",
    "            \"content\": json.dumps({\n",
    "                \"a\": tool_call_args[\"a\"],\n",
    "                \"b\": tool_call_args[\"b\"],\n",
    "                \"result\": result,\n",
    "            }),\n",
    "            \"tool_call_id\": tool_call.id\n",
    "        }\n",
    "        \n",
    "        inputs.append(response.choices[0].message)\n",
    "        inputs.append(tool_response_message)\n",
    "        \n",
    "        # Second call: LLM generates final response with tool results\n",
    "        print(\"[Step 5] Sending tool results back to LLM for final response...\")\n",
    "        final_response = call_groq_with_tools(inputs, None)\n",
    "        return final_response\n",
    "    \n",
    "    print(\"[Info] No tool call was made by the LLM\")\n",
    "    return response\n",
    "\n",
    "# --- Tool specification ---\n",
    "tools = [\n",
    "    {\n",
    "        \"type\": \"function\",\n",
    "        \"function\": {\n",
    "            \"name\": \"XOR\",\n",
    "            \"description\": \"Perform XOR (exclusive OR) operation on two integers\",\n",
    "            \"parameters\": {\n",
    "                \"type\": \"object\",\n",
    "                \"properties\": {\n",
    "                    \"a\": {\"type\": \"integer\", \"description\": \"First integer to XOR\"},\n",
    "                    \"b\": {\"type\": \"integer\", \"description\": \"Second integer to XOR\"},\n",
    "                },\n",
    "                \"required\": [\"a\", \"b\"]\n",
    "            }\n",
    "        }\n",
    "    }\n",
    "]\n",
    "\n",
    "# --- Inputs ---\n",
    "xor_inputs = [\n",
    "    {\"role\": \"system\", \"content\": \"You are a helpful assistant that can perform mathematical operations.\"},\n",
    "    {\"role\": \"user\", \"content\": \"What is the value of 30 XOR 42?\"},\n",
    "]\n",
    "\n",
    "# --- Run the XOR demo ---\n",
    "xor_response = ask_about_xor(xor_inputs, tools)\n",
    "print(f\"\\nAssistant: {xor_response.choices[0].message.content}\")\n"
   ]
  }
 ],
 "metadata": {
  "kernelspec": {
   "display_name": "ls-academy (3.13.7)",
   "language": "python",
   "name": "python3"
  },
  "language_info": {
   "codemirror_mode": {
    "name": "ipython",
    "version": 3
   },
   "file_extension": ".py",
   "mimetype": "text/x-python",
   "name": "python",
   "nbconvert_exporter": "python",
   "pygments_lexer": "ipython3",
   "version": "3.13.7"
  }
 },
 "nbformat": 4,
 "nbformat_minor": 4
}
