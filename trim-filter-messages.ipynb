{
 "cells": [
  {
   "cell_type": "markdown",
   "id": "fb0ebaf1",
   "metadata": {},
   "source": [
    "[![Open in Colab](https://colab.research.google.com/assets/colab-badge.svg)](https://colab.research.google.com/github/langchain-ai/langchain-academy/blob/main/module-2/trim-filter-messages.ipynb) [![Open in LangChain Academy](https://cdn.prod.website-files.com/65b8cd72835ceeacd4449a53/66e9eba12c7b7688aa3dbb5e_LCA-badge-green.svg)](https://academy.langchain.com/courses/take/intro-to-langgraph/lessons/58239435-lesson-4-trim-and-filter-messages)"
   ]
  },
  {
   "cell_type": "markdown",
   "id": "c52ea2f9-03ff-4647-b782-46867ebed04e",
   "metadata": {},
   "source": [
    "# Filtering and trimming messages\n",
    "\n",
    "## Review\n",
    "\n",
    "Now, we have a deeper understanding of a few things: \n",
    "\n",
    "* How to customize the graph state schema\n",
    "* How to define custom state reducers\n",
    "* How to use multiple graph state schemas\n",
    "\n",
    "## Goals\n",
    "\n",
    "Now, we can start using these concepts with models in LangGraph!\n",
    " \n",
    "In the next few sessions, we'll build towards a chatbot that has long-term memory.\n",
    "\n",
    "Because our chatbot will use messages, let's first talk a bit more about advanced ways to work with messages in graph state."
   ]
  },
  {
   "cell_type": "code",
   "execution_count": 1,
   "id": "d5197aba-5d46-421b-ae3b-4e3034edcfda",
   "metadata": {},
   "outputs": [],
   "source": [
    "%%capture --no-stderr\n",
    "%pip install --quiet -U langchain_core langgraph langchain_openai"
   ]
  },
  {
   "cell_type": "markdown",
   "id": "8b64d8d3-e4ac-4961-bdc0-688825eb5864",
   "metadata": {},
   "source": [
    "We'll use [LangSmith](https://docs.smith.langchain.com/) for [tracing](https://docs.smith.langchain.com/concepts/tracing).\n",
    "\n",
    "We'll log to a project, `langchain-academy`. "
   ]
  },
  {
   "cell_type": "code",
   "execution_count": 12,
   "id": "dd020c79",
   "metadata": {},
   "outputs": [],
   "source": [
    "\n",
    "os.environ[\"LANGSMITH_TRACING\"] = \"true\"\n",
    "os.environ[\"LANGSMITH_PROJECT\"] = \"langchain-academy\""
   ]
  },
  {
   "cell_type": "markdown",
   "id": "72f3fc90-58b6-4f7f-897e-dddf6ae532c7",
   "metadata": {},
   "source": [
    "## Messages as state\n",
    "\n",
    "First, let's define some messages."
   ]
  },
  {
   "cell_type": "code",
   "execution_count": 42,
   "id": "cf11a463-e27a-4a05-b41d-64882e38edca",
   "metadata": {},
   "outputs": [
    {
     "name": "stdout",
     "output_type": "stream",
     "text": [
      "==================================\u001b[1m Ai Message \u001b[0m==================================\n",
      "Name: Bot\n",
      "\n",
      "So you said you were researching ocean mammals?\n",
      "================================\u001b[1m Human Message \u001b[0m=================================\n",
      "Name: Lance\n",
      "\n",
      "Yes, I know about whales. But what others should I learn about?\n",
      "==================================\u001b[1m Ai Message \u001b[0m==================================\n",
      "Name: Bot1\n",
      "\n",
      "hi how are you\n",
      "================================\u001b[1m Human Message \u001b[0m=================================\n",
      "Name: Lance1\n",
      "\n",
      "I am fine\n"
     ]
    }
   ],
   "source": [
    "from pprint import pprint\n",
    "from langchain_core.messages import AIMessage, HumanMessage\n",
    "messages = [\n",
    "    AIMessage(\"So you said you were researching ocean mammals?\", name=\"Bot\"),\n",
    "    HumanMessage(\"Yes, I know about whales. But what others should I learn about?\", name=\"Lance\")\n",
    "]\n",
    "\n",
    "messages1 = [\n",
    "    AIMessage(\"hi how are you\", name=\"Bot1\"),\n",
    "    HumanMessage(\"I am fine\", name=\"Lance1\")\n",
    "]\n",
    "for m in messages:\n",
    "    m.pretty_print()\n",
    "for m in messages1:\n",
    "    m.pretty_print()"
   ]
  },
  {
   "cell_type": "markdown",
   "id": "b814adcb-6bf9-4b75-be11-e59f933fbd0c",
   "metadata": {},
   "source": [
    "Recall we can pass them to a chat model."
   ]
  },
  {
   "cell_type": "code",
   "execution_count": 45,
   "id": "4712e288-e622-48a2-ad3f-a52f65f3ab08",
   "metadata": {},
   "outputs": [
    {
     "data": {
      "text/plain": [
       "AIMessage(content='Glad to hear that! How can I assist you today?', additional_kwargs={'refusal': None}, response_metadata={'token_usage': {'completion_tokens': 12, 'prompt_tokens': 24, 'total_tokens': 36, 'completion_tokens_details': {'accepted_prediction_tokens': 0, 'audio_tokens': 0, 'reasoning_tokens': 0, 'rejected_prediction_tokens': 0}, 'prompt_tokens_details': {'audio_tokens': 0, 'cached_tokens': 0}}, 'model_provider': 'openai', 'model_name': 'gpt-4o-2024-08-06', 'system_fingerprint': 'fp_eb3c3cb84d', 'id': 'chatcmpl-CSk3Sun0M5PWTrwELmCPTVuXfAh7t', 'service_tier': 'default', 'finish_reason': 'stop', 'logprobs': None}, id='lc_run--b9aa6289-0ea5-41cf-a02c-a647a48fd898-0', usage_metadata={'input_tokens': 24, 'output_tokens': 12, 'total_tokens': 36, 'input_token_details': {'audio': 0, 'cache_read': 0}, 'output_token_details': {'audio': 0, 'reasoning': 0}})"
      ]
     },
     "execution_count": 45,
     "metadata": {},
     "output_type": "execute_result"
    }
   ],
   "source": [
    "from langchain_openai import ChatOpenAI\n",
    "llm = ChatOpenAI(model=\"gpt-4o\")\n",
    "llm.invoke(messages)\n",
    "llm.invoke(messages1)"
   ]
  },
  {
   "cell_type": "markdown",
   "id": "fbd1dab8-0af8-4621-8264-ce65065f76ec",
   "metadata": {},
   "source": [
    "We can run our chat model in a simple graph with `MessagesState`."
   ]
  },
  {
   "cell_type": "code",
   "execution_count": 50,
   "id": "bbd8c39c-633b-4176-9cc6-8318e42bb5dd",
   "metadata": {},
   "outputs": [
    {
     "data": {
      "image/png": "[encoded data removed]",
      "text/plain": [
       "<IPython.core.display.Image object>"
      ]
     },
     "metadata": {},
     "output_type": "display_data"
    }
   ],
   "source": [
    "from typing import TypedDict\n",
    "from langgraph.graph import StateGraph, START, END\n",
    "from IPython.display import Image, display\n",
    "class MyState(TypedDict):\n",
    "    messages: list\n",
    "    messages1: list\n",
    "\n",
    "# --- Node 1 ---\n",
    "def node1(state):\n",
    "    res = llm.invoke(state[\"messages\"])\n",
    "    return {\"messages\": state[\"messages\"] + [res]}\n",
    "\n",
    "# --- Node 2 ---\n",
    "def node2(state):\n",
    "    res = llm.invoke(state[\"messages1\"])\n",
    "    return {\"messages1\": state[\"messages1\"] + [res]}\n",
    "\n",
    "# --- Build graph ---\n",
    "builder = StateGraph(MyState)\n",
    "builder.add_node(\"node1\", node1)\n",
    "builder.add_node(\"node2\", node2)\n",
    "builder.add_edge(START, \"node1\")\n",
    "builder.add_edge(START, \"node2\")\n",
    "builder.add_edge(\"node1\", END)\n",
    "builder.add_edge(\"node2\", END)\n",
    "graph = builder.compile()\n",
    "\n",
    "# --- Inputs ---\n",
    "messages = [\n",
    "    AIMessage(\"So you said you were researching ocean mammals?\"),\n",
    "    HumanMessage(\"Yes, I know about whales. But what others should I learn about?\")\n",
    "]\n",
    "messages1 = [\n",
    "    AIMessage(\"Hi, how are you?\"),\n",
    "    HumanMessage(\"I’m fine!\")\n",
    "]\n",
    "\n",
    "# --- Run graph ---\n",
    "output = graph.invoke({\n",
    "    \"messages\": messages,\n",
    "    \"messages1\": messages1\n",
    "})\n",
    "display(Image(graph.get_graph().draw_mermaid_png()))"
   ]
  },
  {
   "cell_type": "code",
   "execution_count": 49,
   "id": "3a5a3e4a-ccfd-4d14-81f1-f0de6e11a1e4",
   "metadata": {},
   "outputs": [
    {
     "name": "stdout",
     "output_type": "stream",
     "text": [
      "\n",
      "=== Conversation 1 ===\n",
      "So you said you were researching ocean mammals?\n",
      "Yes, I know about whales. But what others should I learn about?\n",
      "In addition to whales, there are several other fascinating ocean mammals you might want to explore:\n",
      "\n",
      "1. **Dolphins**: Highly intelligent and social animals known for their playful behavior and complex communication skills.\n",
      "\n",
      "2. **Porpoises**: Similar to dolphins but generally smaller with different anatomy, such as a shorter beak and spade-shaped teeth.\n",
      "\n",
      "3. **Seals and Sea Lions**: Often confused with each other, seals lack external ear flaps and move on land differently compared to sea lions, which are more agile both on land and in water.\n",
      "\n",
      "4. **Walruses**: Known for their distinctive tusks and whiskers, these large pinnipeds have a unique role in Arctic ecosystems.\n",
      "\n",
      "5. **Manatees and Dugongs**: Sometimes referred to as sea cows, these gentle herbivores spend their days grazing on sea grasses and are primarily found in warm coastal waters.\n",
      "\n",
      "6. **Sea Otters**: The smallest marine mammal species, known for their thick fur and use of tools to open shellfish.\n",
      "\n",
      "7. **Polar Bears**: While not exclusively ocean-dwelling, polar bears rely heavily on marine environments for their survival, particularly in hunting seals from sea ice.\n",
      "\n",
      "Exploring the diversity and adaptations of these ocean mammals can provide valuable insights into marine ecosystems and the challenges these species face.\n",
      "\n",
      "=== Conversation 2 ===\n",
      "Hi, how are you?\n",
      "I’m fine!\n",
      "Great to hear that! If there's anything you'd like to talk about or need help with, feel free to let me know.\n"
     ]
    }
   ],
   "source": [
    "print(\"\\n=== Conversation 1 ===\")\n",
    "for m in output[\"messages\"]:\n",
    "    print(m.content)\n",
    "\n",
    "print(\"\\n=== Conversation 2 ===\")\n",
    "for m in output[\"messages1\"]:\n",
    "    print(m.content)"
   ]
  },
  {
   "cell_type": "markdown",
   "id": "34c33e63-1ef4-412d-bb10-6a1b9e5b35a7",
   "metadata": {},
   "source": [
    "## Reducer\n",
    "\n",
    "A practical challenge when working with messages is managing long-running conversations. \n",
    "\n",
    "Long-running conversations result in high token usage and latency if we are not careful, because we pass a growing list of messages to the model.\n",
    "\n",
    "We have a few ways to address this.\n",
    "\n",
    "First, recall the trick we saw using `RemoveMessage` and the `add_messages` reducer."
   ]
  },
  {
   "cell_type": "code",
   "execution_count": 51,
   "id": "222c6bc5-bb0e-4a43-80f5-c8ec38d99f3a",
   "metadata": {},
   "outputs": [
    {
     "data": {
      "image/png": "[encoded data removed]",
      "text/plain": [
       "<IPython.core.display.Image object>"
      ]
     },
     "metadata": {},
     "output_type": "display_data"
    }
   ],
   "source": [
    "from langchain_core.messages import RemoveMessage\n",
    "\n",
    "# Nodes\n",
    "def filter_messages(state: MessagesState):\n",
    "    # Delete all but the 2 most recent messages\n",
    "    delete_messages = [RemoveMessage(id=m.id) for m in state[\"messages\"][:-2]]\n",
    "    return {\"messages\": delete_messages}\n",
    "\n",
    "def chat_model_node(state: MessagesState):    \n",
    "    return {\"messages\": [llm.invoke(state[\"messages\"])]}\n",
    "\n",
    "# Build graph\n",
    "builder = StateGraph(MessagesState)\n",
    "builder.add_node(\"filter\", filter_messages)\n",
    "builder.add_node(\"chat_model\", chat_model_node)\n",
    "builder.add_edge(START, \"filter\")\n",
    "builder.add_edge(\"filter\", \"chat_model\")\n",
    "builder.add_edge(\"chat_model\", END)\n",
    "graph = builder.compile()\n",
    "\n",
    "# View\n",
    "display(Image(graph.get_graph().draw_mermaid_png()))"
   ]
  },
  {
   "cell_type": "code",
   "execution_count": 52,
   "id": "95a7c2cc-54ce-43e7-9a90-abf37827d709",
   "metadata": {},
   "outputs": [
    {
     "name": "stdout",
     "output_type": "stream",
     "text": [
      "==================================\u001b[1m Ai Message \u001b[0m==================================\n",
      "Name: Bot\n",
      "\n",
      "So you said you were researching ocean mammals?\n",
      "================================\u001b[1m Human Message \u001b[0m=================================\n",
      "Name: Lance\n",
      "\n",
      "Yes, I know about whales. But what others should I learn about?\n",
      "==================================\u001b[1m Ai Message \u001b[0m==================================\n",
      "\n",
      "In addition to whales, there are several fascinating ocean mammals you might want to explore:\n",
      "\n",
      "1. **Dolphins**: There are nearly 90 species of dolphins, including oceanic ones like the common bottlenose dolphin and river species like the Amazon river dolphin.\n",
      "\n",
      "2. **Porpoises**: Similar to dolphins but generally smaller and with different shaped teeth, porpoises can be interesting to compare and contrast with their more famous relatives.\n",
      "\n",
      "3. **Seals**: There are two main families of seals—the true seals, such as the harbor seal, and the eared seals, such as fur seals and sea lions. They differ mainly in their anatomy and movement abilities on land.\n",
      "\n",
      "4. **Walruses**: Known for their long tusks and distinctive whiskers, walruses are large marine mammals that primarily inhabit Arctic regions.\n",
      "\n",
      "5. **Manatees and Dugongs**: Often referred to as sea cows, these gentle herbivores are found in coastal waters and rivers. Dugongs and manatees differ slightly in appearance and range.\n",
      "\n",
      "6. **Sea Otters**: Although smaller than some other marine mammals, sea otters play a vital role in their ecosystem, particularly in kelp forest preservation.\n",
      "\n",
      "7. **Polar Bears**: While primarily land-based, polar bears are excellent swimmers and spend much of their life on sea ice hunting for seals.\n",
      "\n",
      "Each of these species has unique adaptations and ecological roles, making them intriguing subjects of study in marine biology.\n"
     ]
    }
   ],
   "source": [
    "# Message list with a preamble\n",
    "messages = [AIMessage(\"Hi.\", name=\"Bot\", id=\"1\")]\n",
    "messages.append(HumanMessage(\"Hi.\", name=\"Lance\", id=\"2\"))\n",
    "messages.append(AIMessage(\"So you said you were researching ocean mammals?\", name=\"Bot\", id=\"3\"))\n",
    "messages.append(HumanMessage(\"Yes, I know about whales. But what others should I learn about?\", name=\"Lance\", id=\"4\"))\n",
    "\n",
    "# Invoke\n",
    "output = graph.invoke({'messages': messages})\n",
    "for m in output['messages']:\n",
    "    m.pretty_print()"
   ]
  },
  {
   "cell_type": "code",
   "execution_count": 55,
   "id": "fd9e0b6d",
   "metadata": {},
   "outputs": [
    {
     "data": {
      "image/png": "[encoded data removed]",
      "text/plain": [
       "<IPython.core.display.Image object>"
      ]
     },
     "metadata": {},
     "output_type": "display_data"
    },
    {
     "name": "stdout",
     "output_type": "stream",
     "text": [
      "==================================\u001b[1m Ai Message \u001b[0m==================================\n",
      "Name: Bot\n",
      "\n",
      "Hi.\n",
      "================================\u001b[1m Human Message \u001b[0m=================================\n",
      "Name: Lance\n",
      "\n",
      "Hi.\n",
      "==================================\u001b[1m Ai Message \u001b[0m==================================\n",
      "Name: Bot\n",
      "\n",
      "So you said you were researching ocean mammals?\n",
      "================================\u001b[1m Human Message \u001b[0m=================================\n",
      "Name: Lance\n",
      "\n",
      "Yes, I know about whales. But what others should I learn about?\n",
      "==================================\u001b[1m Ai Message \u001b[0m==================================\n",
      "\n",
      "In addition to whales, there are several fascinating ocean mammals you can learn about:\n",
      "\n",
      "1. **Dolphins**: Known for their intelligence and playful behavior, dolphins are closely related to whales and are found in oceans worldwide.\n",
      "\n",
      "2. **Porpoises**: Similar to dolphins but generally smaller and with different facial features, porpoises are also part of the cetacean family.\n",
      "\n",
      "3. **Seals**: These pinnipeds are agile swimmers and can be found in various climates, from polar regions to temperate waters.\n",
      "\n",
      "4. **Sea Lions**: Often confused with seals, sea lions have external ear flaps and are known for their loud barking and ability to \"walk\" on land using their flippers.\n",
      "\n",
      "5. **Walruses**: Recognizable by their long tusks and whiskers, walruses are primarily found in Arctic regions.\n",
      "\n",
      "6. **Manatees**: Also known as sea cows, manatees are gentle, slow-moving herbivores found in warm coastal waters and rivers.\n",
      "\n",
      "7. **Dugongs**: Similar to manatees, dugongs primarily inhabit warm coastal waters in the Indian and Pacific Oceans.\n",
      "\n",
      "8. **Sea Otters**: While not fully marine, sea otters spend most of their time in the water and are known for using tools to open shellfish.\n",
      "\n",
      "Each of these marine mammals has unique adaptations and behaviors that make them interesting subjects of study.\n"
     ]
    }
   ],
   "source": [
    "\n",
    "\n",
    "def chat_model_node(state: MessagesState):    \n",
    "    return {\"messages\": [llm.invoke(state[\"messages\"])]}\n",
    "\n",
    "# Build graph\n",
    "builder = StateGraph(MessagesState)\n",
    "builder.add_edge(START, \"chat_model\")\n",
    "builder.add_node(\"chat_model\", chat_model_node)\n",
    "builder.add_edge(\"chat_model\", END)\n",
    "graph = builder.compile()\n",
    "\n",
    "# View\n",
    "display(Image(graph.get_graph().draw_mermaid_png()))\n",
    "# Message list with a preamble\n",
    "messages = [AIMessage(\"Hi.\", name=\"Bot\", id=\"1\")]\n",
    "messages.append(HumanMessage(\"Hi.\", name=\"Lance\", id=\"2\"))\n",
    "messages.append(AIMessage(\"So you said you were researching ocean mammals?\", name=\"Bot\", id=\"3\"))\n",
    "messages.append(HumanMessage(\"Yes, I know about whales. But what others should I learn about?\", name=\"Lance\", id=\"4\"))\n",
    "\n",
    "# Invoke\n",
    "output = graph.invoke({'messages': messages})\n",
    "for m in output['messages']:\n",
    "    m.pretty_print()"
   ]
  },
  {
   "cell_type": "markdown",
   "id": "f506457d-014b-4fee-a684-e5edfb4b8f0d",
   "metadata": {},
   "source": [
    "## Filtering messages\n",
    "\n",
    "If you don't need or want to modify the graph state, you can just filter the messages you pass to the chat model.\n",
    "\n",
    "For example, just pass in a filtered list: `llm.invoke(messages[-1:])` to the model."
   ]
  },
  {
   "cell_type": "code",
   "execution_count": 17,
   "id": "22d0b904-7cd6-486b-8948-105bee3d4683",
   "metadata": {},
   "outputs": [
    {
     "data": {
      "image/png": "[encoded data removed]",
      "text/plain": [
       "<IPython.core.display.Image object>"
      ]
     },
     "metadata": {},
     "output_type": "display_data"
    }
   ],
   "source": [
    "# Node\n",
    "def chat_model_node(state: MessagesState):\n",
    "    return {\"messages\": [llm.invoke(state[\"messages\"][-1:])]}\n",
    "\n",
    "# Build graph\n",
    "builder = StateGraph(MessagesState)\n",
    "builder.add_node(\"chat_model\", chat_model_node)\n",
    "builder.add_edge(START, \"chat_model\")\n",
    "builder.add_edge(\"chat_model\", END)\n",
    "graph = builder.compile()\n",
    "\n",
    "# View\n",
    "display(Image(graph.get_graph().draw_mermaid_png()))"
   ]
  },
  {
   "cell_type": "markdown",
   "id": "6f58c6fc-532f-418d-b70a-cfcb3307daf5",
   "metadata": {},
   "source": [
    "Let's take our existing list of messages, append the above LLM response, and append a follow-up question."
   ]
  },
  {
   "cell_type": "code",
   "execution_count": 18,
   "id": "16956015-1dbe-4108-89b5-4209b68b51ca",
   "metadata": {},
   "outputs": [],
   "source": [
    "messages.append(output['messages'][-1])\n",
    "messages.append(HumanMessage(f\"Tell me more about Narwhals!\", name=\"Lance\"))"
   ]
  },
  {
   "cell_type": "code",
   "execution_count": 19,
   "id": "85563415-c085-46a8-a4ac-155df798c54e",
   "metadata": {},
   "outputs": [
    {
     "name": "stdout",
     "output_type": "stream",
     "text": [
      "==================================\u001b[1m Ai Message \u001b[0m==================================\n",
      "Name: Bot\n",
      "\n",
      "So you said you were researching ocean mammals?\n",
      "================================\u001b[1m Human Message \u001b[0m=================================\n",
      "Name: Lance\n",
      "\n",
      "Yes, I know about whales. But what others should I learn about?\n",
      "==================================\u001b[1m Ai Message \u001b[0m==================================\n",
      "\n",
      "In addition to whales, there are several other fascinating ocean mammals you might want to explore:\n",
      "\n",
      "1. **Dolphins** - These highly intelligent creatures are known for their playful behavior. They often travel in groups called pods and use echolocation to navigate and hunt.\n",
      "\n",
      "2. **Porpoises** - Similar to dolphins, porpoises are smaller and have different facial structures and teeth. They are shy creatures and usually avoid boats.\n",
      "\n",
      "3. **Seals** - Seals are pinnipeds, semi-aquatic mammals that are excellent swimmers. True seals, also known as earless seals, have flippers and are known for their blubber, which keeps them warm.\n",
      "\n",
      "4. **Sea Lions** - Unlike true seals, sea lions have external ear flaps and larger flippers that allow them to \"walk\" on land. They are very social animals.\n",
      "\n",
      "5. **Walruses** - Distinctive for their long tusks, walruses are social animals found in Arctic waters. They use their tusks for various purposes, including breaking ice and pulling themselves out of the water.\n",
      "\n",
      "6. **Manatees** - Often referred to as sea cows, manatees are gentle, slow-moving herbivores that graze on seagrass and other aquatic plants.\n",
      "\n",
      "7. **Dugongs** - Similar to manatees, dugongs are also herbivorous marine mammals. They are found in warm coastal waters from the western Pacific Ocean to the eastern coast of Africa.\n",
      "\n",
      "8. **Sea Otters** - While not living in the open ocean, sea otters are marine mammals found primarily on the coasts. They are known for their use of tools and dense fur, which keeps them warm.\n",
      "\n",
      "Each of these mammals has unique adaptations that suit their aquatic lifestyle, making them interesting subjects of study for anyone interested in marine life.\n",
      "================================\u001b[1m Human Message \u001b[0m=================================\n",
      "Name: Lance\n",
      "\n",
      "Tell me more about Narwhals!\n"
     ]
    }
   ],
   "source": [
    "for m in messages:\n",
    "    m.pretty_print()"
   ]
  },
  {
   "cell_type": "code",
   "execution_count": 20,
   "id": "23349705-a059-47b5-9760-d8f64e687393",
   "metadata": {},
   "outputs": [
    {
     "name": "stdout",
     "output_type": "stream",
     "text": [
      "==================================\u001b[1m Ai Message \u001b[0m==================================\n",
      "Name: Bot\n",
      "\n",
      "So you said you were researching ocean mammals?\n",
      "================================\u001b[1m Human Message \u001b[0m=================================\n",
      "Name: Lance\n",
      "\n",
      "Yes, I know about whales. But what others should I learn about?\n",
      "==================================\u001b[1m Ai Message \u001b[0m==================================\n",
      "\n",
      "In addition to whales, there are several other fascinating ocean mammals you might want to explore:\n",
      "\n",
      "1. **Dolphins** - These highly intelligent creatures are known for their playful behavior. They often travel in groups called pods and use echolocation to navigate and hunt.\n",
      "\n",
      "2. **Porpoises** - Similar to dolphins, porpoises are smaller and have different facial structures and teeth. They are shy creatures and usually avoid boats.\n",
      "\n",
      "3. **Seals** - Seals are pinnipeds, semi-aquatic mammals that are excellent swimmers. True seals, also known as earless seals, have flippers and are known for their blubber, which keeps them warm.\n",
      "\n",
      "4. **Sea Lions** - Unlike true seals, sea lions have external ear flaps and larger flippers that allow them to \"walk\" on land. They are very social animals.\n",
      "\n",
      "5. **Walruses** - Distinctive for their long tusks, walruses are social animals found in Arctic waters. They use their tusks for various purposes, including breaking ice and pulling themselves out of the water.\n",
      "\n",
      "6. **Manatees** - Often referred to as sea cows, manatees are gentle, slow-moving herbivores that graze on seagrass and other aquatic plants.\n",
      "\n",
      "7. **Dugongs** - Similar to manatees, dugongs are also herbivorous marine mammals. They are found in warm coastal waters from the western Pacific Ocean to the eastern coast of Africa.\n",
      "\n",
      "8. **Sea Otters** - While not living in the open ocean, sea otters are marine mammals found primarily on the coasts. They are known for their use of tools and dense fur, which keeps them warm.\n",
      "\n",
      "Each of these mammals has unique adaptations that suit their aquatic lifestyle, making them interesting subjects of study for anyone interested in marine life.\n",
      "================================\u001b[1m Human Message \u001b[0m=================================\n",
      "Name: Lance\n",
      "\n",
      "Tell me more about Narwhals!\n",
      "==================================\u001b[1m Ai Message \u001b[0m==================================\n",
      "\n",
      "Narwhals, often referred to as the \"unicorns of the sea,\" are fascinating marine mammals known for their distinctive tusk. Here are some interesting facts about them:\n",
      "\n",
      "1. **Scientific Classification**: Narwhals belong to the Monodontidae family, which they share with belugas. Their scientific name is *Monodon monoceros*.\n",
      "\n",
      "2. **Habitat**: These creatures are typically found in the Arctic waters around Canada, Greenland, Norway, and Russia. They are particularly abundant in the Baffin Bay, a region between Greenland and Canada.\n",
      "\n",
      "3. **Physical Characteristics**: \n",
      "   - The most notable feature of the narwhal is its long, spiral tusk. This tusk is an elongated upper left canine that can grow up to 10 feet (3 meters) in males and, occasionally, in females as well. \n",
      "   - Narwhals have a sleek, spotted appearance with variations of black and white as well as grey, which helps with camouflage in their icy habitats.\n",
      "\n",
      "4. **Tusk Function**: The exact purpose of the tusk is still a subject of study, but it is believed to have various functions, including social dominance, mate attraction, and sensory perception. Recent studies suggest it may have sensory capabilities, as the tusk is packed with nerve endings.\n",
      "\n",
      "5. **Diet**: Narwhals primarily feed on fish like Arctic cod and Greenland halibut, as well as squid and shrimp. They are deep divers, often diving to depths of over 1,500 meters (4,900 feet) to hunt for food.\n",
      "\n",
      "6. **Behavior and Social Structure**: Narwhals usually travel in groups, known as pods, typically consisting of 10 to 20 individuals, although larger gatherings can occur. These pods often follow a seasonal migratory pattern, moving near the shore in summer and returning to deeper waters beneath the ice during the winter.\n",
      "\n",
      "7. **Conservation Status**: Narwhals face several threats, including climate change, which affects their icy habitat, as well as increased maritime activity in the Arctic region. They are currently classified as \"Near Threatened\" by the International Union for Conservation of Nature (IUCN).\n",
      "\n",
      "8. **Cultural Significance**: Historically, narwhal tusks were highly prized by European nobility, who considered them the horns of mythical unicorns. They have significant cultural and spiritual importance for Indigenous Arctic communities.\n",
      "\n",
      "9. **Research and Study**: Ongoing research focuses on understanding narwhal behavior, migration patterns, and their role in the ecosystem, especially given the rapid environmental changes in the Arctic regions which impact their habitat significantly.\n",
      "\n",
      "Narwhals remain an intriguing topic for marine biologists and continue to captivate the imagination of people worldwide with their mystical appearance and elusive nature.\n"
     ]
    }
   ],
   "source": [
    "# Invoke, using message filtering\n",
    "output = graph.invoke({'messages': messages})\n",
    "for m in output['messages']:\n",
    "    m.pretty_print()"
   ]
  },
  {
   "cell_type": "markdown",
   "id": "42e1d8d2-e297-4d78-b54c-d12b3c866745",
   "metadata": {},
   "source": [
    "The state has all of the mesages.\n",
    "\n",
    "But, let's look at the LangSmith trace to see that the model invocation only uses the last message:\n",
    "\n",
    "https://smith.langchain.com/public/75aca3ce-ef19-4b92-94be-0178c7a660d9/r"
   ]
  },
  {
   "cell_type": "markdown",
   "id": "fc40d930-3c1f-47fe-8d2a-ce174873353c",
   "metadata": {},
   "source": [
    "## Trim messages\n",
    "\n",
    "Another approach is to [trim messages](https://python.langchain.com/v0.2/docs/how_to/trim_messages/#getting-the-last-max_tokens-tokens), based upon a set number of tokens. \n",
    "\n",
    "This restricts the message history to a specified number of tokens.\n",
    "\n",
    "While filtering only returns a post-hoc subset of the messages between agents, trimming restricts the number of tokens that a chat model can use to respond.\n",
    "\n",
    "See the `trim_messages` below."
   ]
  },
  {
   "cell_type": "code",
   "execution_count": 24,
   "id": "2ff99b81-cf03-4cc2-b44f-44829a73e1fd",
   "metadata": {},
   "outputs": [
    {
     "data": {
      "image/png": "[encoded data removed]",
      "text/plain": [
       "<IPython.core.display.Image object>"
      ]
     },
     "metadata": {},
     "output_type": "display_data"
    }
   ],
   "source": [
    "from langchain_core.messages import trim_messages\n",
    "\n",
    "# Node\n",
    "def chat_model_node(state: MessagesState):\n",
    "    messages = trim_messages(\n",
    "            state[\"messages\"],\n",
    "            max_tokens=100,\n",
    "            strategy=\"last\",\n",
    "            token_counter=ChatOpenAI(model=\"gpt-4o\"),\n",
    "            allow_partial=False,\n",
    "        )\n",
    "    return {\"messages\": [llm.invoke(messages)]}\n",
    "\n",
    "# Build graph\n",
    "builder = StateGraph(MessagesState)\n",
    "builder.add_node(\"chat_model\", chat_model_node)\n",
    "builder.add_edge(START, \"chat_model\")\n",
    "builder.add_edge(\"chat_model\", END)\n",
    "graph = builder.compile()\n",
    "\n",
    "# View\n",
    "display(Image(graph.get_graph().draw_mermaid_png()))"
   ]
  },
  {
   "cell_type": "code",
   "execution_count": 22,
   "id": "24df63ac-da29-4874-b3df-7e390e97cc8a",
   "metadata": {},
   "outputs": [],
   "source": [
    "messages.append(output['messages'][-1])\n",
    "messages.append(HumanMessage(f\"Tell me where Orcas live!\", name=\"Lance\"))"
   ]
  },
  {
   "cell_type": "code",
   "execution_count": 25,
   "id": "6d9d8971-c75c-43ca-a209-eb1d07b2ead0",
   "metadata": {},
   "outputs": [
    {
     "data": {
      "text/plain": [
       "[HumanMessage(content='Tell me where Orcas live!', additional_kwargs={}, response_metadata={}, name='Lance')]"
      ]
     },
     "execution_count": 25,
     "metadata": {},
     "output_type": "execute_result"
    }
   ],
   "source": [
    "# Example of trimming messages\n",
    "trim_messages(\n",
    "            messages,\n",
    "            max_tokens=100,\n",
    "            strategy=\"last\",\n",
    "            token_counter=ChatOpenAI(model=\"gpt-4o\"),\n",
    "            allow_partial=False\n",
    "        )"
   ]
  },
  {
   "cell_type": "code",
   "execution_count": 26,
   "id": "ed70a269-a869-4fa0-a1df-29736a432c51",
   "metadata": {},
   "outputs": [],
   "source": [
    "# Invoke, using message trimming in the chat_model_node \n",
    "messages_out_trim = graph.invoke({'messages': messages})"
   ]
  },
  {
   "cell_type": "markdown",
   "id": "38b3db67-380e-46b5-9a6a-20100ba52008",
   "metadata": {},
   "source": [
    "Let's look at the LangSmith trace to see the model invocation:\n",
    "\n",
    "https://smith.langchain.com/public/b153f7e9-f1a5-4d60-8074-f0d7ab5b42ef/r"
   ]
  }
 ],
 "metadata": {
  "kernelspec": {
   "display_name": "lc-academy-env (3.13.8)",
   "language": "python",
   "name": "python3"
  },
  "language_info": {
   "codemirror_mode": {
    "name": "ipython",
    "version": 3
   },
   "file_extension": ".py",
   "mimetype": "text/x-python",
   "name": "python",
   "nbconvert_exporter": "python",
   "pygments_lexer": "ipython3",
   "version": "3.13.9"
  }
 },
 "nbformat": 4,
 "nbformat_minor": 5
}
